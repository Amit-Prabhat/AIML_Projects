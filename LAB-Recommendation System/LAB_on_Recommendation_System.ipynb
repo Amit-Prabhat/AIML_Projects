{
 "cells": [
  {
   "cell_type": "markdown",
   "metadata": {
    "id": "9TVXldXJxuTF"
   },
   "source": [
    "<img src=\"http://drive.google.com/uc?export=view&id=1tpOCamr9aWz817atPnyXus8w5gJ3mIts\" width=500px>"
   ]
  },
  {
   "cell_type": "markdown",
   "metadata": {
    "id": "kVC7Q1bgxuTO"
   },
   "source": [
    "- - - - - - - - - - - - - - - - - - - - - - - - - - - - - - - - - - - - - - - - - - - - - -\n",
    "\n",
    "#  Top-n list of restaurants on consumer preference\n",
    "\n",
    "### INDUSTRY CASE STUDY - Popularity based + Collborative Filtering Based Recommendation system\n",
    "- - - - - - - - - - - - - - - - - - - - - - - - - - - - - - - - - - - - - - - - - - - - - -"
   ]
  },
  {
   "cell_type": "markdown",
   "metadata": {
    "id": "sA774AvSxuTQ"
   },
   "source": [
    "- - - - - - - - - - - - - - - - - - - - - - - - - - - - - - - - - - - - - - - - - - - - - -\n",
    "\n",
    "## Case study problem statement:\n",
    "\n",
    "### Context:\n",
    "\n",
    "The dataset was obtained from a recommender system prototype. The task was to generate a top-n list of restaurants according to \n",
    "the consumer preferences.\n",
    "\n",
    "\n",
    "### Input data details : https://archive.ics.uci.edu/ml/machine-learning-databases/00232/\n",
    "\n",
    "(In here you will find rating_final.csv inside RCdata folder to be used)\n",
    "\n",
    "### Expected output details: Restaurant recommendation system\n",
    "\n",
    "- - - - - - - - - - - - - - - - - - - - - - - - - - - - - - - - - - - - - - - - - - - - - -"
   ]
  },
  {
   "cell_type": "markdown",
   "metadata": {
    "id": "PG7yaf3UxuTR"
   },
   "source": [
    "### Steps\n",
    "\n",
    "#### 1. Input libraries\n",
    "\n",
    "#### 2. Data Analysis and preparation\n",
    "\n",
    "#### 3. Popularity based Recommendation System\n",
    "\n",
    "#### 4. Collaborative Filtering Recommendation System\n",
    "\n",
    "#### 5. Insights\n",
    "\n",
    "#### 6. Optional"
   ]
  },
  {
   "cell_type": "markdown",
   "metadata": {
    "id": "_HEIM-wvxuTS"
   },
   "source": [
    "### 1. Input libraries"
   ]
  },
  {
   "cell_type": "code",
   "execution_count": 1,
   "metadata": {
    "colab": {
     "base_uri": "https://localhost:8080/"
    },
    "id": "LYoCLSTvyJls",
    "outputId": "0a608d93-4c86-4d59-cd68-f0a8ca827f97"
   },
   "outputs": [
    {
     "name": "stdout",
     "output_type": "stream",
     "text": [
      "Mounted at /content/drive\n"
     ]
    }
   ],
   "source": [
    "from google.colab import drive\n",
    "drive.mount('/content/drive')"
   ]
  },
  {
   "cell_type": "code",
   "execution_count": 2,
   "metadata": {
    "colab": {
     "base_uri": "https://localhost:8080/"
    },
    "id": "NfZVcKquycQl",
    "outputId": "cb72d0ff-f7dc-41ad-91d7-87c84eff1997"
   },
   "outputs": [
    {
     "name": "stdout",
     "output_type": "stream",
     "text": [
      "Collecting surprise\n",
      "  Downloading https://files.pythonhosted.org/packages/61/de/e5cba8682201fcf9c3719a6fdda95693468ed061945493dea2dd37c5618b/surprise-0.1-py2.py3-none-any.whl\n",
      "Collecting scikit-surprise\n",
      "\u001b[?25l  Downloading https://files.pythonhosted.org/packages/97/37/5d334adaf5ddd65da99fc65f6507e0e4599d092ba048f4302fe8775619e8/scikit-surprise-1.1.1.tar.gz (11.8MB)\n",
      "\u001b[K     |████████████████████████████████| 11.8MB 5.7MB/s \n",
      "\u001b[?25hRequirement already satisfied: joblib>=0.11 in /usr/local/lib/python3.7/dist-packages (from scikit-surprise->surprise) (1.0.1)\n",
      "Requirement already satisfied: numpy>=1.11.2 in /usr/local/lib/python3.7/dist-packages (from scikit-surprise->surprise) (1.19.5)\n",
      "Requirement already satisfied: scipy>=1.0.0 in /usr/local/lib/python3.7/dist-packages (from scikit-surprise->surprise) (1.4.1)\n",
      "Requirement already satisfied: six>=1.10.0 in /usr/local/lib/python3.7/dist-packages (from scikit-surprise->surprise) (1.15.0)\n",
      "Building wheels for collected packages: scikit-surprise\n",
      "  Building wheel for scikit-surprise (setup.py) ... \u001b[?25l\u001b[?25hdone\n",
      "  Created wheel for scikit-surprise: filename=scikit_surprise-1.1.1-cp37-cp37m-linux_x86_64.whl size=1617552 sha256=d58b539ea0509ad0b811e6f29c47572acde116dbbe3a4002115700e9090b674c\n",
      "  Stored in directory: /root/.cache/pip/wheels/78/9c/3d/41b419c9d2aff5b6e2b4c0fc8d25c538202834058f9ed110d0\n",
      "Successfully built scikit-surprise\n",
      "Installing collected packages: scikit-surprise, surprise\n",
      "Successfully installed scikit-surprise-1.1.1 surprise-0.1\n"
     ]
    }
   ],
   "source": [
    "!pip install surprise"
   ]
  },
  {
   "cell_type": "code",
   "execution_count": 3,
   "metadata": {
    "id": "r8jY0TRU6Rf_"
   },
   "outputs": [],
   "source": [
    "import numpy as np\n",
    "import pandas as pd\n",
    "import math\n",
    "import json\n",
    "import time\n",
    "import matplotlib.pyplot as plt\n",
    "import seaborn as sns\n",
    "import warnings; warnings.simplefilter('ignore')\n",
    "%matplotlib inline\n",
    "\n",
    "from surprise import Dataset \n",
    "from surprise import Reader\n",
    "from surprise.model_selection import train_test_split\n",
    "from surprise import accuracy\n",
    "from surprise.model_selection import GridSearchCV,RandomizedSearchCV\n",
    "from sklearn.metrics import confusion_matrix, precision_score, recall_score,classification_report"
   ]
  },
  {
   "cell_type": "markdown",
   "metadata": {
    "id": "qhaC3BbnxuTV"
   },
   "source": [
    "## 2. Data Analysis and preparation"
   ]
  },
  {
   "cell_type": "markdown",
   "metadata": {
    "id": "c_JKFU2a2-VH"
   },
   "source": [
    "### 2.1 Read the dataset and check info to understand the dataset"
   ]
  },
  {
   "cell_type": "code",
   "execution_count": 67,
   "metadata": {
    "id": "RFpcM7zj3TE2"
   },
   "outputs": [],
   "source": [
    "df= pd.read_csv('/content/drive/MyDrive/Recommendation model/restaurant+rating_final.csv')"
   ]
  },
  {
   "cell_type": "code",
   "execution_count": 68,
   "metadata": {
    "colab": {
     "base_uri": "https://localhost:8080/",
     "height": 204
    },
    "id": "448fYVE528Qd",
    "outputId": "140fea74-8cd5-4f22-cffc-39deea7972f8"
   },
   "outputs": [
    {
     "data": {
      "text/html": [
       "<div>\n",
       "<style scoped>\n",
       "    .dataframe tbody tr th:only-of-type {\n",
       "        vertical-align: middle;\n",
       "    }\n",
       "\n",
       "    .dataframe tbody tr th {\n",
       "        vertical-align: top;\n",
       "    }\n",
       "\n",
       "    .dataframe thead th {\n",
       "        text-align: right;\n",
       "    }\n",
       "</style>\n",
       "<table border=\"1\" class=\"dataframe\">\n",
       "  <thead>\n",
       "    <tr style=\"text-align: right;\">\n",
       "      <th></th>\n",
       "      <th>userID</th>\n",
       "      <th>placeID</th>\n",
       "      <th>rating</th>\n",
       "      <th>food_rating</th>\n",
       "      <th>service_rating</th>\n",
       "    </tr>\n",
       "  </thead>\n",
       "  <tbody>\n",
       "    <tr>\n",
       "      <th>0</th>\n",
       "      <td>U1077</td>\n",
       "      <td>135085</td>\n",
       "      <td>2</td>\n",
       "      <td>2</td>\n",
       "      <td>2</td>\n",
       "    </tr>\n",
       "    <tr>\n",
       "      <th>1</th>\n",
       "      <td>U1077</td>\n",
       "      <td>135038</td>\n",
       "      <td>2</td>\n",
       "      <td>2</td>\n",
       "      <td>1</td>\n",
       "    </tr>\n",
       "    <tr>\n",
       "      <th>2</th>\n",
       "      <td>U1077</td>\n",
       "      <td>132825</td>\n",
       "      <td>2</td>\n",
       "      <td>2</td>\n",
       "      <td>2</td>\n",
       "    </tr>\n",
       "    <tr>\n",
       "      <th>3</th>\n",
       "      <td>U1077</td>\n",
       "      <td>135060</td>\n",
       "      <td>1</td>\n",
       "      <td>2</td>\n",
       "      <td>2</td>\n",
       "    </tr>\n",
       "    <tr>\n",
       "      <th>4</th>\n",
       "      <td>U1068</td>\n",
       "      <td>135104</td>\n",
       "      <td>1</td>\n",
       "      <td>1</td>\n",
       "      <td>2</td>\n",
       "    </tr>\n",
       "  </tbody>\n",
       "</table>\n",
       "</div>"
      ],
      "text/plain": [
       "  userID  placeID  rating  food_rating  service_rating\n",
       "0  U1077   135085       2            2               2\n",
       "1  U1077   135038       2            2               1\n",
       "2  U1077   132825       2            2               2\n",
       "3  U1077   135060       1            2               2\n",
       "4  U1068   135104       1            1               2"
      ]
     },
     "execution_count": 68,
     "metadata": {
      "tags": []
     },
     "output_type": "execute_result"
    }
   ],
   "source": [
    "df.head()"
   ]
  },
  {
   "cell_type": "code",
   "execution_count": 69,
   "metadata": {
    "colab": {
     "base_uri": "https://localhost:8080/"
    },
    "id": "I4zEINPR2c_g",
    "outputId": "8f5135bb-7535-4622-d1a0-8ae8e7708e5c"
   },
   "outputs": [
    {
     "name": "stdout",
     "output_type": "stream",
     "text": [
      "<class 'pandas.core.frame.DataFrame'>\n",
      "RangeIndex: 1161 entries, 0 to 1160\n",
      "Data columns (total 5 columns):\n",
      " #   Column          Non-Null Count  Dtype \n",
      "---  ------          --------------  ----- \n",
      " 0   userID          1161 non-null   object\n",
      " 1   placeID         1161 non-null   int64 \n",
      " 2   rating          1161 non-null   int64 \n",
      " 3   food_rating     1161 non-null   int64 \n",
      " 4   service_rating  1161 non-null   int64 \n",
      "dtypes: int64(4), object(1)\n",
      "memory usage: 45.5+ KB\n"
     ]
    }
   ],
   "source": [
    "df.info()"
   ]
  },
  {
   "cell_type": "markdown",
   "metadata": {
    "id": "OCfC2p9d3TSy"
   },
   "source": [
    "### 2.2 Check statistical summary and write your observations"
   ]
  },
  {
   "cell_type": "code",
   "execution_count": 70,
   "metadata": {
    "colab": {
     "base_uri": "https://localhost:8080/",
     "height": 390
    },
    "id": "ttvgrp1q3ZL1",
    "outputId": "9e9acecd-90aa-4d55-df80-abc2c5fe0c9d"
   },
   "outputs": [
    {
     "data": {
      "text/html": [
       "<div>\n",
       "<style scoped>\n",
       "    .dataframe tbody tr th:only-of-type {\n",
       "        vertical-align: middle;\n",
       "    }\n",
       "\n",
       "    .dataframe tbody tr th {\n",
       "        vertical-align: top;\n",
       "    }\n",
       "\n",
       "    .dataframe thead th {\n",
       "        text-align: right;\n",
       "    }\n",
       "</style>\n",
       "<table border=\"1\" class=\"dataframe\">\n",
       "  <thead>\n",
       "    <tr style=\"text-align: right;\">\n",
       "      <th></th>\n",
       "      <th>userID</th>\n",
       "      <th>placeID</th>\n",
       "      <th>rating</th>\n",
       "      <th>food_rating</th>\n",
       "      <th>service_rating</th>\n",
       "    </tr>\n",
       "  </thead>\n",
       "  <tbody>\n",
       "    <tr>\n",
       "      <th>count</th>\n",
       "      <td>1161</td>\n",
       "      <td>1161.000000</td>\n",
       "      <td>1161.000000</td>\n",
       "      <td>1161.000000</td>\n",
       "      <td>1161.000000</td>\n",
       "    </tr>\n",
       "    <tr>\n",
       "      <th>unique</th>\n",
       "      <td>138</td>\n",
       "      <td>NaN</td>\n",
       "      <td>NaN</td>\n",
       "      <td>NaN</td>\n",
       "      <td>NaN</td>\n",
       "    </tr>\n",
       "    <tr>\n",
       "      <th>top</th>\n",
       "      <td>U1061</td>\n",
       "      <td>NaN</td>\n",
       "      <td>NaN</td>\n",
       "      <td>NaN</td>\n",
       "      <td>NaN</td>\n",
       "    </tr>\n",
       "    <tr>\n",
       "      <th>freq</th>\n",
       "      <td>18</td>\n",
       "      <td>NaN</td>\n",
       "      <td>NaN</td>\n",
       "      <td>NaN</td>\n",
       "      <td>NaN</td>\n",
       "    </tr>\n",
       "    <tr>\n",
       "      <th>mean</th>\n",
       "      <td>NaN</td>\n",
       "      <td>134192.041344</td>\n",
       "      <td>1.199828</td>\n",
       "      <td>1.215332</td>\n",
       "      <td>1.090439</td>\n",
       "    </tr>\n",
       "    <tr>\n",
       "      <th>std</th>\n",
       "      <td>NaN</td>\n",
       "      <td>1100.916275</td>\n",
       "      <td>0.773282</td>\n",
       "      <td>0.792294</td>\n",
       "      <td>0.790844</td>\n",
       "    </tr>\n",
       "    <tr>\n",
       "      <th>min</th>\n",
       "      <td>NaN</td>\n",
       "      <td>132560.000000</td>\n",
       "      <td>0.000000</td>\n",
       "      <td>0.000000</td>\n",
       "      <td>0.000000</td>\n",
       "    </tr>\n",
       "    <tr>\n",
       "      <th>25%</th>\n",
       "      <td>NaN</td>\n",
       "      <td>132856.000000</td>\n",
       "      <td>1.000000</td>\n",
       "      <td>1.000000</td>\n",
       "      <td>0.000000</td>\n",
       "    </tr>\n",
       "    <tr>\n",
       "      <th>50%</th>\n",
       "      <td>NaN</td>\n",
       "      <td>135030.000000</td>\n",
       "      <td>1.000000</td>\n",
       "      <td>1.000000</td>\n",
       "      <td>1.000000</td>\n",
       "    </tr>\n",
       "    <tr>\n",
       "      <th>75%</th>\n",
       "      <td>NaN</td>\n",
       "      <td>135059.000000</td>\n",
       "      <td>2.000000</td>\n",
       "      <td>2.000000</td>\n",
       "      <td>2.000000</td>\n",
       "    </tr>\n",
       "    <tr>\n",
       "      <th>max</th>\n",
       "      <td>NaN</td>\n",
       "      <td>135109.000000</td>\n",
       "      <td>2.000000</td>\n",
       "      <td>2.000000</td>\n",
       "      <td>2.000000</td>\n",
       "    </tr>\n",
       "  </tbody>\n",
       "</table>\n",
       "</div>"
      ],
      "text/plain": [
       "       userID        placeID       rating  food_rating  service_rating\n",
       "count    1161    1161.000000  1161.000000  1161.000000     1161.000000\n",
       "unique    138            NaN          NaN          NaN             NaN\n",
       "top     U1061            NaN          NaN          NaN             NaN\n",
       "freq       18            NaN          NaN          NaN             NaN\n",
       "mean      NaN  134192.041344     1.199828     1.215332        1.090439\n",
       "std       NaN    1100.916275     0.773282     0.792294        0.790844\n",
       "min       NaN  132560.000000     0.000000     0.000000        0.000000\n",
       "25%       NaN  132856.000000     1.000000     1.000000        0.000000\n",
       "50%       NaN  135030.000000     1.000000     1.000000        1.000000\n",
       "75%       NaN  135059.000000     2.000000     2.000000        2.000000\n",
       "max       NaN  135109.000000     2.000000     2.000000        2.000000"
      ]
     },
     "execution_count": 70,
     "metadata": {
      "tags": []
     },
     "output_type": "execute_result"
    }
   ],
   "source": [
    "df.describe(include='all')"
   ]
  },
  {
   "cell_type": "markdown",
   "metadata": {
    "id": "cclzPSxu_l1z"
   },
   "source": [
    "\n",
    "\n",
    "*   There are 138 Unique user\n",
    "*   U1061\tis the highest rater\n",
    "\n",
    "*   The number of time the top user rated is 18\n",
    "*   The highest rating is 2 and ranges from 0 to 2"
   ]
  },
  {
   "cell_type": "markdown",
   "metadata": {
    "id": "Ht2vzMvQ3Ze-"
   },
   "source": [
    "### 2.3 Check if there are any missing values"
   ]
  },
  {
   "cell_type": "code",
   "execution_count": 71,
   "metadata": {
    "colab": {
     "base_uri": "https://localhost:8080/"
    },
    "id": "RgN9G17l3fcx",
    "outputId": "90943a55-f63d-42fc-afe7-8e1388c0db40"
   },
   "outputs": [
    {
     "data": {
      "text/plain": [
       "userID            0\n",
       "placeID           0\n",
       "rating            0\n",
       "food_rating       0\n",
       "service_rating    0\n",
       "dtype: int64"
      ]
     },
     "execution_count": 71,
     "metadata": {
      "tags": []
     },
     "output_type": "execute_result"
    }
   ],
   "source": [
    "df.isna().sum()"
   ]
  },
  {
   "cell_type": "markdown",
   "metadata": {
    "id": "2_Xlfy0Y3mO-"
   },
   "source": [
    "### 2.4 Check minimum and maximum values for rating feature. Display its frequency distribution using appropriate graph"
   ]
  },
  {
   "cell_type": "code",
   "execution_count": 72,
   "metadata": {
    "colab": {
     "base_uri": "https://localhost:8080/",
     "height": 313
    },
    "id": "a_DPMHKv36pL",
    "outputId": "db6cd03d-0643-40fc-c185-b090adafa7bb"
   },
   "outputs": [
    {
     "name": "stdout",
     "output_type": "stream",
     "text": [
      "min = 0\n",
      "max = 2\n"
     ]
    },
    {
     "data": {
      "image/png": "[encoded data removed]",
      "text/plain": [
       "<Figure size 432x288 with 1 Axes>"
      ]
     },
     "metadata": {
      "needs_background": "light",
      "tags": []
     },
     "output_type": "display_data"
    }
   ],
   "source": [
    "print('min =',df['rating'].min())\n",
    "print('max =',df['rating'].max())\n",
    "sns.countplot(data=df, x=df['rating'])\n",
    "plt.show()"
   ]
  },
  {
   "cell_type": "code",
   "execution_count": 73,
   "metadata": {
    "colab": {
     "base_uri": "https://localhost:8080/",
     "height": 483
    },
    "id": "cQgoyPdEDUjy",
    "outputId": "23c3e12b-a9a8-4884-ce33-95ebba379f06"
   },
   "outputs": [
    {
     "data": {
      "text/plain": [
       "<matplotlib.axes._subplots.AxesSubplot at 0x7f5096f71850>"
      ]
     },
     "execution_count": 73,
     "metadata": {
      "tags": []
     },
     "output_type": "execute_result"
    },
    {
     "data": {
      "image/png": "[encoded data removed]",
      "text/plain": [
       "<Figure size 720x576 with 1 Axes>"
      ]
     },
     "metadata": {
      "tags": []
     },
     "output_type": "display_data"
    }
   ],
   "source": [
    "df['rating'].value_counts().plot(kind='pie', autopct = '%0.1f%%', figsize = (10,8))"
   ]
  },
  {
   "cell_type": "markdown",
   "metadata": {
    "id": "mMRpRkFd363Z"
   },
   "source": [
    "### 2.5 Check number of unique users and items (places) in the data"
   ]
  },
  {
   "cell_type": "code",
   "execution_count": 74,
   "metadata": {
    "colab": {
     "base_uri": "https://localhost:8080/"
    },
    "id": "dXxMEa8Y4CqD",
    "outputId": "5d52a3a9-245a-4384-8fc9-d0c3b36e2a0f"
   },
   "outputs": [
    {
     "data": {
      "text/plain": [
       "138"
      ]
     },
     "execution_count": 74,
     "metadata": {
      "tags": []
     },
     "output_type": "execute_result"
    }
   ],
   "source": [
    "df['userID'].nunique()"
   ]
  },
  {
   "cell_type": "code",
   "execution_count": 75,
   "metadata": {
    "colab": {
     "base_uri": "https://localhost:8080/"
    },
    "id": "ludeGSD3EqKL",
    "outputId": "10f85c8d-83ea-4f4f-8c92-06b898405f1b"
   },
   "outputs": [
    {
     "data": {
      "text/plain": [
       "130"
      ]
     },
     "execution_count": 75,
     "metadata": {
      "tags": []
     },
     "output_type": "execute_result"
    }
   ],
   "source": [
    "df['placeID'].nunique()"
   ]
  },
  {
   "cell_type": "markdown",
   "metadata": {
    "id": "cNjV-jOj4FA7"
   },
   "source": [
    "### 2.6 Sort users by their number of ratings and display top 10 users who have given most number of ratings"
   ]
  },
  {
   "cell_type": "markdown",
   "metadata": {
    "id": "kJ_t6YtHDTmg"
   },
   "source": []
  },
  {
   "cell_type": "code",
   "execution_count": 76,
   "metadata": {
    "colab": {
     "base_uri": "https://localhost:8080/"
    },
    "id": "nrAp9Z6N4V1d",
    "outputId": "e888f392-997a-47b0-e96e-50075a119c65"
   },
   "outputs": [
    {
     "data": {
      "text/plain": [
       "userID\n",
       "U1061    18\n",
       "U1106    18\n",
       "U1134    16\n",
       "U1024    15\n",
       "U1022    14\n",
       "U1089    14\n",
       "U1137    14\n",
       "U1135    14\n",
       "U1003    13\n",
       "U1016    13\n",
       "Name: rating, dtype: int64"
      ]
     },
     "execution_count": 76,
     "metadata": {
      "tags": []
     },
     "output_type": "execute_result"
    }
   ],
   "source": [
    "df.groupby('userID')['rating'].count().sort_values(ascending= False).head(10)"
   ]
  },
  {
   "cell_type": "code",
   "execution_count": 77,
   "metadata": {
    "colab": {
     "base_uri": "https://localhost:8080/"
    },
    "id": "vkrAyznDG0AE",
    "outputId": "a4bee273-3ffb-4cd6-ed9b-79adb77847a4"
   },
   "outputs": [
    {
     "data": {
      "text/plain": [
       "U1061    18\n",
       "U1106    18\n",
       "U1134    16\n",
       "U1024    15\n",
       "U1022    14\n",
       "U1135    14\n",
       "U1137    14\n",
       "U1089    14\n",
       "U1071    13\n",
       "U1003    13\n",
       "Name: userID, dtype: int64"
      ]
     },
     "execution_count": 77,
     "metadata": {
      "tags": []
     },
     "output_type": "execute_result"
    }
   ],
   "source": [
    "df['userID'].value_counts().head(10)"
   ]
  },
  {
   "cell_type": "markdown",
   "metadata": {
    "id": "LZT1lvdlxuTg"
   },
   "source": [
    "### 2.7. Take subset of dataset to make it less sparse/more dense. (For example, keep the users only who has given 5 or more number of ratings). Report shape of the final dataset"
   ]
  },
  {
   "cell_type": "code",
   "execution_count": 78,
   "metadata": {
    "id": "iaFZjjbc5Sv1"
   },
   "outputs": [],
   "source": [
    "counts = df['userID'].value_counts()"
   ]
  },
  {
   "cell_type": "code",
   "execution_count": 79,
   "metadata": {
    "colab": {
     "base_uri": "https://localhost:8080/"
    },
    "id": "-ZExNcYLIPr4",
    "outputId": "5a1c6c90-be86-4114-d6d3-18c6d88165e6"
   },
   "outputs": [
    {
     "data": {
      "text/plain": [
       "(1079, 5)"
      ]
     },
     "execution_count": 79,
     "metadata": {
      "tags": []
     },
     "output_type": "execute_result"
    }
   ],
   "source": [
    "df_final= df[df['userID'].isin(counts[counts >= 5].index)]\n",
    "df_final.shape"
   ]
  },
  {
   "cell_type": "markdown",
   "metadata": {
    "id": "8eF2-XTe5m4z"
   },
   "source": [
    "### 2.8 Check number of unique users and items and comment on which kind of collaborative filtering should be applied"
   ]
  },
  {
   "cell_type": "code",
   "execution_count": 80,
   "metadata": {
    "colab": {
     "base_uri": "https://localhost:8080/"
    },
    "id": "rNBLWNI15xht",
    "outputId": "1540e6cc-2d8d-47ea-df6a-2c91e60ea73e"
   },
   "outputs": [
    {
     "data": {
      "text/plain": [
       "115"
      ]
     },
     "execution_count": 80,
     "metadata": {
      "tags": []
     },
     "output_type": "execute_result"
    }
   ],
   "source": [
    "df_final['userID'].nunique()"
   ]
  },
  {
   "cell_type": "code",
   "execution_count": 81,
   "metadata": {
    "colab": {
     "base_uri": "https://localhost:8080/"
    },
    "id": "el-h93OdKhHS",
    "outputId": "72ff91d9-d2bf-49dc-f2e7-aa71d1d0d812"
   },
   "outputs": [
    {
     "data": {
      "text/plain": [
       "129"
      ]
     },
     "execution_count": 81,
     "metadata": {
      "tags": []
     },
     "output_type": "execute_result"
    }
   ],
   "source": [
    "df_final['placeID'].nunique()"
   ]
  },
  {
   "cell_type": "markdown",
   "metadata": {
    "id": "3WogDz9cMJbb"
   },
   "source": [
    "since the count of the User and the Place is close enough so we can use any kind of collaborative filter. "
   ]
  },
  {
   "cell_type": "markdown",
   "metadata": {
    "id": "rw8VltehxuTn"
   },
   "source": [
    "## 3. Popularity Recommender model. (Non-personalised)"
   ]
  },
  {
   "cell_type": "markdown",
   "metadata": {
    "id": "Llkxcpnns3kV"
   },
   "source": [
    "### 3.1 Check count of user_id for each unique product and save it as score "
   ]
  },
  {
   "cell_type": "code",
   "execution_count": 82,
   "metadata": {
    "colab": {
     "base_uri": "https://localhost:8080/"
    },
    "id": "HxmFiPL1tCWn",
    "outputId": "e7a042e8-853d-47ef-a41f-9a0150bf11db"
   },
   "outputs": [
    {
     "data": {
      "text/plain": [
       "135085    36\n",
       "132825    32\n",
       "135032    28\n",
       "132834    25\n",
       "135052    25\n",
       "          ..\n",
       "135109     2\n",
       "132668     1\n",
       "132715     1\n",
       "134975     1\n",
       "132564     1\n",
       "Name: placeID, Length: 129, dtype: int64"
      ]
     },
     "execution_count": 82,
     "metadata": {
      "tags": []
     },
     "output_type": "execute_result"
    }
   ],
   "source": [
    "df_final['placeID'].value_counts()"
   ]
  },
  {
   "cell_type": "code",
   "execution_count": 91,
   "metadata": {
    "id": "6rmvLzIXPp7O"
   },
   "outputs": [],
   "source": [
    "data = pd.DataFrame(df_final['placeID'].value_counts()).reset_index()\n",
    "data.columns = ['placeID','Score']"
   ]
  },
  {
   "cell_type": "code",
   "execution_count": 92,
   "metadata": {
    "colab": {
     "base_uri": "https://localhost:8080/",
     "height": 359
    },
    "id": "_Z79OqxhN97c",
    "outputId": "9a9e5d65-80f1-450b-8465-8ea6e831abec"
   },
   "outputs": [
    {
     "data": {
      "text/html": [
       "<div>\n",
       "<style scoped>\n",
       "    .dataframe tbody tr th:only-of-type {\n",
       "        vertical-align: middle;\n",
       "    }\n",
       "\n",
       "    .dataframe tbody tr th {\n",
       "        vertical-align: top;\n",
       "    }\n",
       "\n",
       "    .dataframe thead th {\n",
       "        text-align: right;\n",
       "    }\n",
       "</style>\n",
       "<table border=\"1\" class=\"dataframe\">\n",
       "  <thead>\n",
       "    <tr style=\"text-align: right;\">\n",
       "      <th></th>\n",
       "      <th>placeID</th>\n",
       "      <th>Score</th>\n",
       "    </tr>\n",
       "  </thead>\n",
       "  <tbody>\n",
       "    <tr>\n",
       "      <th>0</th>\n",
       "      <td>135085</td>\n",
       "      <td>36</td>\n",
       "    </tr>\n",
       "    <tr>\n",
       "      <th>1</th>\n",
       "      <td>132825</td>\n",
       "      <td>32</td>\n",
       "    </tr>\n",
       "    <tr>\n",
       "      <th>2</th>\n",
       "      <td>135032</td>\n",
       "      <td>28</td>\n",
       "    </tr>\n",
       "    <tr>\n",
       "      <th>3</th>\n",
       "      <td>132834</td>\n",
       "      <td>25</td>\n",
       "    </tr>\n",
       "    <tr>\n",
       "      <th>4</th>\n",
       "      <td>135052</td>\n",
       "      <td>25</td>\n",
       "    </tr>\n",
       "    <tr>\n",
       "      <th>5</th>\n",
       "      <td>135038</td>\n",
       "      <td>24</td>\n",
       "    </tr>\n",
       "    <tr>\n",
       "      <th>6</th>\n",
       "      <td>135060</td>\n",
       "      <td>22</td>\n",
       "    </tr>\n",
       "    <tr>\n",
       "      <th>7</th>\n",
       "      <td>135062</td>\n",
       "      <td>21</td>\n",
       "    </tr>\n",
       "    <tr>\n",
       "      <th>8</th>\n",
       "      <td>135042</td>\n",
       "      <td>20</td>\n",
       "    </tr>\n",
       "    <tr>\n",
       "      <th>9</th>\n",
       "      <td>132862</td>\n",
       "      <td>18</td>\n",
       "    </tr>\n",
       "  </tbody>\n",
       "</table>\n",
       "</div>"
      ],
      "text/plain": [
       "   placeID  Score\n",
       "0   135085     36\n",
       "1   132825     32\n",
       "2   135032     28\n",
       "3   132834     25\n",
       "4   135052     25\n",
       "5   135038     24\n",
       "6   135060     22\n",
       "7   135062     21\n",
       "8   135042     20\n",
       "9   132862     18"
      ]
     },
     "execution_count": 92,
     "metadata": {
      "tags": []
     },
     "output_type": "execute_result"
    }
   ],
   "source": [
    "data.head(10)"
   ]
  },
  {
   "cell_type": "markdown",
   "metadata": {
    "id": "hDQooX-qtMaT"
   },
   "source": [
    "### 3.2 Sort the products based on the score (calculated above)"
   ]
  },
  {
   "cell_type": "code",
   "execution_count": 93,
   "metadata": {
    "colab": {
     "base_uri": "https://localhost:8080/",
     "height": 359
    },
    "id": "2GjuebyotlqV",
    "outputId": "2913aa8f-66e6-4c85-eddc-4a49f9d4e216"
   },
   "outputs": [
    {
     "data": {
      "text/html": [
       "<div>\n",
       "<style scoped>\n",
       "    .dataframe tbody tr th:only-of-type {\n",
       "        vertical-align: middle;\n",
       "    }\n",
       "\n",
       "    .dataframe tbody tr th {\n",
       "        vertical-align: top;\n",
       "    }\n",
       "\n",
       "    .dataframe thead th {\n",
       "        text-align: right;\n",
       "    }\n",
       "</style>\n",
       "<table border=\"1\" class=\"dataframe\">\n",
       "  <thead>\n",
       "    <tr style=\"text-align: right;\">\n",
       "      <th></th>\n",
       "      <th>placeID</th>\n",
       "      <th>Score</th>\n",
       "    </tr>\n",
       "  </thead>\n",
       "  <tbody>\n",
       "    <tr>\n",
       "      <th>0</th>\n",
       "      <td>135085</td>\n",
       "      <td>36</td>\n",
       "    </tr>\n",
       "    <tr>\n",
       "      <th>1</th>\n",
       "      <td>132825</td>\n",
       "      <td>32</td>\n",
       "    </tr>\n",
       "    <tr>\n",
       "      <th>2</th>\n",
       "      <td>135032</td>\n",
       "      <td>28</td>\n",
       "    </tr>\n",
       "    <tr>\n",
       "      <th>3</th>\n",
       "      <td>132834</td>\n",
       "      <td>25</td>\n",
       "    </tr>\n",
       "    <tr>\n",
       "      <th>4</th>\n",
       "      <td>135052</td>\n",
       "      <td>25</td>\n",
       "    </tr>\n",
       "    <tr>\n",
       "      <th>5</th>\n",
       "      <td>135038</td>\n",
       "      <td>24</td>\n",
       "    </tr>\n",
       "    <tr>\n",
       "      <th>6</th>\n",
       "      <td>135060</td>\n",
       "      <td>22</td>\n",
       "    </tr>\n",
       "    <tr>\n",
       "      <th>7</th>\n",
       "      <td>135062</td>\n",
       "      <td>21</td>\n",
       "    </tr>\n",
       "    <tr>\n",
       "      <th>8</th>\n",
       "      <td>135042</td>\n",
       "      <td>20</td>\n",
       "    </tr>\n",
       "    <tr>\n",
       "      <th>9</th>\n",
       "      <td>132862</td>\n",
       "      <td>18</td>\n",
       "    </tr>\n",
       "  </tbody>\n",
       "</table>\n",
       "</div>"
      ],
      "text/plain": [
       "   placeID  Score\n",
       "0   135085     36\n",
       "1   132825     32\n",
       "2   135032     28\n",
       "3   132834     25\n",
       "4   135052     25\n",
       "5   135038     24\n",
       "6   135060     22\n",
       "7   135062     21\n",
       "8   135042     20\n",
       "9   132862     18"
      ]
     },
     "execution_count": 93,
     "metadata": {
      "tags": []
     },
     "output_type": "execute_result"
    }
   ],
   "source": [
    "data.head(10) #as the value is already sorted when used value_counts()"
   ]
  },
  {
   "cell_type": "markdown",
   "metadata": {
    "id": "x3dVCrnStmEI"
   },
   "source": [
    "### 3.3 Create a new column called 'Rank' having the ascending recommendation rank based upon score "
   ]
  },
  {
   "cell_type": "code",
   "execution_count": 95,
   "metadata": {
    "colab": {
     "base_uri": "https://localhost:8080/",
     "height": 359
    },
    "id": "129MZyWnt5pD",
    "outputId": "98309217-4989-4053-ac1c-7ea9ad1ee0a1"
   },
   "outputs": [
    {
     "data": {
      "text/html": [
       "<div>\n",
       "<style scoped>\n",
       "    .dataframe tbody tr th:only-of-type {\n",
       "        vertical-align: middle;\n",
       "    }\n",
       "\n",
       "    .dataframe tbody tr th {\n",
       "        vertical-align: top;\n",
       "    }\n",
       "\n",
       "    .dataframe thead th {\n",
       "        text-align: right;\n",
       "    }\n",
       "</style>\n",
       "<table border=\"1\" class=\"dataframe\">\n",
       "  <thead>\n",
       "    <tr style=\"text-align: right;\">\n",
       "      <th></th>\n",
       "      <th>placeID</th>\n",
       "      <th>Score</th>\n",
       "      <th>Rank</th>\n",
       "    </tr>\n",
       "  </thead>\n",
       "  <tbody>\n",
       "    <tr>\n",
       "      <th>0</th>\n",
       "      <td>135085</td>\n",
       "      <td>36</td>\n",
       "      <td>1.0</td>\n",
       "    </tr>\n",
       "    <tr>\n",
       "      <th>1</th>\n",
       "      <td>132825</td>\n",
       "      <td>32</td>\n",
       "      <td>2.0</td>\n",
       "    </tr>\n",
       "    <tr>\n",
       "      <th>2</th>\n",
       "      <td>135032</td>\n",
       "      <td>28</td>\n",
       "      <td>3.0</td>\n",
       "    </tr>\n",
       "    <tr>\n",
       "      <th>3</th>\n",
       "      <td>132834</td>\n",
       "      <td>25</td>\n",
       "      <td>4.0</td>\n",
       "    </tr>\n",
       "    <tr>\n",
       "      <th>4</th>\n",
       "      <td>135052</td>\n",
       "      <td>25</td>\n",
       "      <td>5.0</td>\n",
       "    </tr>\n",
       "    <tr>\n",
       "      <th>5</th>\n",
       "      <td>135038</td>\n",
       "      <td>24</td>\n",
       "      <td>6.0</td>\n",
       "    </tr>\n",
       "    <tr>\n",
       "      <th>6</th>\n",
       "      <td>135060</td>\n",
       "      <td>22</td>\n",
       "      <td>7.0</td>\n",
       "    </tr>\n",
       "    <tr>\n",
       "      <th>7</th>\n",
       "      <td>135062</td>\n",
       "      <td>21</td>\n",
       "      <td>8.0</td>\n",
       "    </tr>\n",
       "    <tr>\n",
       "      <th>8</th>\n",
       "      <td>135042</td>\n",
       "      <td>20</td>\n",
       "      <td>9.0</td>\n",
       "    </tr>\n",
       "    <tr>\n",
       "      <th>9</th>\n",
       "      <td>132862</td>\n",
       "      <td>18</td>\n",
       "      <td>10.0</td>\n",
       "    </tr>\n",
       "  </tbody>\n",
       "</table>\n",
       "</div>"
      ],
      "text/plain": [
       "   placeID  Score  Rank\n",
       "0   135085     36   1.0\n",
       "1   132825     32   2.0\n",
       "2   135032     28   3.0\n",
       "3   132834     25   4.0\n",
       "4   135052     25   5.0\n",
       "5   135038     24   6.0\n",
       "6   135060     22   7.0\n",
       "7   135062     21   8.0\n",
       "8   135042     20   9.0\n",
       "9   132862     18  10.0"
      ]
     },
     "execution_count": 95,
     "metadata": {
      "tags": []
     },
     "output_type": "execute_result"
    }
   ],
   "source": [
    "data['Rank'] =data['Score'].rank(ascending = False, method='first')\n",
    "data.head(10)"
   ]
  },
  {
   "cell_type": "markdown",
   "metadata": {
    "id": "MrDoFdIat57_"
   },
   "source": [
    "### 3.4 Get the top 10 recommendation based on their rank"
   ]
  },
  {
   "cell_type": "code",
   "execution_count": 96,
   "metadata": {
    "colab": {
     "base_uri": "https://localhost:8080/",
     "height": 359
    },
    "id": "zMcHByKGuGi9",
    "outputId": "e9b379ef-940a-4574-a1fb-0694717cc61d"
   },
   "outputs": [
    {
     "data": {
      "text/html": [
       "<div>\n",
       "<style scoped>\n",
       "    .dataframe tbody tr th:only-of-type {\n",
       "        vertical-align: middle;\n",
       "    }\n",
       "\n",
       "    .dataframe tbody tr th {\n",
       "        vertical-align: top;\n",
       "    }\n",
       "\n",
       "    .dataframe thead th {\n",
       "        text-align: right;\n",
       "    }\n",
       "</style>\n",
       "<table border=\"1\" class=\"dataframe\">\n",
       "  <thead>\n",
       "    <tr style=\"text-align: right;\">\n",
       "      <th></th>\n",
       "      <th>placeID</th>\n",
       "      <th>Score</th>\n",
       "      <th>Rank</th>\n",
       "    </tr>\n",
       "  </thead>\n",
       "  <tbody>\n",
       "    <tr>\n",
       "      <th>0</th>\n",
       "      <td>135085</td>\n",
       "      <td>36</td>\n",
       "      <td>1.0</td>\n",
       "    </tr>\n",
       "    <tr>\n",
       "      <th>1</th>\n",
       "      <td>132825</td>\n",
       "      <td>32</td>\n",
       "      <td>2.0</td>\n",
       "    </tr>\n",
       "    <tr>\n",
       "      <th>2</th>\n",
       "      <td>135032</td>\n",
       "      <td>28</td>\n",
       "      <td>3.0</td>\n",
       "    </tr>\n",
       "    <tr>\n",
       "      <th>3</th>\n",
       "      <td>132834</td>\n",
       "      <td>25</td>\n",
       "      <td>4.0</td>\n",
       "    </tr>\n",
       "    <tr>\n",
       "      <th>4</th>\n",
       "      <td>135052</td>\n",
       "      <td>25</td>\n",
       "      <td>5.0</td>\n",
       "    </tr>\n",
       "    <tr>\n",
       "      <th>5</th>\n",
       "      <td>135038</td>\n",
       "      <td>24</td>\n",
       "      <td>6.0</td>\n",
       "    </tr>\n",
       "    <tr>\n",
       "      <th>6</th>\n",
       "      <td>135060</td>\n",
       "      <td>22</td>\n",
       "      <td>7.0</td>\n",
       "    </tr>\n",
       "    <tr>\n",
       "      <th>7</th>\n",
       "      <td>135062</td>\n",
       "      <td>21</td>\n",
       "      <td>8.0</td>\n",
       "    </tr>\n",
       "    <tr>\n",
       "      <th>8</th>\n",
       "      <td>135042</td>\n",
       "      <td>20</td>\n",
       "      <td>9.0</td>\n",
       "    </tr>\n",
       "    <tr>\n",
       "      <th>9</th>\n",
       "      <td>132862</td>\n",
       "      <td>18</td>\n",
       "      <td>10.0</td>\n",
       "    </tr>\n",
       "  </tbody>\n",
       "</table>\n",
       "</div>"
      ],
      "text/plain": [
       "   placeID  Score  Rank\n",
       "0   135085     36   1.0\n",
       "1   132825     32   2.0\n",
       "2   135032     28   3.0\n",
       "3   132834     25   4.0\n",
       "4   135052     25   5.0\n",
       "5   135038     24   6.0\n",
       "6   135060     22   7.0\n",
       "7   135062     21   8.0\n",
       "8   135042     20   9.0\n",
       "9   132862     18  10.0"
      ]
     },
     "execution_count": 96,
     "metadata": {
      "tags": []
     },
     "output_type": "execute_result"
    }
   ],
   "source": [
    "data.head(10)"
   ]
  },
  {
   "cell_type": "markdown",
   "metadata": {
    "id": "LBcn_Y6t72US"
   },
   "source": [
    "## 4. Collaborative Filtering model"
   ]
  },
  {
   "cell_type": "markdown",
   "metadata": {
    "id": "KxZCf2mZJlBY"
   },
   "source": [
    "### 4.1 Define rating scale and convert dataframe into surprise dataset"
   ]
  },
  {
   "cell_type": "code",
   "execution_count": 97,
   "metadata": {
    "id": "pvYVjXXJ723m"
   },
   "outputs": [],
   "source": [
    "reader = Reader(rating_scale=(0,2))\n",
    "dataset= Dataset.load_from_df(df_final[['userID','placeID','rating']],reader)"
   ]
  },
  {
   "cell_type": "markdown",
   "metadata": {
    "id": "oeo9NKqAJs3n"
   },
   "source": [
    "### 4.2 Split the above surprise dataset into train and test set using surprise split function"
   ]
  },
  {
   "cell_type": "code",
   "execution_count": 98,
   "metadata": {
    "id": "ezjRaZ4eJ2hT"
   },
   "outputs": [],
   "source": [
    "trainset, testset= train_test_split(dataset, test_size= 0.25, random_state=1)"
   ]
  },
  {
   "cell_type": "code",
   "execution_count": 99,
   "metadata": {
    "colab": {
     "base_uri": "https://localhost:8080/"
    },
    "id": "kxnvZ3D9g0m6",
    "outputId": "d8417425-02ba-4a11-d8eb-de28efcfe74d"
   },
   "outputs": [
    {
     "data": {
      "text/plain": [
       "<surprise.trainset.Trainset at 0x7f509705e910>"
      ]
     },
     "execution_count": 99,
     "metadata": {
      "tags": []
     },
     "output_type": "execute_result"
    }
   ],
   "source": [
    "trainset"
   ]
  },
  {
   "cell_type": "code",
   "execution_count": 100,
   "metadata": {
    "colab": {
     "base_uri": "https://localhost:8080/"
    },
    "id": "dLcSD0ycg2l9",
    "outputId": "1118e44a-a4e1-40ef-a901-c4462def137d"
   },
   "outputs": [
    {
     "data": {
      "text/plain": [
       "[('U1062', 135085, 0.0),\n",
       " ('U1112', 135026, 1.0),\n",
       " ('U1113', 135046, 2.0),\n",
       " ('U1081', 135043, 0.0),\n",
       " ('U1064', 135052, 2.0),\n",
       " ('U1053', 132825, 1.0),\n",
       " ('U1056', 135085, 2.0),\n",
       " ('U1045', 132834, 1.0),\n",
       " ('U1088', 135082, 2.0),\n",
       " ('U1075', 135066, 2.0),\n",
       " ('U1048', 135034, 2.0),\n",
       " ('U1006', 132572, 1.0),\n",
       " ('U1033', 135045, 2.0),\n",
       " ('U1050', 132560, 0.0),\n",
       " ('U1043', 132613, 1.0),\n",
       " ('U1058', 135076, 2.0),\n",
       " ('U1019', 132834, 0.0),\n",
       " ('U1049', 135085, 0.0),\n",
       " ('U1100', 134976, 2.0),\n",
       " ('U1013', 135085, 1.0),\n",
       " ('U1066', 135019, 2.0),\n",
       " ('U1059', 132754, 2.0),\n",
       " ('U1085', 132872, 0.0),\n",
       " ('U1064', 135060, 1.0),\n",
       " ('U1049', 135042, 0.0),\n",
       " ('U1126', 135057, 2.0),\n",
       " ('U1098', 132825, 1.0),\n",
       " ('U1013', 132951, 2.0),\n",
       " ('U1112', 132572, 0.0),\n",
       " ('U1086', 135063, 1.0),\n",
       " ('U1033', 132572, 1.0),\n",
       " ('U1026', 132654, 0.0),\n",
       " ('U1022', 135081, 0.0),\n",
       " ('U1003', 132862, 1.0),\n",
       " ('U1084', 132723, 1.0),\n",
       " ('U1050', 132609, 0.0),\n",
       " ('U1108', 132723, 2.0),\n",
       " ('U1033', 132951, 2.0),\n",
       " ('U1120', 132846, 2.0),\n",
       " ('U1100', 132768, 2.0),\n",
       " ('U1068', 132594, 1.0),\n",
       " ('U1092', 135085, 0.0),\n",
       " ('U1018', 135043, 0.0),\n",
       " ('U1027', 135085, 1.0),\n",
       " ('U1045', 135032, 0.0),\n",
       " ('U1104', 132834, 1.0),\n",
       " ('U1092', 132572, 1.0),\n",
       " ('U1018', 135066, 1.0),\n",
       " ('U1083', 132723, 1.0),\n",
       " ('U1027', 135042, 1.0),\n",
       " ('U1082', 132732, 0.0),\n",
       " ('U1044', 132583, 1.0),\n",
       " ('U1134', 135026, 0.0),\n",
       " ('U1101', 135038, 2.0),\n",
       " ('U1114', 132951, 0.0),\n",
       " ('U1081', 135032, 0.0),\n",
       " ('U1111', 135071, 2.0),\n",
       " ('U1068', 132660, 0.0),\n",
       " ('U1111', 132851, 2.0),\n",
       " ('U1016', 132856, 2.0),\n",
       " ('U1015', 135071, 0.0),\n",
       " ('U1015', 132877, 1.0),\n",
       " ('U1063', 135104, 1.0),\n",
       " ('U1083', 135074, 2.0),\n",
       " ('U1075', 132834, 1.0),\n",
       " ('U1134', 135075, 2.0),\n",
       " ('U1082', 132608, 0.0),\n",
       " ('U1022', 135060, 1.0),\n",
       " ('U1098', 135085, 1.0),\n",
       " ('U1108', 135058, 1.0),\n",
       " ('U1087', 132560, 1.0),\n",
       " ('U1136', 135046, 2.0),\n",
       " ('U1022', 135052, 2.0),\n",
       " ('U1137', 132723, 2.0),\n",
       " ('U1108', 135074, 2.0),\n",
       " ('U1028', 132663, 0.0),\n",
       " ('U1065', 132626, 1.0),\n",
       " ('U1135', 132834, 0.0),\n",
       " ('U1007', 135032, 1.0),\n",
       " ('U1106', 132754, 2.0),\n",
       " ('U1007', 132572, 1.0),\n",
       " ('U1061', 135075, 2.0),\n",
       " ('U1093', 134999, 2.0),\n",
       " ('U1036', 132754, 2.0),\n",
       " ('U1004', 135060, 1.0),\n",
       " ('U1094', 135108, 0.0),\n",
       " ('U1105', 135052, 0.0),\n",
       " ('U1057', 135043, 1.0),\n",
       " ('U1069', 135070, 0.0),\n",
       " ('U1057', 132825, 1.0),\n",
       " ('U1126', 135052, 2.0),\n",
       " ('U1048', 135026, 2.0),\n",
       " ('U1046', 132572, 1.0),\n",
       " ('U1099', 132872, 1.0),\n",
       " ('U1113', 135085, 1.0),\n",
       " ('U1071', 135060, 1.0),\n",
       " ('U1136', 135048, 1.0),\n",
       " ('U1094', 135069, 0.0),\n",
       " ('U1132', 135027, 2.0),\n",
       " ('U1109', 135032, 2.0),\n",
       " ('U1134', 135055, 2.0),\n",
       " ('U1096', 135026, 2.0),\n",
       " ('U1094', 135054, 0.0),\n",
       " ('U1103', 132663, 1.0),\n",
       " ('U1089', 132834, 1.0),\n",
       " ('U1059', 135064, 1.0),\n",
       " ('U1038', 132862, 2.0),\n",
       " ('U1075', 135050, 2.0),\n",
       " ('U1137', 132825, 2.0),\n",
       " ('U1014', 135082, 0.0),\n",
       " ('U1019', 132856, 0.0),\n",
       " ('U1083', 132755, 2.0),\n",
       " ('U1095', 132723, 2.0),\n",
       " ('U1057', 135075, 0.0),\n",
       " ('U1109', 132872, 1.0),\n",
       " ('U1122', 135085, 2.0),\n",
       " ('U1135', 135058, 0.0),\n",
       " ('U1137', 132951, 2.0),\n",
       " ('U1001', 135033, 1.0),\n",
       " ('U1134', 135044, 1.0),\n",
       " ('U1028', 132613, 2.0),\n",
       " ('U1057', 132862, 1.0),\n",
       " ('U1102', 132847, 2.0),\n",
       " ('U1102', 132854, 2.0),\n",
       " ('U1009', 132754, 1.0),\n",
       " ('U1128', 132921, 0.0),\n",
       " ('U1106', 135028, 2.0),\n",
       " ('U1036', 135064, 2.0),\n",
       " ('U1098', 132862, 1.0),\n",
       " ('U1008', 135054, 1.0),\n",
       " ('U1105', 132830, 0.0),\n",
       " ('U1014', 135081, 2.0),\n",
       " ('U1002', 135062, 1.0),\n",
       " ('U1058', 135066, 1.0),\n",
       " ('U1046', 135065, 2.0),\n",
       " ('U1109', 135058, 2.0),\n",
       " ('U1015', 132869, 2.0),\n",
       " ('U1001', 135039, 1.0),\n",
       " ('U1090', 132925, 2.0),\n",
       " ('U1106', 135039, 2.0),\n",
       " ('U1076', 135038, 1.0),\n",
       " ('U1128', 132951, 0.0),\n",
       " ('U1001', 135051, 1.0),\n",
       " ('U1103', 135104, 1.0),\n",
       " ('U1081', 135028, 1.0),\n",
       " ('U1035', 135000, 2.0),\n",
       " ('U1112', 132834, 1.0),\n",
       " ('U1010', 135042, 2.0),\n",
       " ('U1099', 135045, 1.0),\n",
       " ('U1001', 132825, 2.0),\n",
       " ('U1075', 135076, 2.0),\n",
       " ('U1098', 135060, 2.0),\n",
       " ('U1014', 132830, 2.0),\n",
       " ('U1104', 135085, 2.0),\n",
       " ('U1061', 135058, 1.0),\n",
       " ('U1073', 132862, 0.0),\n",
       " ('U1041', 135109, 1.0),\n",
       " ('U1109', 135085, 2.0),\n",
       " ('U1125', 135060, 1.0),\n",
       " ('U1004', 132955, 2.0),\n",
       " ('U1101', 135027, 2.0),\n",
       " ('U1034', 135055, 0.0),\n",
       " ('U1106', 135079, 2.0),\n",
       " ('U1055', 135028, 2.0),\n",
       " ('U1004', 132954, 2.0),\n",
       " ('U1102', 132870, 2.0),\n",
       " ('U1115', 135082, 2.0),\n",
       " ('U1058', 135043, 1.0),\n",
       " ('U1106', 135062, 2.0),\n",
       " ('U1042', 134996, 2.0),\n",
       " ('U1015', 132866, 0.0),\n",
       " ('U1088', 135070, 2.0),\n",
       " ('U1055', 135047, 2.0),\n",
       " ('U1038', 132854, 1.0),\n",
       " ('U1048', 132755, 2.0),\n",
       " ('U1106', 135106, 0.0),\n",
       " ('U1122', 132754, 2.0),\n",
       " ('U1035', 132583, 1.0),\n",
       " ('U1112', 135048, 0.0),\n",
       " ('U1112', 132862, 1.0),\n",
       " ('U1061', 132572, 1.0),\n",
       " ('U1061', 132955, 2.0),\n",
       " ('U1076', 135027, 0.0),\n",
       " ('U1067', 132733, 1.0),\n",
       " ('U1018', 135081, 1.0),\n",
       " ('U1133', 135019, 1.0),\n",
       " ('U1134', 135047, 1.0),\n",
       " ('U1065', 132561, 1.0),\n",
       " ('U1089', 132754, 1.0),\n",
       " ('U1099', 135042, 1.0),\n",
       " ('U1013', 135060, 1.0),\n",
       " ('U1019', 135086, 0.0),\n",
       " ('U1027', 135066, 0.0),\n",
       " ('U1059', 135028, 1.0),\n",
       " ('U1007', 135038, 1.0),\n",
       " ('U1028', 132733, 1.0),\n",
       " ('U1034', 135086, 1.0),\n",
       " ('U1083', 135034, 2.0),\n",
       " ('U1075', 132830, 1.0),\n",
       " ('U1030', 135109, 0.0),\n",
       " ('U1122', 135058, 2.0),\n",
       " ('U1066', 135011, 1.0),\n",
       " ('U1119', 132583, 2.0),\n",
       " ('U1043', 132630, 1.0),\n",
       " ('U1053', 135042, 2.0),\n",
       " ('U1058', 135058, 2.0),\n",
       " ('U1042', 134986, 2.0),\n",
       " ('U1009', 135063, 0.0),\n",
       " ('U1069', 132858, 0.0),\n",
       " ('U1104', 132825, 1.0),\n",
       " ('U1099', 135038, 0.0),\n",
       " ('U1003', 135079, 2.0),\n",
       " ('U1113', 135057, 2.0),\n",
       " ('U1125', 135081, 0.0),\n",
       " ('U1136', 135055, 2.0),\n",
       " ('U1090', 135085, 2.0),\n",
       " ('U1109', 135038, 2.0),\n",
       " ('U1059', 132955, 2.0),\n",
       " ('U1054', 135032, 1.0),\n",
       " ('U1124', 135032, 1.0),\n",
       " ('U1003', 132825, 2.0),\n",
       " ('U1135', 135063, 0.0),\n",
       " ('U1037', 135071, 1.0),\n",
       " ('U1116', 135030, 1.0),\n",
       " ('U1128', 135053, 0.0),\n",
       " ('U1053', 135038, 2.0),\n",
       " ('U1096', 132875, 2.0),\n",
       " ('U1082', 132630, 1.0),\n",
       " ('U1088', 135081, 1.0),\n",
       " ('U1103', 132584, 1.0),\n",
       " ('U1112', 132954, 0.0),\n",
       " ('U1101', 135051, 2.0),\n",
       " ('U1045', 132856, 1.0),\n",
       " ('U1029', 132937, 1.0),\n",
       " ('U1131', 135082, 0.0),\n",
       " ('U1009', 135079, 1.0),\n",
       " ('U1095', 135035, 2.0),\n",
       " ('U1069', 132846, 0.0),\n",
       " ('U1135', 135052, 0.0),\n",
       " ('U1071', 135028, 2.0),\n",
       " ('U1001', 135045, 1.0),\n",
       " ('U1098', 135046, 1.0),\n",
       " ('U1056', 135051, 2.0),\n",
       " ('U1105', 135069, 0.0),\n",
       " ('U1009', 135052, 2.0),\n",
       " ('U1114', 135065, 0.0),\n",
       " ('U1105', 135033, 0.0),\n",
       " ('U1010', 135079, 0.0),\n",
       " ('U1055', 132754, 2.0),\n",
       " ('U1003', 135075, 2.0),\n",
       " ('U1002', 135041, 2.0),\n",
       " ('U1054', 135052, 2.0),\n",
       " ('U1099', 135066, 1.0),\n",
       " ('U1037', 135108, 2.0),\n",
       " ('U1092', 135046, 0.0),\n",
       " ('U1125', 135043, 1.0),\n",
       " ('U1057', 135046, 1.0),\n",
       " ('U1104', 135039, 0.0),\n",
       " ('U1025', 135071, 2.0),\n",
       " ('U1024', 135038, 1.0),\n",
       " ('U1009', 135059, 2.0),\n",
       " ('U1003', 135064, 0.0),\n",
       " ('U1055', 132572, 2.0),\n",
       " ('U1053', 135032, 2.0),\n",
       " ('U1006', 132884, 2.0),\n",
       " ('U1013', 135075, 2.0),\n",
       " ('U1122', 135079, 2.0),\n",
       " ('U1025', 132877, 1.0),\n",
       " ('U1126', 135041, 2.0),\n",
       " ('U1087', 132732, 2.0)]"
      ]
     },
     "execution_count": 100,
     "metadata": {
      "tags": []
     },
     "output_type": "execute_result"
    }
   ],
   "source": [
    "testset"
   ]
  },
  {
   "cell_type": "markdown",
   "metadata": {
    "id": "AXU_HB_DJ3BC"
   },
   "source": [
    "### 4.3 Print size of train and test set"
   ]
  },
  {
   "cell_type": "code",
   "execution_count": 101,
   "metadata": {
    "colab": {
     "base_uri": "https://localhost:8080/"
    },
    "id": "WhWC3AhoJ6oC",
    "outputId": "8c96d8af-8374-4b17-b300-351d7e17fe21"
   },
   "outputs": [
    {
     "data": {
      "text/plain": [
       "270"
      ]
     },
     "execution_count": 101,
     "metadata": {
      "tags": []
     },
     "output_type": "execute_result"
    }
   ],
   "source": [
    "len(testset)"
   ]
  },
  {
   "cell_type": "code",
   "execution_count": 103,
   "metadata": {
    "colab": {
     "base_uri": "https://localhost:8080/"
    },
    "id": "NFkHPudohGUm",
    "outputId": "8ddef014-f105-429c-c82b-eb8aaa8c18a2"
   },
   "outputs": [
    {
     "data": {
      "text/plain": [
       "809"
      ]
     },
     "execution_count": 103,
     "metadata": {
      "tags": []
     },
     "output_type": "execute_result"
    }
   ],
   "source": [
    "trainset.n_ratings"
   ]
  },
  {
   "cell_type": "markdown",
   "metadata": {
    "id": "CQMRPmkhJ7FE"
   },
   "source": [
    "### 4.4 Build a default SVD model using train set"
   ]
  },
  {
   "cell_type": "code",
   "execution_count": 105,
   "metadata": {
    "colab": {
     "base_uri": "https://localhost:8080/"
    },
    "id": "u2ih14bsKEDJ",
    "outputId": "b2340e8b-2111-4efe-ba33-547b65bc9e55"
   },
   "outputs": [
    {
     "data": {
      "text/plain": [
       "<surprise.prediction_algorithms.matrix_factorization.SVD at 0x7f5096e0fb10>"
      ]
     },
     "execution_count": 105,
     "metadata": {
      "tags": []
     },
     "output_type": "execute_result"
    }
   ],
   "source": [
    "from surprise import SVD\n",
    "algo = SVD()\n",
    "algo.fit(trainset)"
   ]
  },
  {
   "cell_type": "markdown",
   "metadata": {
    "id": "jPECI2QpKFjv"
   },
   "source": [
    "### 4.5 Make prediction for test set and convert test prediction into a dataframe"
   ]
  },
  {
   "cell_type": "code",
   "execution_count": 106,
   "metadata": {
    "id": "pjzZ5nX-KO8F"
   },
   "outputs": [],
   "source": [
    "pred = algo.test(testset)\n",
    "pred_df= pd.DataFrame(pred)"
   ]
  },
  {
   "cell_type": "code",
   "execution_count": 107,
   "metadata": {
    "colab": {
     "base_uri": "https://localhost:8080/",
     "height": 204
    },
    "id": "ZqZ2SD53jxAL",
    "outputId": "70533181-fade-43da-c6d8-e6a7577b1881"
   },
   "outputs": [
    {
     "data": {
      "text/html": [
       "<div>\n",
       "<style scoped>\n",
       "    .dataframe tbody tr th:only-of-type {\n",
       "        vertical-align: middle;\n",
       "    }\n",
       "\n",
       "    .dataframe tbody tr th {\n",
       "        vertical-align: top;\n",
       "    }\n",
       "\n",
       "    .dataframe thead th {\n",
       "        text-align: right;\n",
       "    }\n",
       "</style>\n",
       "<table border=\"1\" class=\"dataframe\">\n",
       "  <thead>\n",
       "    <tr style=\"text-align: right;\">\n",
       "      <th></th>\n",
       "      <th>uid</th>\n",
       "      <th>iid</th>\n",
       "      <th>r_ui</th>\n",
       "      <th>est</th>\n",
       "      <th>details</th>\n",
       "    </tr>\n",
       "  </thead>\n",
       "  <tbody>\n",
       "    <tr>\n",
       "      <th>0</th>\n",
       "      <td>U1062</td>\n",
       "      <td>135085</td>\n",
       "      <td>0.0</td>\n",
       "      <td>0.850734</td>\n",
       "      <td>{'was_impossible': False}</td>\n",
       "    </tr>\n",
       "    <tr>\n",
       "      <th>1</th>\n",
       "      <td>U1112</td>\n",
       "      <td>135026</td>\n",
       "      <td>1.0</td>\n",
       "      <td>0.979763</td>\n",
       "      <td>{'was_impossible': False}</td>\n",
       "    </tr>\n",
       "    <tr>\n",
       "      <th>2</th>\n",
       "      <td>U1113</td>\n",
       "      <td>135046</td>\n",
       "      <td>2.0</td>\n",
       "      <td>1.050058</td>\n",
       "      <td>{'was_impossible': False}</td>\n",
       "    </tr>\n",
       "    <tr>\n",
       "      <th>3</th>\n",
       "      <td>U1081</td>\n",
       "      <td>135043</td>\n",
       "      <td>0.0</td>\n",
       "      <td>0.904800</td>\n",
       "      <td>{'was_impossible': False}</td>\n",
       "    </tr>\n",
       "    <tr>\n",
       "      <th>4</th>\n",
       "      <td>U1064</td>\n",
       "      <td>135052</td>\n",
       "      <td>2.0</td>\n",
       "      <td>1.047553</td>\n",
       "      <td>{'was_impossible': False}</td>\n",
       "    </tr>\n",
       "  </tbody>\n",
       "</table>\n",
       "</div>"
      ],
      "text/plain": [
       "     uid     iid  r_ui       est                    details\n",
       "0  U1062  135085   0.0  0.850734  {'was_impossible': False}\n",
       "1  U1112  135026   1.0  0.979763  {'was_impossible': False}\n",
       "2  U1113  135046   2.0  1.050058  {'was_impossible': False}\n",
       "3  U1081  135043   0.0  0.904800  {'was_impossible': False}\n",
       "4  U1064  135052   2.0  1.047553  {'was_impossible': False}"
      ]
     },
     "execution_count": 107,
     "metadata": {
      "tags": []
     },
     "output_type": "execute_result"
    }
   ],
   "source": [
    "pred_df.head(5)"
   ]
  },
  {
   "cell_type": "markdown",
   "metadata": {
    "id": "EPuLqMMvK0i-"
   },
   "source": [
    "### 4.6 Check RMSe and MAE of train and test predictions"
   ]
  },
  {
   "cell_type": "code",
   "execution_count": 111,
   "metadata": {
    "colab": {
     "base_uri": "https://localhost:8080/"
    },
    "id": "ge9mAM91mWrh",
    "outputId": "6b7a3959-f7c3-496a-8b81-6229d26db052"
   },
   "outputs": [
    {
     "name": "stdout",
     "output_type": "stream",
     "text": [
      "RMSE: 0.4717\n",
      "rmse= 0.47165080796509706\n",
      "MAE:  0.3960\n",
      "mae= 0.39603357418632934\n"
     ]
    }
   ],
   "source": [
    "tran_pred = algo.test(trainset.build_testset())\n",
    "print('rmse=',accuracy.rmse(tran_pred))\n",
    "print('mae=',accuracy.mae(tran_pred))"
   ]
  },
  {
   "cell_type": "code",
   "execution_count": 109,
   "metadata": {
    "colab": {
     "base_uri": "https://localhost:8080/"
    },
    "id": "WMD2jIFQK8Nv",
    "outputId": "c1ece30e-6f73-49df-956b-55619d8962aa"
   },
   "outputs": [
    {
     "name": "stdout",
     "output_type": "stream",
     "text": [
      "RMSE: 0.6768\n"
     ]
    },
    {
     "data": {
      "text/plain": [
       "0.6768087605030207"
      ]
     },
     "execution_count": 109,
     "metadata": {
      "tags": []
     },
     "output_type": "execute_result"
    }
   ],
   "source": [
    "accuracy.rmse(pred)"
   ]
  },
  {
   "cell_type": "code",
   "execution_count": 110,
   "metadata": {
    "colab": {
     "base_uri": "https://localhost:8080/"
    },
    "id": "2r13JTEPmMZI",
    "outputId": "e32fdcf6-f5ff-4fed-9299-d470c7c26872"
   },
   "outputs": [
    {
     "name": "stdout",
     "output_type": "stream",
     "text": [
      "MAE:  0.5814\n"
     ]
    },
    {
     "data": {
      "text/plain": [
       "0.581352613646994"
      ]
     },
     "execution_count": 110,
     "metadata": {
      "tags": []
     },
     "output_type": "execute_result"
    }
   ],
   "source": [
    "accuracy.mae(pred)"
   ]
  },
  {
   "cell_type": "markdown",
   "metadata": {
    "id": "jdmpLp9AKPd2"
   },
   "source": [
    "### 4.7 Write a function to make top n recommendation to a user. The function should take a userID, data, and n as input arguments"
   ]
  },
  {
   "cell_type": "code",
   "execution_count": 112,
   "metadata": {
    "id": "r_hXx9JHKbkJ"
   },
   "outputs": [],
   "source": [
    "from collections import defaultdict\n",
    "def get_top_n(predictions, userid, n):\n",
    "    # First map the predictions to each user.\n",
    "    top_n = defaultdict(list)\n",
    "    for uid, iid, true_r, est, _ in predictions:\n",
    "        top_n[uid].append((iid, est))\n",
    "\n",
    "    # Then sort the predictions for each user and retrieve the k highest ones.\n",
    "    for uid, user_ratings in top_n.items():\n",
    "        user_ratings.sort(key=lambda x: x[1], reverse=True)\n",
    "        top_n[uid] = user_ratings[:n]\n",
    "\n",
    "    return top_n[userid]\n"
   ]
  },
  {
   "cell_type": "markdown",
   "metadata": {
    "id": "BvEbu68EKeQl"
   },
   "source": [
    "### 4.8 Check top 3 recommendations for userID:- 'U1028'"
   ]
  },
  {
   "cell_type": "code",
   "execution_count": 113,
   "metadata": {
    "colab": {
     "base_uri": "https://localhost:8080/"
    },
    "id": "z56DRUedKivh",
    "outputId": "5d3d9e1b-8cf8-4959-af6a-d5bfb3a46cc1"
   },
   "outputs": [
    {
     "data": {
      "text/plain": [
       "[(132733, 1.078977795273452),\n",
       " (132613, 1.0759236053093453),\n",
       " (132663, 0.9561110374128805)]"
      ]
     },
     "execution_count": 113,
     "metadata": {
      "tags": []
     },
     "output_type": "execute_result"
    }
   ],
   "source": [
    "get_top_n(pred,'U1028',3)"
   ]
  },
  {
   "cell_type": "markdown",
   "metadata": {
    "id": "5DtGo7B_KlfA"
   },
   "source": [
    "## 5. Summarize your insights"
   ]
  },
  {
   "cell_type": "markdown",
   "metadata": {
    "id": "Hxw8JyODnU_Y"
   },
   "source": [
    "If we remove the rating of the place with 1 then we can get better result. The test and train set we got was of diffent format and reading those we have to use different method. Test set was of readable format but not the train set "
   ]
  },
  {
   "cell_type": "markdown",
   "metadata": {
    "id": "csb4HP2hKoxO"
   },
   "source": [
    "## Optional\n",
    "### Use GridSearch CV to get the best parameters for SVD model"
   ]
  },
  {
   "cell_type": "code",
   "execution_count": null,
   "metadata": {
    "id": "Qf59BdwiKzY8"
   },
   "outputs": [],
   "source": []
  }
 ],
 "metadata": {
  "colab": {
   "collapsed_sections": [],
   "name": "LAB on Recommendation System.ipynb",
   "provenance": []
  },
  "kernelspec": {
   "display_name": "Python 3",
   "language": "python",
   "name": "python3"
  },
  "language_info": {
   "codemirror_mode": {
    "name": "ipython",
    "version": 3
   },
   "file_extension": ".py",
   "mimetype": "text/x-python",
   "name": "python",
   "nbconvert_exporter": "python",
   "pygments_lexer": "ipython3",
   "version": "3.8.3"
  }
 },
 "nbformat": 4,
 "nbformat_minor": 1
}
