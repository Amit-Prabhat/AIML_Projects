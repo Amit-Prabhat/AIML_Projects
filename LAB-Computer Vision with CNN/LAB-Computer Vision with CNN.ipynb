{
 "cells": [
  {
   "cell_type": "markdown",
   "metadata": {
    "id": "Hbln1O8gBEih"
   },
   "source": [
    "![alt text](https://drive.google.com/uc?export=view&id=1UXScsVx_Wni_JuDdB8LeTnM6jsPfIwkW)\n",
    "\n",
    "Proprietary content. © Great Learning. All Rights Reserved. Unauthorized use or distribution prohibited."
   ]
  },
  {
   "cell_type": "markdown",
   "metadata": {
    "id": "Q91KqmCRu64D"
   },
   "source": [
    "# Mobile Phone Detection in an Image\n",
    "\n",
    "## Domain\n",
    "Mobile Phones, Computer Vision\n",
    "\n",
    "## Business Context\n",
    "The ability to process visual information using machine learning algorithms can be very useful. Electronics companies can use it to identify the presence of a mobile in an image (location), mobile brand just by looking at the image, and minor damages if there are any. The computer vision field has multiple applications and based on the available data it can be used to meet business objectives.\n",
    "Here, we will use a simple convolutional neural network to classify images with and without mobile phones. \n",
    " \n",
    "## Objective\n",
    "\n",
    "Given the images and label whether an image has a mobile phone or not, can you train a model that allows you to map and find the presence of mobile phones within the selected images.\n"
   ]
  },
  {
   "cell_type": "markdown",
   "metadata": {
    "id": "b0Qw0vEHBUvm"
   },
   "source": [
    "### Package version\n",
    "- tensorflow==2.3.0\n",
    "- matplotlib==3.2.1\n",
    "- h5py==2.10.0\n",
    "- google==2.0.3"
   ]
  },
  {
   "cell_type": "markdown",
   "metadata": {
    "id": "yapdCjMwFl02"
   },
   "source": [
    "## Table of Content\n",
    "\n",
    "1. Import Libraries\n",
    "\n",
    "2. Setting options\n",
    "\n",
    "3. Data loading and Data Analysis \n",
    "\n",
    "4. Visualize and Standardize the data\n",
    "\n",
    "5. Model Building\n",
    "\n",
    "6. Evaluate Model\n",
    "\n",
    "7. Conclusion and Interpretation"
   ]
  },
  {
   "cell_type": "markdown",
   "metadata": {
    "id": "mSnjdKmpG82x"
   },
   "source": [
    "## 1. Import Libraries"
   ]
  },
  {
   "cell_type": "markdown",
   "metadata": {
    "id": "8z2Z7-OAs8QG"
   },
   "source": [
    "Let us start by mounting the drive"
   ]
  },
  {
   "cell_type": "code",
   "execution_count": 1,
   "metadata": {
    "colab": {
     "base_uri": "https://localhost:8080/"
    },
    "id": "REFUdThmpz_d",
    "outputId": "02de5d52-fbcc-41fd-e5c5-aeee79110b2e"
   },
   "outputs": [
    {
     "name": "stdout",
     "output_type": "stream",
     "text": [
      "Drive already mounted at /content/drive; to attempt to forcibly remount, call drive.mount(\"/content/drive\", force_remount=True).\n"
     ]
    }
   ],
   "source": [
    "from google.colab import drive\n",
    "drive.mount('/content/drive')"
   ]
  },
  {
   "cell_type": "markdown",
   "metadata": {
    "id": "ucnevGLoyKf_"
   },
   "source": [
    "Let us check for the version of installed tensorflow."
   ]
  },
  {
   "cell_type": "code",
   "execution_count": 2,
   "metadata": {
    "colab": {
     "base_uri": "https://localhost:8080/"
    },
    "id": "W5as47YxyJVk",
    "outputId": "d782b921-2094-4ee3-a37b-70e455806ee7"
   },
   "outputs": [
    {
     "name": "stdout",
     "output_type": "stream",
     "text": [
      "2.5.0\n"
     ]
    }
   ],
   "source": [
    "# used to supress display of warnings\n",
    "import warnings\n",
    " \n",
    "# os is used to provide a way of using operating system dependent functionality\n",
    "# We use it for setting working folder\n",
    "import os\n",
    " \n",
    "# Pandas is used for data manipulation and analysis\n",
    "import pandas as pd \n",
    " \n",
    "# Numpy is used for large, multi-dimensional arrays and matrices, along with mathematical operators on these arrays\n",
    "import numpy as np\n",
    " \n",
    "# Matplotlib is a data visualization library for 2D plots of arrays, built on NumPy arrays \n",
    "# and designed to work with the broader SciPy stack\n",
    "import matplotlib.pyplot as plt\n",
    "%matplotlib inline\n",
    "from matplotlib import pyplot\n",
    " \n",
    "# Seaborn is based on matplotlib, which aids in drawing attractive and informative statistical graphics.\n",
    "import seaborn as sns\n",
    "import tensorflow \n",
    "print(tensorflow.__version__)\n",
    " \n",
    " \n",
    "from keras.utils import np_utils\n",
    "from keras.models import Sequential\n",
    "from keras.layers.core import Dense, Dropout, Activation, Flatten\n",
    "from keras.layers.convolutional import Conv2D, MaxPooling2D\n",
    "from keras.optimizers import SGD\n",
    "from keras.constraints import maxnorm\n",
    "from PIL import Image\n",
    "from PIL import ImageMath"
   ]
  },
  {
   "cell_type": "markdown",
   "metadata": {
    "id": "MRj03V7AHAYe"
   },
   "source": [
    "## 2. Setting Options"
   ]
  },
  {
   "cell_type": "code",
   "execution_count": 3,
   "metadata": {
    "id": "7I9dogoKHn6w"
   },
   "outputs": [],
   "source": [
    "# suppress display of warnings\n",
    "warnings.filterwarnings('ignore')\n",
    " \n",
    "# display all dataframe columns\n",
    "pd.options.display.max_columns = None\n",
    " \n",
    "# display all dataframe rows\n",
    "pd.options.display.max_rows = None"
   ]
  },
  {
   "cell_type": "markdown",
   "metadata": {
    "id": "ufAqcNVCHIut"
   },
   "source": [
    "## 3. Data loading and Data Analysis "
   ]
  },
  {
   "cell_type": "markdown",
   "metadata": {
    "id": "LDYN63hu2s97"
   },
   "source": [
    "### Read images and save the pixel information to an array. Also, save their corresponding label to a list ( YES-Mobile - 1, NO-Mobile - 0). Resize the images to shape (128, 128, 3)."
   ]
  },
  {
   "cell_type": "code",
   "execution_count": 4,
   "metadata": {
    "id": "zWPOVY3gDOQo"
   },
   "outputs": [],
   "source": [
    "import cv2\n",
    "yesmobile_path = '/content/drive/MyDrive/Lab/mobile-images/mobile-images/yes-mobile'\n",
    "nomobile_path = '/content/drive/MyDrive/Lab/mobile-images/mobile-images/no-mobile'"
   ]
  },
  {
   "cell_type": "code",
   "execution_count": 5,
   "metadata": {
    "colab": {
     "base_uri": "https://localhost:8080/",
     "height": 107
    },
    "id": "MB9Ia2PSVkC4",
    "outputId": "5a465738-2be6-4203-a02e-fdf0b67a9903"
   },
   "outputs": [
    {
     "data": {
      "image/png": "[encoded data removed]",
      "text/plain": [
       "<PIL.Image.Image image mode=RGB size=90x90 at 0x7F283AB70650>"
      ]
     },
     "metadata": {
      "tags": []
     },
     "output_type": "display_data"
    }
   ],
   "source": [
    "#displaying one image form the yes-mobile\n",
    "from google.colab.patches import cv2_imshow\n",
    "img = cv2.imread(yesmobile_path + '/img130.png')\n",
    "cv2_imshow(img)"
   ]
  },
  {
   "cell_type": "code",
   "execution_count": 6,
   "metadata": {
    "colab": {
     "base_uri": "https://localhost:8080/",
     "height": 107
    },
    "id": "OYl4Beb_V8i5",
    "outputId": "5468006f-9418-462d-dffe-ca3d82958443"
   },
   "outputs": [
    {
     "data": {
      "image/png": "[encoded data removed]",
      "text/plain": [
       "<PIL.Image.Image image mode=RGB size=90x90 at 0x7F283AAEF690>"
      ]
     },
     "metadata": {
      "tags": []
     },
     "output_type": "display_data"
    }
   ],
   "source": [
    "#displaying one image form the no-mobile\n",
    "from google.colab.patches import cv2_imshow\n",
    "img = cv2.imread(nomobile_path + '/img10.png')\n",
    "cv2_imshow(img)"
   ]
  },
  {
   "cell_type": "code",
   "execution_count": 7,
   "metadata": {
    "id": "XA-xwqliWWzI"
   },
   "outputs": [],
   "source": [
    "#Reading images from 'yes-mobile' folder and creating labels ( Labels for this class should be 1 )\n",
    "yesimg = []\n",
    "y_yes = []\n",
    "\n",
    "os.chdir('/content/drive/MyDrive/Lab/mobile-images/mobile-images/yes-mobile')\n",
    "\n",
    "import cv2\n",
    "for i in os.listdir(yesmobile_path):\n",
    "  a = cv2.imread(i)\n",
    "  a = cv2.resize(a,(128,128))\n",
    "  yesimg.append(a)\n",
    "  y_yes.append(1)"
   ]
  },
  {
   "cell_type": "code",
   "execution_count": 8,
   "metadata": {
    "id": "6SCDmLRUWz1M"
   },
   "outputs": [],
   "source": [
    "#Reading images from 'no-mobile' folder and creating labels ( Labels for this class should be 0 )\n",
    "noimg = []\n",
    "y_no = []\n",
    "\n",
    "os.chdir('/content/drive/MyDrive/Lab/mobile-images/mobile-images/no-mobile')\n",
    "\n",
    "import cv2\n",
    "for i in os.listdir(nomobile_path):\n",
    "  a = cv2.imread(i)\n",
    "  a = cv2.resize(a,(128,128))\n",
    "  noimg.append(a)\n",
    "  y_no.append(0)"
   ]
  },
  {
   "cell_type": "markdown",
   "metadata": {
    "id": "FrfveOqeFtfz"
   },
   "source": [
    "### Check shape and size of the images"
   ]
  },
  {
   "cell_type": "code",
   "execution_count": 9,
   "metadata": {
    "colab": {
     "base_uri": "https://localhost:8080/"
    },
    "id": "aFCElAp7FtAS",
    "outputId": "909f2a59-db4f-4ab7-b579-101f6b71ef1e"
   },
   "outputs": [
    {
     "name": "stdout",
     "output_type": "stream",
     "text": [
      "(128, 128, 3)\n",
      "124\n"
     ]
    }
   ],
   "source": [
    "print( yesimg[1].shape)\n",
    "print(len(yesimg))"
   ]
  },
  {
   "cell_type": "code",
   "execution_count": 10,
   "metadata": {
    "colab": {
     "base_uri": "https://localhost:8080/"
    },
    "id": "nOR7IhG0XMgV",
    "outputId": "b6a7cd70-0da3-4c8e-a581-f875a9f75857"
   },
   "outputs": [
    {
     "name": "stdout",
     "output_type": "stream",
     "text": [
      "(128, 128, 3)\n",
      "121\n"
     ]
    }
   ],
   "source": [
    "print( noimg[1].shape)\n",
    "print(len(noimg))"
   ]
  },
  {
   "cell_type": "markdown",
   "metadata": {
    "id": "t3NWL9_NIdwK"
   },
   "source": [
    "###  What is the percentage of images with and without mobile phone in the data"
   ]
  },
  {
   "cell_type": "code",
   "execution_count": 11,
   "metadata": {
    "id": "NKy7Lw5mFVTi"
   },
   "outputs": [],
   "source": [
    "total_img_count = len(yesimg)+len(noimg)\n",
    "class1_freq = (len(yesimg)/total_img_count)*100\n",
    "class0_freq = (len(noimg)/total_img_count)*100"
   ]
  },
  {
   "cell_type": "code",
   "execution_count": 12,
   "metadata": {
    "colab": {
     "base_uri": "https://localhost:8080/"
    },
    "id": "1fwk9cGVXSiG",
    "outputId": "0201bddb-a1ab-4527-f39f-2f171d246dcd"
   },
   "outputs": [
    {
     "name": "stdout",
     "output_type": "stream",
     "text": [
      "Class 1 Frequency (%): 50.61224489795918\n",
      "Class 0 Frequency (%): 49.38775510204081\n",
      "Total no. of images: 245\n"
     ]
    }
   ],
   "source": [
    "print(\"Class 1 Frequency (%):\",class1_freq)\n",
    "print(\"Class 0 Frequency (%):\",class0_freq)\n",
    "print(\"Total no. of images:\",total_img_count)"
   ]
  },
  {
   "cell_type": "markdown",
   "metadata": {
    "id": "JVZ2zlPNDOmi"
   },
   "source": [
    "### Concatenate above two arrays (array having image details of with and without mobile) into one variable and check the final size of the data\n",
    "### Concatenate lists having label data into one list"
   ]
  },
  {
   "cell_type": "code",
   "execution_count": 13,
   "metadata": {
    "colab": {
     "base_uri": "https://localhost:8080/"
    },
    "id": "88u5BB9NDs2N",
    "outputId": "4dd22079-b535-462a-8f11-2a102dda6c55"
   },
   "outputs": [
    {
     "name": "stdout",
     "output_type": "stream",
     "text": [
      "(245, 128, 128, 3)\n"
     ]
    }
   ],
   "source": [
    "X_img = np.concatenate((yesimg,noimg), axis=0)\n",
    "\n",
    "# Checking  shape and size of data after concatenation\n",
    "\n",
    "print(X_img.shape)"
   ]
  },
  {
   "cell_type": "code",
   "execution_count": 14,
   "metadata": {
    "colab": {
     "base_uri": "https://localhost:8080/"
    },
    "id": "1xRUgxj0XZ1d",
    "outputId": "9dd320bf-bf55-4e7c-d0c2-abb9eee2741c"
   },
   "outputs": [
    {
     "name": "stdout",
     "output_type": "stream",
     "text": [
      "(245,)\n"
     ]
    }
   ],
   "source": [
    "Y = np.concatenate((y_yes,y_no), axis=0)\n",
    "\n",
    "# Checking  shape and size of data after concatenation\n",
    "\n",
    "print(Y.shape)"
   ]
  },
  {
   "cell_type": "markdown",
   "metadata": {
    "id": "rVv66DvSDvY0"
   },
   "source": [
    "### Shuffle the above data and labels ( Data and label should be in sync)"
   ]
  },
  {
   "cell_type": "code",
   "execution_count": 15,
   "metadata": {
    "id": "JC2Uu4r0EFDX"
   },
   "outputs": [],
   "source": [
    "from sklearn.utils import shuffle\n",
    "data, label = shuffle(X_img, Y, random_state = 9)"
   ]
  },
  {
   "cell_type": "markdown",
   "metadata": {
    "id": "IERuYS1BHuCq"
   },
   "source": [
    "## 4. Visualize and Standardize the data"
   ]
  },
  {
   "cell_type": "markdown",
   "metadata": {
    "id": "kxODV6HKykuc"
   },
   "source": [
    "### Visualise the first 10 images in the data and print their corresponding labels."
   ]
  },
  {
   "cell_type": "code",
   "execution_count": 16,
   "metadata": {
    "colab": {
     "base_uri": "https://localhost:8080/",
     "height": 95
    },
    "id": "__YELlwqE8Cl",
    "outputId": "69f2afeb-e5e0-44be-f9df-9d50a4a77bf6"
   },
   "outputs": [
    {
     "data": {
      "image/png": "[encoded data removed]",
      "text/plain": [
       "<Figure size 720x72 with 10 Axes>"
      ]
     },
     "metadata": {
      "needs_background": "light",
      "tags": []
     },
     "output_type": "display_data"
    },
    {
     "name": "stdout",
     "output_type": "stream",
     "text": [
      "Label for each of the above images is: [1 0 0 1 0 0 1 1 1 0]\n"
     ]
    }
   ],
   "source": [
    "%matplotlib inline\n",
    "\n",
    "import matplotlib.pyplot as plt\n",
    "\n",
    "plt.figure(figsize=(10, 1))\n",
    "for i in range(10):\n",
    "        plt.subplot(1, 10, i+1)\n",
    "        plt.imshow(data[i],cmap='gray')\n",
    "        plt.axis('off')\n",
    "plt.show()\n",
    "\n",
    "print('Label for each of the above images is: %s' % (label[0:10]))"
   ]
  },
  {
   "cell_type": "markdown",
   "metadata": {
    "id": "LUvm8AMvEFaA"
   },
   "source": [
    "### Split the data into train and test"
   ]
  },
  {
   "cell_type": "code",
   "execution_count": 17,
   "metadata": {
    "id": "kKVEf3zWF0Qq"
   },
   "outputs": [],
   "source": [
    "from sklearn.model_selection import train_test_split\n",
    "\n",
    "X_train, X_test, y_train, y_test = train_test_split( data, label, test_size=0.25, random_state=9)"
   ]
  },
  {
   "cell_type": "markdown",
   "metadata": {
    "id": "y1ZC0x0I3-jo"
   },
   "source": [
    "### Print shape of the X train and X test data"
   ]
  },
  {
   "cell_type": "code",
   "execution_count": 18,
   "metadata": {
    "colab": {
     "base_uri": "https://localhost:8080/"
    },
    "id": "Dm8gmQt2FEUd",
    "outputId": "538c7efc-8119-4f7a-bb58-f24968e49140"
   },
   "outputs": [
    {
     "name": "stdout",
     "output_type": "stream",
     "text": [
      "(183, 128, 128, 3)\n",
      "(62, 128, 128, 3)\n"
     ]
    }
   ],
   "source": [
    "print(X_train.shape)\n",
    "print(X_test.shape)"
   ]
  },
  {
   "cell_type": "markdown",
   "metadata": {
    "id": "W1Zgo_3LFSWE"
   },
   "source": [
    "### Normalize the data by dividing by 255"
   ]
  },
  {
   "cell_type": "code",
   "execution_count": 19,
   "metadata": {
    "id": "AMDN2gK0FZ22"
   },
   "outputs": [],
   "source": [
    "#Normalize the values to appear between 0 and 1\n",
    "\n",
    "X_train_std = X_train/255.0\n",
    "X_test_std = X_test/255.0"
   ]
  },
  {
   "cell_type": "markdown",
   "metadata": {
    "id": "bogxx3cezol1"
   },
   "source": [
    "###  One hot encode the labels for train and test data \n",
    "Hint:- We need to one hot encode the labels for the model to understand the labels better. We will be using categorical cross entropy as our loss function and for this purpose we need our labels to be in one hot encoded format."
   ]
  },
  {
   "cell_type": "code",
   "execution_count": 20,
   "metadata": {
    "colab": {
     "base_uri": "https://localhost:8080/"
    },
    "id": "4R0pPQFBFjp1",
    "outputId": "23d95edb-07c4-4c26-b7b7-158ec152249a"
   },
   "outputs": [
    {
     "name": "stdout",
     "output_type": "stream",
     "text": [
      "(183, 2)\n",
      "(62, 2)\n"
     ]
    }
   ],
   "source": [
    "from tensorflow.keras.utils import to_categorical\n",
    "\n",
    "y_train_oh = to_categorical(y_train)\n",
    "y_test_oh = to_categorical(y_test)\n",
    "\n",
    "print(y_train_oh.shape)\n",
    "print(y_test_oh.shape)"
   ]
  },
  {
   "cell_type": "markdown",
   "metadata": {
    "id": "xztigzzfITt-"
   },
   "source": [
    "## 5. Model building"
   ]
  },
  {
   "cell_type": "markdown",
   "metadata": {
    "id": "UJDUoaEj1d6e"
   },
   "source": [
    "### Define the model architecture using TensorFlow with a Conv2D layer followed by dense layers with activation as ReLu and softmax respectively. "
   ]
  },
  {
   "cell_type": "code",
   "execution_count": 21,
   "metadata": {
    "id": "RhT_PLicFuDu"
   },
   "outputs": [],
   "source": [
    "epochs = 30\n",
    "batch_size = 32\n",
    "n_classes = 2"
   ]
  },
  {
   "cell_type": "code",
   "execution_count": 22,
   "metadata": {
    "id": "0X_u58rlXzCy"
   },
   "outputs": [],
   "source": [
    "import  tensorflow as tf\n",
    "\n",
    "from tensorflow.keras.layers import Conv2D, MaxPooling2D, Flatten, Dense\n",
    "\n",
    "model = tf.keras.models.Sequential()\n",
    "model.add(Conv2D(32,(3,3),activation= 'relu', input_shape=(128,128,3)))\n",
    "model.add(MaxPooling2D(2,2))\n",
    "model.add(Conv2D(64,(5,5),activation= 'relu'))\n",
    "model.add(MaxPooling2D(2,2))\n",
    "model.add(Flatten())\n",
    "model.add(Dense(n_classes,activation= 'softmax'))"
   ]
  },
  {
   "cell_type": "markdown",
   "metadata": {
    "id": "DAJbHWAbF1Ko"
   },
   "source": [
    "### Compile the above model using appropriate loss metric. Try with sgd, adam optimizer and \"accuracy\" as metrics. "
   ]
  },
  {
   "cell_type": "code",
   "execution_count": 23,
   "metadata": {
    "id": "wBcO5lBmGMCW"
   },
   "outputs": [],
   "source": [
    "opt =  tf.keras.optimizers.Adam(lr=1e-3)"
   ]
  },
  {
   "cell_type": "code",
   "execution_count": 24,
   "metadata": {
    "id": "IxXyZPWFX8ss"
   },
   "outputs": [],
   "source": [
    "model.compile(loss='categorical_crossentropy',optimizer= opt, metrics = ['accuracy'])"
   ]
  },
  {
   "cell_type": "code",
   "execution_count": 25,
   "metadata": {
    "colab": {
     "base_uri": "https://localhost:8080/"
    },
    "id": "i3krLT4cX83R",
    "outputId": "3de83483-571a-45c7-951a-3b1dbe821e43"
   },
   "outputs": [
    {
     "name": "stdout",
     "output_type": "stream",
     "text": [
      "Model: \"sequential\"\n",
      "_________________________________________________________________\n",
      "Layer (type)                 Output Shape              Param #   \n",
      "=================================================================\n",
      "conv2d (Conv2D)              (None, 126, 126, 32)      896       \n",
      "_________________________________________________________________\n",
      "max_pooling2d (MaxPooling2D) (None, 63, 63, 32)        0         \n",
      "_________________________________________________________________\n",
      "conv2d_1 (Conv2D)            (None, 59, 59, 64)        51264     \n",
      "_________________________________________________________________\n",
      "max_pooling2d_1 (MaxPooling2 (None, 29, 29, 64)        0         \n",
      "_________________________________________________________________\n",
      "flatten (Flatten)            (None, 53824)             0         \n",
      "_________________________________________________________________\n",
      "dense (Dense)                (None, 2)                 107650    \n",
      "=================================================================\n",
      "Total params: 159,810\n",
      "Trainable params: 159,810\n",
      "Non-trainable params: 0\n",
      "_________________________________________________________________\n"
     ]
    }
   ],
   "source": [
    "model.summary()"
   ]
  },
  {
   "cell_type": "markdown",
   "metadata": {
    "id": "5t90ufg46jLl"
   },
   "source": [
    "### Fit the model on the training dataset along with it's equivalent one hot encoded labels"
   ]
  },
  {
   "cell_type": "code",
   "execution_count": 26,
   "metadata": {
    "colab": {
     "base_uri": "https://localhost:8080/"
    },
    "id": "1OSrPoT9GPKs",
    "outputId": "eee7ca28-a840-4154-a139-8dea5a04ee0a"
   },
   "outputs": [
    {
     "name": "stdout",
     "output_type": "stream",
     "text": [
      "Epoch 1/30\n",
      "6/6 [==============================] - 4s 121ms/step - loss: 0.8135 - accuracy: 0.6175 - val_loss: 0.6585 - val_accuracy: 0.7581\n",
      "Epoch 2/30\n",
      "6/6 [==============================] - 0s 23ms/step - loss: 0.6181 - accuracy: 0.7596 - val_loss: 0.7144 - val_accuracy: 0.5000\n",
      "Epoch 3/30\n",
      "6/6 [==============================] - 0s 23ms/step - loss: 0.4606 - accuracy: 0.8306 - val_loss: 0.5311 - val_accuracy: 0.7903\n",
      "Epoch 4/30\n",
      "6/6 [==============================] - 0s 23ms/step - loss: 0.3164 - accuracy: 0.8907 - val_loss: 0.4693 - val_accuracy: 0.7903\n",
      "Epoch 5/30\n",
      "6/6 [==============================] - 0s 28ms/step - loss: 0.2722 - accuracy: 0.8907 - val_loss: 0.4301 - val_accuracy: 0.7903\n",
      "Epoch 6/30\n",
      "6/6 [==============================] - 0s 22ms/step - loss: 0.2223 - accuracy: 0.9235 - val_loss: 0.4961 - val_accuracy: 0.7581\n",
      "Epoch 7/30\n",
      "6/6 [==============================] - 0s 23ms/step - loss: 0.1738 - accuracy: 0.9563 - val_loss: 0.4535 - val_accuracy: 0.7581\n",
      "Epoch 8/30\n",
      "6/6 [==============================] - 0s 23ms/step - loss: 0.1195 - accuracy: 0.9672 - val_loss: 0.5497 - val_accuracy: 0.7419\n",
      "Epoch 9/30\n",
      "6/6 [==============================] - 0s 23ms/step - loss: 0.1029 - accuracy: 0.9836 - val_loss: 0.7929 - val_accuracy: 0.7419\n",
      "Epoch 10/30\n",
      "6/6 [==============================] - 0s 23ms/step - loss: 0.0935 - accuracy: 0.9781 - val_loss: 0.5715 - val_accuracy: 0.8226\n",
      "Epoch 11/30\n",
      "6/6 [==============================] - 0s 23ms/step - loss: 0.0751 - accuracy: 0.9781 - val_loss: 0.5488 - val_accuracy: 0.7903\n",
      "Epoch 12/30\n",
      "6/6 [==============================] - 0s 23ms/step - loss: 0.0561 - accuracy: 0.9945 - val_loss: 0.5623 - val_accuracy: 0.7742\n",
      "Epoch 13/30\n",
      "6/6 [==============================] - 0s 24ms/step - loss: 0.0526 - accuracy: 0.9945 - val_loss: 0.6448 - val_accuracy: 0.7742\n",
      "Epoch 14/30\n",
      "6/6 [==============================] - 0s 24ms/step - loss: 0.0311 - accuracy: 0.9945 - val_loss: 0.8059 - val_accuracy: 0.7903\n",
      "Epoch 15/30\n",
      "6/6 [==============================] - 0s 23ms/step - loss: 0.0294 - accuracy: 0.9945 - val_loss: 0.7290 - val_accuracy: 0.8226\n",
      "Epoch 16/30\n",
      "6/6 [==============================] - 0s 23ms/step - loss: 0.0254 - accuracy: 0.9945 - val_loss: 0.7751 - val_accuracy: 0.8226\n",
      "Epoch 17/30\n",
      "6/6 [==============================] - 0s 23ms/step - loss: 0.0216 - accuracy: 0.9945 - val_loss: 0.7534 - val_accuracy: 0.8226\n",
      "Epoch 18/30\n",
      "6/6 [==============================] - 0s 23ms/step - loss: 0.0151 - accuracy: 0.9945 - val_loss: 0.7944 - val_accuracy: 0.8387\n",
      "Epoch 19/30\n",
      "6/6 [==============================] - 0s 23ms/step - loss: 0.0117 - accuracy: 0.9945 - val_loss: 0.8032 - val_accuracy: 0.8226\n",
      "Epoch 20/30\n",
      "6/6 [==============================] - 0s 24ms/step - loss: 0.0098 - accuracy: 0.9945 - val_loss: 0.8325 - val_accuracy: 0.8065\n",
      "Epoch 21/30\n",
      "6/6 [==============================] - 0s 25ms/step - loss: 0.0063 - accuracy: 1.0000 - val_loss: 0.8889 - val_accuracy: 0.8065\n",
      "Epoch 22/30\n",
      "6/6 [==============================] - 0s 25ms/step - loss: 0.0059 - accuracy: 1.0000 - val_loss: 0.9239 - val_accuracy: 0.8065\n",
      "Epoch 23/30\n",
      "6/6 [==============================] - 0s 24ms/step - loss: 0.0051 - accuracy: 1.0000 - val_loss: 0.9499 - val_accuracy: 0.7903\n",
      "Epoch 24/30\n",
      "6/6 [==============================] - 0s 23ms/step - loss: 0.0030 - accuracy: 1.0000 - val_loss: 0.9522 - val_accuracy: 0.8226\n",
      "Epoch 25/30\n",
      "6/6 [==============================] - 0s 23ms/step - loss: 0.0034 - accuracy: 1.0000 - val_loss: 1.0117 - val_accuracy: 0.8065\n",
      "Epoch 26/30\n",
      "6/6 [==============================] - 0s 23ms/step - loss: 0.0024 - accuracy: 1.0000 - val_loss: 1.0594 - val_accuracy: 0.8226\n",
      "Epoch 27/30\n",
      "6/6 [==============================] - 0s 24ms/step - loss: 0.0019 - accuracy: 1.0000 - val_loss: 1.0573 - val_accuracy: 0.8065\n",
      "Epoch 28/30\n",
      "6/6 [==============================] - 0s 23ms/step - loss: 0.0017 - accuracy: 1.0000 - val_loss: 1.0814 - val_accuracy: 0.8065\n",
      "Epoch 29/30\n",
      "6/6 [==============================] - 0s 23ms/step - loss: 0.0016 - accuracy: 1.0000 - val_loss: 1.1177 - val_accuracy: 0.8065\n",
      "Epoch 30/30\n",
      "6/6 [==============================] - 0s 24ms/step - loss: 0.0013 - accuracy: 1.0000 - val_loss: 1.1345 - val_accuracy: 0.8065\n"
     ]
    }
   ],
   "source": [
    "training_history = model.fit(X_train_std,\n",
    "                             y_train_oh,\n",
    "                             validation_data = (X_test_std,y_test_oh), \n",
    "                             epochs = epochs , \n",
    "                             batch_size=batch_size,\n",
    "                             verbose=1)"
   ]
  },
  {
   "cell_type": "markdown",
   "metadata": {
    "id": "algw3-VGIj-N"
   },
   "source": [
    "## 6. Evaluate the model\n"
   ]
  },
  {
   "cell_type": "markdown",
   "metadata": {
    "id": "PJ44TJ4gGQUC"
   },
   "source": [
    "### Evaluate the model on test data and print loss and accuracy"
   ]
  },
  {
   "cell_type": "code",
   "execution_count": 27,
   "metadata": {
    "colab": {
     "base_uri": "https://localhost:8080/"
    },
    "id": "ThluFnGNGWh7",
    "outputId": "9d541191-7a12-46f0-9317-3e1dfeabc0d6"
   },
   "outputs": [
    {
     "name": "stdout",
     "output_type": "stream",
     "text": [
      "2/2 [==============================] - 0s 14ms/step - loss: 1.1345 - accuracy: 0.8065\n",
      "Loss: 1.1344656944274902\n",
      "Accuracy: 0.8064516186714172\n"
     ]
    }
   ],
   "source": [
    "scores = model.evaluate(X_test_std,y_test_oh)\n",
    "print(\"Loss:\",scores[0])\n",
    "print(\"Accuracy:\",scores[1])"
   ]
  },
  {
   "cell_type": "markdown",
   "metadata": {
    "id": "hyzKGfaKGapH"
   },
   "source": [
    "### Predict label data of the test data and check confusion matrix"
   ]
  },
  {
   "cell_type": "code",
   "execution_count": 28,
   "metadata": {
    "colab": {
     "base_uri": "https://localhost:8080/"
    },
    "id": "jqlmsPhxGh-K",
    "outputId": "f21ceab6-32fc-488d-c2fb-fd2ea2d8a317"
   },
   "outputs": [
    {
     "data": {
      "text/plain": [
       "array([[22,  4],\n",
       "       [ 8, 28]])"
      ]
     },
     "execution_count": 28,
     "metadata": {
      "tags": []
     },
     "output_type": "execute_result"
    }
   ],
   "source": [
    "import numpy as np\n",
    "y_pred = np.argmax(model.predict(X_test_std),axis = 1)\n",
    "\n",
    "from sklearn.metrics import confusion_matrix\n",
    "confusion_matrix(y_test,y_pred)"
   ]
  },
  {
   "cell_type": "markdown",
   "metadata": {
    "id": "C3cctwoeGwHa"
   },
   "source": [
    "### Display test images and their predicted label for a few samples"
   ]
  },
  {
   "cell_type": "code",
   "execution_count": 29,
   "metadata": {
    "colab": {
     "base_uri": "https://localhost:8080/",
     "height": 179
    },
    "id": "FvbAyNElHH_G",
    "outputId": "d313c1a0-ac8a-4da1-b9c8-b98f5f0b8cb9"
   },
   "outputs": [
    {
     "data": {
      "image/png": "[encoded data removed]",
      "text/plain": [
       "<Figure size 864x576 with 5 Axes>"
      ]
     },
     "metadata": {
      "needs_background": "light",
      "tags": []
     },
     "output_type": "display_data"
    }
   ],
   "source": [
    "sample = model.predict_classes(X_test_std)\n",
    "\n",
    "test_pred = X_test_std\n",
    "\n",
    "def show_pred(show, test_pred,sample):\n",
    "  fig,axs= plt.subplots(1, show, figsize=(12,8))\n",
    "  for i in range(0, show):\n",
    "    axs[i].imshow(test_pred[i],label=sample[i])\n",
    "    axs[i].set_title('Label: {}'.format(sample[i]))\n",
    "    \n",
    "show_pred(5,test_pred, sample)"
   ]
  },
  {
   "cell_type": "markdown",
   "metadata": {
    "id": "ZruCtc4GGkVr"
   },
   "source": [
    "### Print following plots\n",
    "1. Plot training accuracy vs validation accuracy\n",
    "2. Plot training loss vs validation loss"
   ]
  },
  {
   "cell_type": "code",
   "execution_count": 30,
   "metadata": {
    "id": "2nf532Q_HWWM"
   },
   "outputs": [],
   "source": [
    "accuracy = training_history.history['accuracy']\n",
    "val_accuracy = training_history.history['val_accuracy']\n",
    "loss = training_history.history['loss']\n",
    "val_loss = training_history.history['val_loss']"
   ]
  },
  {
   "cell_type": "code",
   "execution_count": 31,
   "metadata": {
    "colab": {
     "base_uri": "https://localhost:8080/",
     "height": 315
    },
    "id": "ggyalWzMYTVa",
    "outputId": "a36520cc-1b61-4ebf-dca7-7563cf6fd70f"
   },
   "outputs": [
    {
     "data": {
      "text/plain": [
       "<Figure size 432x288 with 0 Axes>"
      ]
     },
     "execution_count": 31,
     "metadata": {
      "tags": []
     },
     "output_type": "execute_result"
    },
    {
     "data": {
      "image/png": "[encoded data removed]",
      "text/plain": [
       "<Figure size 432x288 with 1 Axes>"
      ]
     },
     "metadata": {
      "needs_background": "light",
      "tags": []
     },
     "output_type": "display_data"
    },
    {
     "data": {
      "text/plain": [
       "<Figure size 432x288 with 0 Axes>"
      ]
     },
     "metadata": {
      "tags": []
     },
     "output_type": "display_data"
    }
   ],
   "source": [
    "epochs = range(len(accuracy))\n",
    "plt.plot(epochs, accuracy,label= 'Train Accuracy')\n",
    "plt.plot(epochs, val_accuracy,label= 'Validation Accuracy')\n",
    "plt.title('Training and Validation Accuracy')\n",
    "plt.legend(loc='lower right')\n",
    "plt.figure()"
   ]
  },
  {
   "cell_type": "code",
   "execution_count": 32,
   "metadata": {
    "colab": {
     "base_uri": "https://localhost:8080/",
     "height": 315
    },
    "id": "7M57K9bZYWYC",
    "outputId": "b048ee8d-77f1-4210-b024-7d127bfd8e60"
   },
   "outputs": [
    {
     "data": {
      "text/plain": [
       "<Figure size 432x288 with 0 Axes>"
      ]
     },
     "execution_count": 32,
     "metadata": {
      "tags": []
     },
     "output_type": "execute_result"
    },
    {
     "data": {
      "image/png": "[encoded data removed]",
      "text/plain": [
       "<Figure size 432x288 with 1 Axes>"
      ]
     },
     "metadata": {
      "needs_background": "light",
      "tags": []
     },
     "output_type": "display_data"
    },
    {
     "data": {
      "text/plain": [
       "<Figure size 432x288 with 0 Axes>"
      ]
     },
     "metadata": {
      "tags": []
     },
     "output_type": "display_data"
    }
   ],
   "source": [
    "plt.plot(epochs, loss,label= 'Train Loss')\n",
    "plt.plot(epochs, val_loss,label= 'Validation Loss')\n",
    "plt.title('Training and Validation Loss')\n",
    "plt.legend(loc='lower right')\n",
    "plt.figure()"
   ]
  },
  {
   "cell_type": "markdown",
   "metadata": {
    "id": "hH63EB-xGHJq"
   },
   "source": [
    "## 7.  Conclusion and Interpretation"
   ]
  },
  {
   "cell_type": "markdown",
   "metadata": {
    "id": "5ixHI0FcHIMo"
   },
   "source": [
    "### Write your observations and findings"
   ]
  },
  {
   "cell_type": "markdown",
   "metadata": {
    "id": "7H8Ol55jFaDA"
   },
   "source": [
    "At an very early stage we are going into the overfit zone also the validation accuracy almost remains the same showing there isn't any learning. \n",
    "After a certain epochs we can see that train loss is decreasing but the validation loss is increasing showing that we are definitely going into the overfit zone "
   ]
  },
  {
   "cell_type": "markdown",
   "metadata": {
    "id": "WnoWVy0GGPs5"
   },
   "source": [
    "## 8. Further Explore"
   ]
  },
  {
   "cell_type": "markdown",
   "metadata": {
    "id": "NKEwRyW9JnCd"
   },
   "source": [
    "### Try changing a few hyperparameters such as number of layers in the network or number of units in a hidden layer or try different activation functions in the hidden layers and see if you get better results than the previous network"
   ]
  },
  {
   "cell_type": "code",
   "execution_count": 33,
   "metadata": {
    "colab": {
     "base_uri": "https://localhost:8080/"
    },
    "id": "OFRVkBdnHbW4",
    "outputId": "7821ed8d-9c81-41c2-f337-136c03903e1d"
   },
   "outputs": [
    {
     "data": {
      "text/plain": [
       "<function tensorflow.python.keras.backend.clear_session>"
      ]
     },
     "execution_count": 33,
     "metadata": {
      "tags": []
     },
     "output_type": "execute_result"
    }
   ],
   "source": [
    "tf.keras.backend.clear_session"
   ]
  },
  {
   "cell_type": "code",
   "execution_count": 34,
   "metadata": {
    "id": "IRDdTqU5Yccc"
   },
   "outputs": [],
   "source": [
    "import  tensorflow as tf\n",
    "\n",
    "from tensorflow.keras.layers import Conv2D, MaxPooling2D, Flatten, Dense\n",
    "\n",
    "model = tf.keras.models.Sequential()\n",
    "model.add(Conv2D(256,(4,4),activation= 'relu', input_shape=(128,128,3)))\n",
    "model.add(MaxPooling2D(4,4))\n",
    "model.add(Conv2D(256,(4,4),activation= 'relu'))\n",
    "model.add(MaxPooling2D(4,4))\n",
    "model.add(Conv2D(256,(4,4),activation= 'relu'))\n",
    "model.add(MaxPooling2D(4,4))\n",
    "model.add(Flatten())\n",
    "model.add(Dense(500,activation= 'relu'))\n",
    "model.add(Dense(125,activation= 'relu'))\n",
    "model.add(Dense(n_classes,activation= 'softmax'))"
   ]
  },
  {
   "cell_type": "code",
   "execution_count": 35,
   "metadata": {
    "id": "WS2mPK6uYnN0"
   },
   "outputs": [],
   "source": [
    "opt = tf.keras.optimizers.Adam(lr=1e-3)"
   ]
  },
  {
   "cell_type": "code",
   "execution_count": 36,
   "metadata": {
    "id": "7XfR5NBf8WqE"
   },
   "outputs": [],
   "source": [
    "model.compile(loss='categorical_crossentropy',optimizer = opt, metrics = ['accuracy'])"
   ]
  },
  {
   "cell_type": "code",
   "execution_count": 37,
   "metadata": {
    "colab": {
     "base_uri": "https://localhost:8080/"
    },
    "id": "87fzjouM9BVt",
    "outputId": "2d468a0d-5e30-4ace-db01-d39ebf47dfa3"
   },
   "outputs": [
    {
     "name": "stdout",
     "output_type": "stream",
     "text": [
      "Epoch 1/15\n",
      "6/6 [==============================] - 3s 328ms/step - loss: 0.7353 - accuracy: 0.4590 - val_loss: 0.6805 - val_accuracy: 0.7258\n",
      "Epoch 2/15\n",
      "6/6 [==============================] - 0s 63ms/step - loss: 0.6580 - accuracy: 0.6831 - val_loss: 0.6935 - val_accuracy: 0.5323\n",
      "Epoch 3/15\n",
      "6/6 [==============================] - 0s 66ms/step - loss: 0.5838 - accuracy: 0.7104 - val_loss: 0.6603 - val_accuracy: 0.6290\n",
      "Epoch 4/15\n",
      "6/6 [==============================] - 0s 63ms/step - loss: 0.4052 - accuracy: 0.8306 - val_loss: 0.6308 - val_accuracy: 0.7097\n",
      "Epoch 5/15\n",
      "6/6 [==============================] - 0s 63ms/step - loss: 0.3874 - accuracy: 0.8525 - val_loss: 0.4335 - val_accuracy: 0.7903\n",
      "Epoch 6/15\n",
      "6/6 [==============================] - 0s 62ms/step - loss: 0.2677 - accuracy: 0.8907 - val_loss: 0.3867 - val_accuracy: 0.8065\n",
      "Epoch 7/15\n",
      "6/6 [==============================] - 0s 70ms/step - loss: 0.2035 - accuracy: 0.9071 - val_loss: 0.4972 - val_accuracy: 0.8871\n",
      "Epoch 8/15\n",
      "6/6 [==============================] - 0s 65ms/step - loss: 0.1922 - accuracy: 0.9235 - val_loss: 0.3161 - val_accuracy: 0.9032\n",
      "Epoch 9/15\n",
      "6/6 [==============================] - 0s 65ms/step - loss: 0.1974 - accuracy: 0.9290 - val_loss: 0.2906 - val_accuracy: 0.8548\n",
      "Epoch 10/15\n",
      "6/6 [==============================] - 0s 63ms/step - loss: 0.1686 - accuracy: 0.9454 - val_loss: 0.2996 - val_accuracy: 0.8548\n",
      "Epoch 11/15\n",
      "6/6 [==============================] - 0s 63ms/step - loss: 0.1266 - accuracy: 0.9672 - val_loss: 0.2962 - val_accuracy: 0.9032\n",
      "Epoch 12/15\n",
      "6/6 [==============================] - 0s 63ms/step - loss: 0.0969 - accuracy: 0.9781 - val_loss: 0.2798 - val_accuracy: 0.8710\n",
      "Epoch 13/15\n",
      "6/6 [==============================] - 0s 63ms/step - loss: 0.1088 - accuracy: 0.9672 - val_loss: 0.3836 - val_accuracy: 0.9032\n",
      "Epoch 14/15\n",
      "6/6 [==============================] - 0s 64ms/step - loss: 0.0683 - accuracy: 0.9781 - val_loss: 0.2914 - val_accuracy: 0.8710\n",
      "Epoch 15/15\n",
      "6/6 [==============================] - 0s 63ms/step - loss: 0.0406 - accuracy: 0.9891 - val_loss: 0.4372 - val_accuracy: 0.9032\n"
     ]
    }
   ],
   "source": [
    "training_history = model.fit(X_train_std,\n",
    "                             y_train_oh,\n",
    "                             validation_data = (X_test_std,y_test_oh), \n",
    "                             epochs = 15 , \n",
    "                             batch_size=batch_size,\n",
    "                             verbose=1)"
   ]
  },
  {
   "cell_type": "code",
   "execution_count": 38,
   "metadata": {
    "colab": {
     "base_uri": "https://localhost:8080/"
    },
    "id": "J8DHOzgzBzM9",
    "outputId": "ebc30b82-2677-464d-c972-3da5f4df3a67"
   },
   "outputs": [
    {
     "name": "stdout",
     "output_type": "stream",
     "text": [
      "2/2 [==============================] - 0s 23ms/step - loss: 0.4372 - accuracy: 0.9032\n",
      "Loss: 0.4372178912162781\n",
      "Accuracy: 0.9032257795333862\n"
     ]
    }
   ],
   "source": [
    "scores = model.evaluate(X_test_std,y_test_oh)\n",
    "print(\"Loss:\",scores[0])\n",
    "print(\"Accuracy:\",scores[1])"
   ]
  },
  {
   "cell_type": "code",
   "execution_count": null,
   "metadata": {
    "id": "kh0fNQzpIarL"
   },
   "outputs": [],
   "source": []
  }
 ],
 "metadata": {
  "accelerator": "GPU",
  "colab": {
   "collapsed_sections": [],
   "name": "CV Lab Question Notebook.ipynb",
   "provenance": []
  },
  "kernelspec": {
   "display_name": "Python 3",
   "language": "python",
   "name": "python3"
  },
  "language_info": {
   "codemirror_mode": {
    "name": "ipython",
    "version": 3
   },
   "file_extension": ".py",
   "mimetype": "text/x-python",
   "name": "python",
   "nbconvert_exporter": "python",
   "pygments_lexer": "ipython3",
   "version": "3.8.3"
  }
 },
 "nbformat": 4,
 "nbformat_minor": 1
}
