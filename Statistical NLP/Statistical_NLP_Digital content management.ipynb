{
 "cells": [
  {
   "cell_type": "code",
   "execution_count": 1,
   "metadata": {
    "id": "czLdV5Xibvag"
   },
   "outputs": [],
   "source": [
    "from google.colab import drive"
   ]
  },
  {
   "cell_type": "code",
   "execution_count": 2,
   "metadata": {
    "colab": {
     "base_uri": "https://localhost:8080/"
    },
    "id": "FHbe3aYlcKCL",
    "outputId": "46a22d2d-e2c7-4743-f09b-34c8648ba99b"
   },
   "outputs": [
    {
     "name": "stdout",
     "output_type": "stream",
     "text": [
      "Drive already mounted at /content/drive; to attempt to forcibly remount, call drive.mount(\"/content/drive\", force_remount=True).\n"
     ]
    }
   ],
   "source": [
    "drive.mount('/content/drive')"
   ]
  },
  {
   "cell_type": "code",
   "execution_count": 3,
   "metadata": {
    "colab": {
     "base_uri": "https://localhost:8080/"
    },
    "id": "98aZQ8jvcOd2",
    "outputId": "f3bad882-c999-4447-f582-7b840d92d072"
   },
   "outputs": [
    {
     "name": "stdout",
     "output_type": "stream",
     "text": [
      "2.5.0\n"
     ]
    }
   ],
   "source": [
    "import pandas as pd\n",
    "import warnings\n",
    "import os\n",
    "import numpy as np\n",
    "import matplotlib.pyplot as plt\n",
    "%matplotlib inline\n",
    "from matplotlib import pyplot\n",
    "import seaborn as sns\n",
    "import tensorflow \n",
    "print(tensorflow.__version__)\n",
    "\n",
    "warnings.filterwarnings('ignore')\n",
    "\n",
    "pd.options.display.max_columns = None\n",
    "\n",
    "pd.options.display.float_format = '{:.7f}'.format\n",
    "\n",
    "pd.options.display.max_rows = None"
   ]
  },
  {
   "cell_type": "code",
   "execution_count": 4,
   "metadata": {
    "id": "8LoiMwRzcuH9"
   },
   "outputs": [],
   "source": [
    "df=pd.read_csv('/content/drive/MyDrive/Statistical NLP/blogtext.csv')"
   ]
  },
  {
   "cell_type": "code",
   "execution_count": 5,
   "metadata": {
    "colab": {
     "base_uri": "https://localhost:8080/",
     "height": 204
    },
    "id": "KFnZNXW9dUBR",
    "outputId": "ae79b2f9-e799-45e7-92c8-6d44eae5f74d"
   },
   "outputs": [
    {
     "data": {
      "text/html": [
       "<div>\n",
       "<style scoped>\n",
       "    .dataframe tbody tr th:only-of-type {\n",
       "        vertical-align: middle;\n",
       "    }\n",
       "\n",
       "    .dataframe tbody tr th {\n",
       "        vertical-align: top;\n",
       "    }\n",
       "\n",
       "    .dataframe thead th {\n",
       "        text-align: right;\n",
       "    }\n",
       "</style>\n",
       "<table border=\"1\" class=\"dataframe\">\n",
       "  <thead>\n",
       "    <tr style=\"text-align: right;\">\n",
       "      <th></th>\n",
       "      <th>id</th>\n",
       "      <th>gender</th>\n",
       "      <th>age</th>\n",
       "      <th>topic</th>\n",
       "      <th>sign</th>\n",
       "      <th>date</th>\n",
       "      <th>text</th>\n",
       "    </tr>\n",
       "  </thead>\n",
       "  <tbody>\n",
       "    <tr>\n",
       "      <th>644675</th>\n",
       "      <td>2755041</td>\n",
       "      <td>female</td>\n",
       "      <td>23</td>\n",
       "      <td>indUnk</td>\n",
       "      <td>Aquarius</td>\n",
       "      <td>30,June,2004</td>\n",
       "      <td>Had a whirlwind of a weekend in CT, lun...</td>\n",
       "    </tr>\n",
       "    <tr>\n",
       "      <th>221416</th>\n",
       "      <td>3489244</td>\n",
       "      <td>female</td>\n",
       "      <td>45</td>\n",
       "      <td>indUnk</td>\n",
       "      <td>Gemini</td>\n",
       "      <td>07,July,2004</td>\n",
       "      <td>urlLink    Yesterdays Foam Tray Print&amp;...</td>\n",
       "    </tr>\n",
       "    <tr>\n",
       "      <th>518432</th>\n",
       "      <td>1977468</td>\n",
       "      <td>female</td>\n",
       "      <td>23</td>\n",
       "      <td>Student</td>\n",
       "      <td>Taurus</td>\n",
       "      <td>08,August,2004</td>\n",
       "      <td>By Dave  So what happens when you googl...</td>\n",
       "    </tr>\n",
       "    <tr>\n",
       "      <th>115761</th>\n",
       "      <td>3403444</td>\n",
       "      <td>female</td>\n",
       "      <td>14</td>\n",
       "      <td>indUnk</td>\n",
       "      <td>Taurus</td>\n",
       "      <td>22,July,2004</td>\n",
       "      <td>COOLGAL805: ur weird. a lil crazy. and ...</td>\n",
       "    </tr>\n",
       "    <tr>\n",
       "      <th>598768</th>\n",
       "      <td>3495649</td>\n",
       "      <td>male</td>\n",
       "      <td>14</td>\n",
       "      <td>indUnk</td>\n",
       "      <td>Cancer</td>\n",
       "      <td>12,June,2004</td>\n",
       "      <td>One day a little bunny named Jubble...</td>\n",
       "    </tr>\n",
       "  </tbody>\n",
       "</table>\n",
       "</div>"
      ],
      "text/plain": [
       "             id  gender  age    topic      sign            date  \\\n",
       "644675  2755041  female   23   indUnk  Aquarius    30,June,2004   \n",
       "221416  3489244  female   45   indUnk    Gemini    07,July,2004   \n",
       "518432  1977468  female   23  Student    Taurus  08,August,2004   \n",
       "115761  3403444  female   14   indUnk    Taurus    22,July,2004   \n",
       "598768  3495649    male   14   indUnk    Cancer    12,June,2004   \n",
       "\n",
       "                                                     text  \n",
       "644675         Had a whirlwind of a weekend in CT, lun...  \n",
       "221416          urlLink    Yesterdays Foam Tray Print&...  \n",
       "518432         By Dave  So what happens when you googl...  \n",
       "115761         COOLGAL805: ur weird. a lil crazy. and ...  \n",
       "598768             One day a little bunny named Jubble...  "
      ]
     },
     "execution_count": 5,
     "metadata": {
      "tags": []
     },
     "output_type": "execute_result"
    }
   ],
   "source": [
    "df.sample(5)"
   ]
  },
  {
   "cell_type": "code",
   "execution_count": 6,
   "metadata": {
    "colab": {
     "base_uri": "https://localhost:8080/"
    },
    "id": "eGg6Hln0gFbE",
    "outputId": "8e3b638f-04b1-42dc-adc1-d23f6c0727e6"
   },
   "outputs": [
    {
     "data": {
      "text/plain": [
       "(681284, 7)"
      ]
     },
     "execution_count": 6,
     "metadata": {
      "tags": []
     },
     "output_type": "execute_result"
    }
   ],
   "source": [
    "df.shape"
   ]
  },
  {
   "cell_type": "code",
   "execution_count": 7,
   "metadata": {
    "colab": {
     "base_uri": "https://localhost:8080/"
    },
    "id": "IV29sQPidZfb",
    "outputId": "d2bd0509-66f6-4dc1-a761-4ef1c9be05e4"
   },
   "outputs": [
    {
     "name": "stdout",
     "output_type": "stream",
     "text": [
      "<class 'pandas.core.frame.DataFrame'>\n",
      "RangeIndex: 681284 entries, 0 to 681283\n",
      "Data columns (total 7 columns):\n",
      " #   Column  Non-Null Count   Dtype \n",
      "---  ------  --------------   ----- \n",
      " 0   id      681284 non-null  int64 \n",
      " 1   gender  681284 non-null  object\n",
      " 2   age     681284 non-null  int64 \n",
      " 3   topic   681284 non-null  object\n",
      " 4   sign    681284 non-null  object\n",
      " 5   date    681284 non-null  object\n",
      " 6   text    681284 non-null  object\n",
      "dtypes: int64(2), object(5)\n",
      "memory usage: 36.4+ MB\n"
     ]
    }
   ],
   "source": [
    "df.info()"
   ]
  },
  {
   "cell_type": "code",
   "execution_count": 8,
   "metadata": {
    "colab": {
     "base_uri": "https://localhost:8080/",
     "height": 286
    },
    "id": "9BpFADn-c3sZ",
    "outputId": "85b4cf5a-b3fb-43e2-8fa7-3b1dab4712cc"
   },
   "outputs": [
    {
     "data": {
      "text/html": [
       "<div>\n",
       "<style scoped>\n",
       "    .dataframe tbody tr th:only-of-type {\n",
       "        vertical-align: middle;\n",
       "    }\n",
       "\n",
       "    .dataframe tbody tr th {\n",
       "        vertical-align: top;\n",
       "    }\n",
       "\n",
       "    .dataframe thead th {\n",
       "        text-align: right;\n",
       "    }\n",
       "</style>\n",
       "<table border=\"1\" class=\"dataframe\">\n",
       "  <thead>\n",
       "    <tr style=\"text-align: right;\">\n",
       "      <th></th>\n",
       "      <th>count</th>\n",
       "      <th>unique</th>\n",
       "      <th>top</th>\n",
       "      <th>freq</th>\n",
       "      <th>mean</th>\n",
       "      <th>std</th>\n",
       "      <th>min</th>\n",
       "      <th>25%</th>\n",
       "      <th>50%</th>\n",
       "      <th>75%</th>\n",
       "      <th>max</th>\n",
       "    </tr>\n",
       "  </thead>\n",
       "  <tbody>\n",
       "    <tr>\n",
       "      <th>id</th>\n",
       "      <td>681284.0000000</td>\n",
       "      <td>NaN</td>\n",
       "      <td>NaN</td>\n",
       "      <td>NaN</td>\n",
       "      <td>2397802.4033956</td>\n",
       "      <td>1247722.7013254</td>\n",
       "      <td>5114.0000000</td>\n",
       "      <td>1239610.0000000</td>\n",
       "      <td>2607577.0000000</td>\n",
       "      <td>3525660.0000000</td>\n",
       "      <td>4337650.0000000</td>\n",
       "    </tr>\n",
       "    <tr>\n",
       "      <th>gender</th>\n",
       "      <td>681284</td>\n",
       "      <td>2</td>\n",
       "      <td>male</td>\n",
       "      <td>345193</td>\n",
       "      <td>NaN</td>\n",
       "      <td>NaN</td>\n",
       "      <td>NaN</td>\n",
       "      <td>NaN</td>\n",
       "      <td>NaN</td>\n",
       "      <td>NaN</td>\n",
       "      <td>NaN</td>\n",
       "    </tr>\n",
       "    <tr>\n",
       "      <th>age</th>\n",
       "      <td>681284.0000000</td>\n",
       "      <td>NaN</td>\n",
       "      <td>NaN</td>\n",
       "      <td>NaN</td>\n",
       "      <td>23.9323263</td>\n",
       "      <td>7.7860087</td>\n",
       "      <td>13.0000000</td>\n",
       "      <td>17.0000000</td>\n",
       "      <td>24.0000000</td>\n",
       "      <td>26.0000000</td>\n",
       "      <td>48.0000000</td>\n",
       "    </tr>\n",
       "    <tr>\n",
       "      <th>topic</th>\n",
       "      <td>681284</td>\n",
       "      <td>40</td>\n",
       "      <td>indUnk</td>\n",
       "      <td>251015</td>\n",
       "      <td>NaN</td>\n",
       "      <td>NaN</td>\n",
       "      <td>NaN</td>\n",
       "      <td>NaN</td>\n",
       "      <td>NaN</td>\n",
       "      <td>NaN</td>\n",
       "      <td>NaN</td>\n",
       "    </tr>\n",
       "    <tr>\n",
       "      <th>sign</th>\n",
       "      <td>681284</td>\n",
       "      <td>12</td>\n",
       "      <td>Cancer</td>\n",
       "      <td>65048</td>\n",
       "      <td>NaN</td>\n",
       "      <td>NaN</td>\n",
       "      <td>NaN</td>\n",
       "      <td>NaN</td>\n",
       "      <td>NaN</td>\n",
       "      <td>NaN</td>\n",
       "      <td>NaN</td>\n",
       "    </tr>\n",
       "    <tr>\n",
       "      <th>date</th>\n",
       "      <td>681284</td>\n",
       "      <td>2616</td>\n",
       "      <td>02,August,2004</td>\n",
       "      <td>16544</td>\n",
       "      <td>NaN</td>\n",
       "      <td>NaN</td>\n",
       "      <td>NaN</td>\n",
       "      <td>NaN</td>\n",
       "      <td>NaN</td>\n",
       "      <td>NaN</td>\n",
       "      <td>NaN</td>\n",
       "    </tr>\n",
       "    <tr>\n",
       "      <th>text</th>\n",
       "      <td>681284</td>\n",
       "      <td>611652</td>\n",
       "      <td>urlLink</td>\n",
       "      <td>445</td>\n",
       "      <td>NaN</td>\n",
       "      <td>NaN</td>\n",
       "      <td>NaN</td>\n",
       "      <td>NaN</td>\n",
       "      <td>NaN</td>\n",
       "      <td>NaN</td>\n",
       "      <td>NaN</td>\n",
       "    </tr>\n",
       "  </tbody>\n",
       "</table>\n",
       "</div>"
      ],
      "text/plain": [
       "                count  unique                  top    freq            mean  \\\n",
       "id     681284.0000000     NaN                  NaN     NaN 2397802.4033956   \n",
       "gender         681284       2                 male  345193             NaN   \n",
       "age    681284.0000000     NaN                  NaN     NaN      23.9323263   \n",
       "topic          681284      40               indUnk  251015             NaN   \n",
       "sign           681284      12               Cancer   65048             NaN   \n",
       "date           681284    2616       02,August,2004   16544             NaN   \n",
       "text           681284  611652           urlLink        445             NaN   \n",
       "\n",
       "                   std          min             25%             50%  \\\n",
       "id     1247722.7013254 5114.0000000 1239610.0000000 2607577.0000000   \n",
       "gender             NaN          NaN             NaN             NaN   \n",
       "age          7.7860087   13.0000000      17.0000000      24.0000000   \n",
       "topic              NaN          NaN             NaN             NaN   \n",
       "sign               NaN          NaN             NaN             NaN   \n",
       "date               NaN          NaN             NaN             NaN   \n",
       "text               NaN          NaN             NaN             NaN   \n",
       "\n",
       "                   75%             max  \n",
       "id     3525660.0000000 4337650.0000000  \n",
       "gender             NaN             NaN  \n",
       "age         26.0000000      48.0000000  \n",
       "topic              NaN             NaN  \n",
       "sign               NaN             NaN  \n",
       "date               NaN             NaN  \n",
       "text               NaN             NaN  "
      ]
     },
     "execution_count": 8,
     "metadata": {
      "tags": []
     },
     "output_type": "execute_result"
    }
   ],
   "source": [
    "df.describe(include='all').T"
   ]
  },
  {
   "cell_type": "code",
   "execution_count": 9,
   "metadata": {
    "id": "s81SExkgoWI4"
   },
   "outputs": [],
   "source": [
    "df.drop(['id', 'date'], axis=1, inplace = True)"
   ]
  },
  {
   "cell_type": "markdown",
   "metadata": {
    "id": "h1vMPqC39cPT"
   },
   "source": [
    "Taking a sample to train the data as the data is huge\n"
   ]
  },
  {
   "cell_type": "code",
   "execution_count": 10,
   "metadata": {
    "id": "w8WAAhmv9m6s"
   },
   "outputs": [],
   "source": [
    "df=df.head(10000)"
   ]
  },
  {
   "cell_type": "code",
   "execution_count": 11,
   "metadata": {
    "colab": {
     "base_uri": "https://localhost:8080/"
    },
    "id": "xSvugIG-o_f6",
    "outputId": "07da05f3-e5d7-48f6-88a5-910bc0deed65"
   },
   "outputs": [
    {
     "data": {
      "text/plain": [
       "(10000, 5)"
      ]
     },
     "execution_count": 11,
     "metadata": {
      "tags": []
     },
     "output_type": "execute_result"
    }
   ],
   "source": [
    "df.shape"
   ]
  },
  {
   "cell_type": "code",
   "execution_count": 12,
   "metadata": {
    "colab": {
     "base_uri": "https://localhost:8080/",
     "height": 307
    },
    "id": "jHRoUlkDdAzv",
    "outputId": "98bf54f5-9900-4d1b-e2b6-827887ae3769"
   },
   "outputs": [
    {
     "data": {
      "text/plain": [
       "<matplotlib.axes._subplots.AxesSubplot at 0x7f5223bf9090>"
      ]
     },
     "execution_count": 12,
     "metadata": {
      "tags": []
     },
     "output_type": "execute_result"
    },
    {
     "data": {
      "image/png": "[encoded data removed]",
      "text/plain": [
       "<Figure size 432x288 with 1 Axes>"
      ]
     },
     "metadata": {
      "needs_background": "light",
      "tags": []
     },
     "output_type": "display_data"
    }
   ],
   "source": [
    "df['gender'].value_counts().plot(kind='bar')"
   ]
  },
  {
   "cell_type": "code",
   "execution_count": 13,
   "metadata": {
    "colab": {
     "base_uri": "https://localhost:8080/",
     "height": 400
    },
    "id": "njAIpXzHgxTO",
    "outputId": "04791ffe-cbf4-41dc-e764-5d8f29cb53ec"
   },
   "outputs": [
    {
     "data": {
      "text/plain": [
       "<matplotlib.axes._subplots.AxesSubplot at 0x7f52200448d0>"
      ]
     },
     "execution_count": 13,
     "metadata": {
      "tags": []
     },
     "output_type": "execute_result"
    },
    {
     "data": {
      "image/png": "[encoded data removed]",
      "text/plain": [
       "<Figure size 432x288 with 1 Axes>"
      ]
     },
     "metadata": {
      "needs_background": "light",
      "tags": []
     },
     "output_type": "display_data"
    }
   ],
   "source": [
    "df['topic'].value_counts().plot(kind='bar')"
   ]
  },
  {
   "cell_type": "code",
   "execution_count": 14,
   "metadata": {
    "colab": {
     "base_uri": "https://localhost:8080/"
    },
    "id": "xRiIPXNdlOuB",
    "outputId": "2730678c-8499-444a-c0a1-adab456f2daa"
   },
   "outputs": [
    {
     "data": {
      "text/plain": [
       "Index(['gender', 'age', 'topic', 'sign', 'text'], dtype='object')"
      ]
     },
     "execution_count": 14,
     "metadata": {
      "tags": []
     },
     "output_type": "execute_result"
    }
   ],
   "source": [
    "df.columns"
   ]
  },
  {
   "cell_type": "code",
   "execution_count": 15,
   "metadata": {
    "id": "yrj1WpOxmLHK"
   },
   "outputs": [],
   "source": [
    "df['text'] = df['text'].astype(str) #chaning text to string type to proceed with preparing data for model"
   ]
  },
  {
   "cell_type": "code",
   "execution_count": 16,
   "metadata": {
    "colab": {
     "base_uri": "https://localhost:8080/",
     "height": 111
    },
    "id": "zRXmFYjXnRyK",
    "outputId": "f97de646-f4dd-43f2-f93b-487215d50dff"
   },
   "outputs": [
    {
     "data": {
      "text/html": [
       "<div>\n",
       "<style scoped>\n",
       "    .dataframe tbody tr th:only-of-type {\n",
       "        vertical-align: middle;\n",
       "    }\n",
       "\n",
       "    .dataframe tbody tr th {\n",
       "        vertical-align: top;\n",
       "    }\n",
       "\n",
       "    .dataframe thead th {\n",
       "        text-align: right;\n",
       "    }\n",
       "</style>\n",
       "<table border=\"1\" class=\"dataframe\">\n",
       "  <thead>\n",
       "    <tr style=\"text-align: right;\">\n",
       "      <th></th>\n",
       "      <th>gender</th>\n",
       "      <th>age</th>\n",
       "      <th>topic</th>\n",
       "      <th>sign</th>\n",
       "      <th>text</th>\n",
       "      <th>review_text</th>\n",
       "    </tr>\n",
       "  </thead>\n",
       "  <tbody>\n",
       "    <tr>\n",
       "      <th>0</th>\n",
       "      <td>male</td>\n",
       "      <td>15</td>\n",
       "      <td>Student</td>\n",
       "      <td>Leo</td>\n",
       "      <td>Info has been found (+/- 100 pages,...</td>\n",
       "      <td>info has been found (+/- 100 pages,...</td>\n",
       "    </tr>\n",
       "    <tr>\n",
       "      <th>1</th>\n",
       "      <td>male</td>\n",
       "      <td>15</td>\n",
       "      <td>Student</td>\n",
       "      <td>Leo</td>\n",
       "      <td>These are the team members:   Drewe...</td>\n",
       "      <td>these are the team members:   drewe...</td>\n",
       "    </tr>\n",
       "  </tbody>\n",
       "</table>\n",
       "</div>"
      ],
      "text/plain": [
       "  gender  age    topic sign  \\\n",
       "0   male   15  Student  Leo   \n",
       "1   male   15  Student  Leo   \n",
       "\n",
       "                                                text  \\\n",
       "0             Info has been found (+/- 100 pages,...   \n",
       "1             These are the team members:   Drewe...   \n",
       "\n",
       "                                         review_text  \n",
       "0             info has been found (+/- 100 pages,...  \n",
       "1             these are the team members:   drewe...  "
      ]
     },
     "execution_count": 16,
     "metadata": {
      "tags": []
     },
     "output_type": "execute_result"
    }
   ],
   "source": [
    "df['review_text'] = df['text'].apply(lambda x: x.lower())\n",
    "df.head(2)"
   ]
  },
  {
   "cell_type": "code",
   "execution_count": 17,
   "metadata": {
    "colab": {
     "base_uri": "https://localhost:8080/"
    },
    "id": "FrazF4cHndyU",
    "outputId": "9de0c269-d8fa-4315-e4f1-5d795e575a67"
   },
   "outputs": [
    {
     "data": {
      "text/plain": [
       "0               info has been found  100 pages and ...\n",
       "1               these are the team members   drewes...\n",
       "Name: review_text, dtype: object"
      ]
     },
     "execution_count": 17,
     "metadata": {
      "tags": []
     },
     "output_type": "execute_result"
    }
   ],
   "source": [
    "df['review_text'] = df['review_text'].str.replace('[^\\w\\s]','')\n",
    "df['review_text'].head(2)"
   ]
  },
  {
   "cell_type": "code",
   "execution_count": 18,
   "metadata": {
    "colab": {
     "base_uri": "https://localhost:8080/"
    },
    "id": "moph4voLnrLq",
    "outputId": "1e6e4431-180d-4f09-ca22-4c070d7e316c"
   },
   "outputs": [
    {
     "name": "stdout",
     "output_type": "stream",
     "text": [
      "[nltk_data] Downloading package stopwords to /root/nltk_data...\n",
      "[nltk_data]   Package stopwords is already up-to-date!\n"
     ]
    }
   ],
   "source": [
    "import nltk\n",
    "nltk.download('stopwords')\n",
    "\n",
    "from nltk.corpus import stopwords\n",
    "stop=set(stopwords.words('english'))"
   ]
  },
  {
   "cell_type": "code",
   "execution_count": 19,
   "metadata": {
    "id": "OPFSXIwtoi1g"
   },
   "outputs": [],
   "source": [
    "df['review_text']=df['review_text'].apply(lambda x: ' '.join([words for words in x.split() if words not in stop]))"
   ]
  },
  {
   "cell_type": "code",
   "execution_count": 20,
   "metadata": {
    "colab": {
     "base_uri": "https://localhost:8080/"
    },
    "id": "B_l9_2aKo-Ih",
    "outputId": "8ecb5410-8289-4652-8c37-fa47ceb60f0a"
   },
   "outputs": [
    {
     "data": {
      "text/plain": [
       "0    info found 100 pages 45 mb pdf files wait unti...\n",
       "1    team members drewes van der laag urllink mail ...\n",
       "Name: review_text, dtype: object"
      ]
     },
     "execution_count": 20,
     "metadata": {
      "tags": []
     },
     "output_type": "execute_result"
    }
   ],
   "source": [
    "df['review_text'].head(2)"
   ]
  },
  {
   "cell_type": "code",
   "execution_count": 21,
   "metadata": {
    "colab": {
     "base_uri": "https://localhost:8080/"
    },
    "id": "2G6UXDG1pQsI",
    "outputId": "4ffe6462-5db8-4b1c-a167-0090ea656fa9"
   },
   "outputs": [
    {
     "name": "stdout",
     "output_type": "stream",
     "text": [
      "[nltk_data] Downloading package wordnet to /root/nltk_data...\n",
      "[nltk_data]   Package wordnet is already up-to-date!\n"
     ]
    },
    {
     "data": {
      "text/plain": [
       "True"
      ]
     },
     "execution_count": 21,
     "metadata": {
      "tags": []
     },
     "output_type": "execute_result"
    }
   ],
   "source": [
    "nltk.download('wordnet')"
   ]
  },
  {
   "cell_type": "code",
   "execution_count": 22,
   "metadata": {
    "id": "wVflTLncpVws"
   },
   "outputs": [],
   "source": [
    "w_tokenizer = nltk.tokenize.WhitespaceTokenizer()\n",
    "lemmatizer = nltk.stem.WordNetLemmatizer()\n",
    "\n",
    "def lemetize_text(text):\n",
    "  return \" \".join([lemmatizer.lemmatize(w) for w in w_tokenizer.tokenize(text)])"
   ]
  },
  {
   "cell_type": "code",
   "execution_count": 23,
   "metadata": {
    "colab": {
     "base_uri": "https://localhost:8080/"
    },
    "id": "6X392fdRpZ3G",
    "outputId": "0b658579-2d9d-4c34-975f-6339d716ea1b"
   },
   "outputs": [
    {
     "data": {
      "text/plain": [
       "0    info found 100 page 45 mb pdf file wait untill...\n",
       "1    team member drewes van der laag urllink mail r...\n",
       "Name: lem, dtype: object"
      ]
     },
     "execution_count": 23,
     "metadata": {
      "tags": []
     },
     "output_type": "execute_result"
    }
   ],
   "source": [
    "df['lem']= df['review_text'].apply(lemetize_text)\n",
    "df['lem'].head(2)"
   ]
  },
  {
   "cell_type": "code",
   "execution_count": 24,
   "metadata": {
    "colab": {
     "base_uri": "https://localhost:8080/",
     "height": 204
    },
    "id": "nuqjyw7E1KZL",
    "outputId": "98db63b6-4d5b-4040-83ff-3b93ec047277"
   },
   "outputs": [
    {
     "data": {
      "text/html": [
       "<div>\n",
       "<style scoped>\n",
       "    .dataframe tbody tr th:only-of-type {\n",
       "        vertical-align: middle;\n",
       "    }\n",
       "\n",
       "    .dataframe tbody tr th {\n",
       "        vertical-align: top;\n",
       "    }\n",
       "\n",
       "    .dataframe thead th {\n",
       "        text-align: right;\n",
       "    }\n",
       "</style>\n",
       "<table border=\"1\" class=\"dataframe\">\n",
       "  <thead>\n",
       "    <tr style=\"text-align: right;\">\n",
       "      <th></th>\n",
       "      <th>gender</th>\n",
       "      <th>age</th>\n",
       "      <th>topic</th>\n",
       "      <th>sign</th>\n",
       "      <th>text</th>\n",
       "      <th>review_text</th>\n",
       "      <th>lem</th>\n",
       "    </tr>\n",
       "  </thead>\n",
       "  <tbody>\n",
       "    <tr>\n",
       "      <th>0</th>\n",
       "      <td>male</td>\n",
       "      <td>15</td>\n",
       "      <td>Student</td>\n",
       "      <td>Leo</td>\n",
       "      <td>Info has been found (+/- 100 pages,...</td>\n",
       "      <td>info found 100 pages 45 mb pdf files wait unti...</td>\n",
       "      <td>info found 100 page 45 mb pdf file wait untill...</td>\n",
       "    </tr>\n",
       "    <tr>\n",
       "      <th>1</th>\n",
       "      <td>male</td>\n",
       "      <td>15</td>\n",
       "      <td>Student</td>\n",
       "      <td>Leo</td>\n",
       "      <td>These are the team members:   Drewe...</td>\n",
       "      <td>team members drewes van der laag urllink mail ...</td>\n",
       "      <td>team member drewes van der laag urllink mail r...</td>\n",
       "    </tr>\n",
       "    <tr>\n",
       "      <th>2</th>\n",
       "      <td>male</td>\n",
       "      <td>15</td>\n",
       "      <td>Student</td>\n",
       "      <td>Leo</td>\n",
       "      <td>In het kader van kernfusie op aarde...</td>\n",
       "      <td>het kader van kernfusie op aarde maak je eigen...</td>\n",
       "      <td>het kader van kernfusie op aarde maak je eigen...</td>\n",
       "    </tr>\n",
       "    <tr>\n",
       "      <th>3</th>\n",
       "      <td>male</td>\n",
       "      <td>15</td>\n",
       "      <td>Student</td>\n",
       "      <td>Leo</td>\n",
       "      <td>testing!!!  testing!!!</td>\n",
       "      <td>testing testing</td>\n",
       "      <td>testing testing</td>\n",
       "    </tr>\n",
       "    <tr>\n",
       "      <th>4</th>\n",
       "      <td>male</td>\n",
       "      <td>33</td>\n",
       "      <td>InvestmentBanking</td>\n",
       "      <td>Aquarius</td>\n",
       "      <td>Thanks to Yahoo!'s Toolbar I can ...</td>\n",
       "      <td>thanks yahoos toolbar capture urls popupswhich...</td>\n",
       "      <td>thanks yahoo toolbar capture url popupswhich m...</td>\n",
       "    </tr>\n",
       "  </tbody>\n",
       "</table>\n",
       "</div>"
      ],
      "text/plain": [
       "  gender  age              topic      sign  \\\n",
       "0   male   15            Student       Leo   \n",
       "1   male   15            Student       Leo   \n",
       "2   male   15            Student       Leo   \n",
       "3   male   15            Student       Leo   \n",
       "4   male   33  InvestmentBanking  Aquarius   \n",
       "\n",
       "                                                text  \\\n",
       "0             Info has been found (+/- 100 pages,...   \n",
       "1             These are the team members:   Drewe...   \n",
       "2             In het kader van kernfusie op aarde...   \n",
       "3                   testing!!!  testing!!!             \n",
       "4               Thanks to Yahoo!'s Toolbar I can ...   \n",
       "\n",
       "                                         review_text  \\\n",
       "0  info found 100 pages 45 mb pdf files wait unti...   \n",
       "1  team members drewes van der laag urllink mail ...   \n",
       "2  het kader van kernfusie op aarde maak je eigen...   \n",
       "3                                    testing testing   \n",
       "4  thanks yahoos toolbar capture urls popupswhich...   \n",
       "\n",
       "                                                 lem  \n",
       "0  info found 100 page 45 mb pdf file wait untill...  \n",
       "1  team member drewes van der laag urllink mail r...  \n",
       "2  het kader van kernfusie op aarde maak je eigen...  \n",
       "3                                    testing testing  \n",
       "4  thanks yahoo toolbar capture url popupswhich m...  "
      ]
     },
     "execution_count": 24,
     "metadata": {
      "tags": []
     },
     "output_type": "execute_result"
    }
   ],
   "source": [
    "df.head()"
   ]
  },
  {
   "cell_type": "code",
   "execution_count": 25,
   "metadata": {
    "id": "GwFw98j9IZCg"
   },
   "outputs": [],
   "source": [
    "from sklearn.feature_extraction.text import TfidfVectorizer\n",
    "tfidf_vectorizer= TfidfVectorizer()"
   ]
  },
  {
   "cell_type": "code",
   "execution_count": 26,
   "metadata": {
    "id": "2TBS2pLjIZpY"
   },
   "outputs": [],
   "source": [
    "X= tfidf_vectorizer.fit_transform(df['lem'])"
   ]
  },
  {
   "cell_type": "code",
   "execution_count": 27,
   "metadata": {
    "id": "MDw0tfa0rgzJ"
   },
   "outputs": [],
   "source": [
    "df[\"age\"] = df[\"age\"].astype(str)\n",
    "df[\"labels\"] = df.apply(lambda col :[col[\"gender\"],col[\"age\"],col[\"topic\"],col[\"sign\"]],axis =1)"
   ]
  },
  {
   "cell_type": "code",
   "execution_count": 28,
   "metadata": {
    "id": "_p7TsFt8HmNs"
   },
   "outputs": [],
   "source": [
    "df.drop(columns=[\"gender\",\"age\",\"sign\",\"topic\"],axis =1, inplace = True)"
   ]
  },
  {
   "cell_type": "code",
   "execution_count": 29,
   "metadata": {
    "colab": {
     "base_uri": "https://localhost:8080/"
    },
    "id": "MeSwpgZcMOQP",
    "outputId": "81b054e2-ff41-403b-a430-a9ca6e096a21"
   },
   "outputs": [
    {
     "data": {
      "text/plain": [
       "{'13': 42,\n",
       " '14': 212,\n",
       " '15': 602,\n",
       " '16': 440,\n",
       " '17': 1185,\n",
       " '23': 253,\n",
       " '24': 655,\n",
       " '25': 386,\n",
       " '26': 234,\n",
       " '27': 1054,\n",
       " '33': 136,\n",
       " '34': 553,\n",
       " '35': 2315,\n",
       " '36': 1708,\n",
       " '37': 33,\n",
       " '38': 46,\n",
       " '39': 79,\n",
       " '40': 1,\n",
       " '41': 20,\n",
       " '42': 14,\n",
       " '43': 6,\n",
       " '44': 3,\n",
       " '45': 16,\n",
       " '46': 7,\n",
       " 'Accounting': 4,\n",
       " 'Aquarius': 571,\n",
       " 'Aries': 4198,\n",
       " 'Arts': 45,\n",
       " 'Automotive': 14,\n",
       " 'Banking': 16,\n",
       " 'BusinessServices': 91,\n",
       " 'Cancer': 504,\n",
       " 'Capricorn': 215,\n",
       " 'Communications-Media': 99,\n",
       " 'Consulting': 21,\n",
       " 'Education': 270,\n",
       " 'Engineering': 127,\n",
       " 'Fashion': 1622,\n",
       " 'Gemini': 150,\n",
       " 'HumanResources': 2,\n",
       " 'Internet': 118,\n",
       " 'InvestmentBanking': 70,\n",
       " 'Law': 11,\n",
       " 'LawEnforcement-Security': 10,\n",
       " 'Leo': 301,\n",
       " 'Libra': 491,\n",
       " 'Marketing': 156,\n",
       " 'Museums-Libraries': 17,\n",
       " 'Non-Profit': 71,\n",
       " 'Pisces': 454,\n",
       " 'Publishing': 4,\n",
       " 'Religion': 9,\n",
       " 'Sagittarius': 1097,\n",
       " 'Science': 63,\n",
       " 'Scorpio': 971,\n",
       " 'Sports-Recreation': 80,\n",
       " 'Student': 1137,\n",
       " 'Taurus': 812,\n",
       " 'Technology': 2654,\n",
       " 'Telecommunications': 2,\n",
       " 'Virgo': 236,\n",
       " 'female': 4084,\n",
       " 'indUnk': 3287,\n",
       " 'male': 5916}"
      ]
     },
     "execution_count": 29,
     "metadata": {
      "tags": []
     },
     "output_type": "execute_result"
    }
   ],
   "source": [
    "label_counts=dict()\n",
    "\n",
    "for labels in df.labels.values:\n",
    "    for label in labels:\n",
    "        if label in label_counts:\n",
    "            label_counts[str(label)]+=1\n",
    "        else:\n",
    "            label_counts[str(label)]=1\n",
    "        \n",
    "label_counts"
   ]
  },
  {
   "cell_type": "code",
   "execution_count": 30,
   "metadata": {
    "id": "-ZquIBtVMSyQ"
   },
   "outputs": [],
   "source": [
    "from sklearn.preprocessing import MultiLabelBinarizer\n",
    "\n",
    "# Transform between iterable of iterables and a multilabel format\n",
    "binarizer=MultiLabelBinarizer(classes=sorted(label_counts.keys()))\n",
    "\n",
    "\n",
    "Y = binarizer.fit_transform(df[\"labels\"])"
   ]
  },
  {
   "cell_type": "code",
   "execution_count": 31,
   "metadata": {
    "id": "y71sk5nkMEu9"
   },
   "outputs": [],
   "source": [
    "from sklearn.model_selection import train_test_split\n",
    "X_train,X_test,y1_train,y1_test = train_test_split(X,Y, random_state =42, test_size=0.20)"
   ]
  },
  {
   "cell_type": "code",
   "execution_count": 32,
   "metadata": {
    "colab": {
     "base_uri": "https://localhost:8080/"
    },
    "id": "ACgxyXhnMGnV",
    "outputId": "8d2619eb-8809-4e8e-dd0e-dc7589f5baf9"
   },
   "outputs": [
    {
     "name": "stdout",
     "output_type": "stream",
     "text": [
      "(8000, 62814)\n",
      "(2000, 62814)\n",
      "(8000, 64)\n",
      "(2000, 64)\n"
     ]
    }
   ],
   "source": [
    "print(X_train.shape)\n",
    "print(X_test.shape)\n",
    "print(y1_train.shape)\n",
    "print(y1_test.shape)"
   ]
  },
  {
   "cell_type": "code",
   "execution_count": 33,
   "metadata": {
    "id": "dO8gNeQUszMR"
   },
   "outputs": [],
   "source": [
    "from sklearn.ensemble import RandomForestClassifier\n",
    "rf_clf1= RandomForestClassifier(n_estimators= 230)"
   ]
  },
  {
   "cell_type": "code",
   "execution_count": 34,
   "metadata": {
    "colab": {
     "base_uri": "https://localhost:8080/"
    },
    "id": "N2736-iOs4og",
    "outputId": "0d222b2c-2c62-4bcb-a66f-62147fbbe826"
   },
   "outputs": [
    {
     "data": {
      "text/plain": [
       "RandomForestClassifier(bootstrap=True, ccp_alpha=0.0, class_weight=None,\n",
       "                       criterion='gini', max_depth=None, max_features='auto',\n",
       "                       max_leaf_nodes=None, max_samples=None,\n",
       "                       min_impurity_decrease=0.0, min_impurity_split=None,\n",
       "                       min_samples_leaf=1, min_samples_split=2,\n",
       "                       min_weight_fraction_leaf=0.0, n_estimators=230,\n",
       "                       n_jobs=None, oob_score=False, random_state=None,\n",
       "                       verbose=0, warm_start=False)"
      ]
     },
     "execution_count": 34,
     "metadata": {
      "tags": []
     },
     "output_type": "execute_result"
    }
   ],
   "source": [
    "rf_clf1.fit(X_train, y1_train)  "
   ]
  },
  {
   "cell_type": "code",
   "execution_count": 35,
   "metadata": {
    "colab": {
     "base_uri": "https://localhost:8080/"
    },
    "id": "tsdsaT5zrWB0",
    "outputId": "03e87b69-5c8c-4fe7-bb69-1c90ea564e65"
   },
   "outputs": [
    {
     "name": "stdout",
     "output_type": "stream",
     "text": [
      "0.994625\n"
     ]
    }
   ],
   "source": [
    "print(rf_clf1.score(X_train,y1_train))"
   ]
  },
  {
   "cell_type": "code",
   "execution_count": 36,
   "metadata": {
    "id": "U9YPzaPLN0rc"
   },
   "outputs": [],
   "source": [
    "y1_pred =rf_clf1.predict(X_test)"
   ]
  },
  {
   "cell_type": "code",
   "execution_count": 37,
   "metadata": {
    "colab": {
     "base_uri": "https://localhost:8080/"
    },
    "id": "1cRRuzoION9d",
    "outputId": "340924c5-e39f-43bf-9cf3-49eda7524937"
   },
   "outputs": [
    {
     "name": "stdout",
     "output_type": "stream",
     "text": [
      "Accuracy score:  0.144\n",
      "F1 score:  0.4699770036623797\n",
      "Average precision score:  0.2952917773489709\n",
      "Average recall score:  0.344875\n"
     ]
    }
   ],
   "source": [
    "from sklearn.metrics import accuracy_score\n",
    "from sklearn.metrics import f1_score\n",
    "from sklearn.metrics import average_precision_score\n",
    "from sklearn.metrics import recall_score\n",
    "\n",
    "print('Accuracy score: ', accuracy_score(y1_test, y1_pred))\n",
    "print('F1 score: ', f1_score(y1_test, y1_pred, average='micro'))\n",
    "print('Average precision score: ', average_precision_score(y1_test, y1_pred, average='micro'))\n",
    "print('Average recall score: ', recall_score(y1_test, y1_pred, average='micro'))"
   ]
  },
  {
   "cell_type": "markdown",
   "metadata": {
    "id": "nOCThkkPYcne"
   },
   "source": [
    "The Accuracy for the model is very low i.e. 14.4% and overfitting. Also the precision and recall isn't showing a good result only 29% and 34%. After tunning also the performance is not increasing. This would have performed better if we would be able to use complete data but on using the complete data the model is getting crashed."
   ]
  },
  {
   "cell_type": "code",
   "execution_count": 38,
   "metadata": {
    "colab": {
     "base_uri": "https://localhost:8080/"
    },
    "id": "QIZHnqik2KBe",
    "outputId": "2c06deba-0c4d-4a36-e622-9e0d2e080e00"
   },
   "outputs": [
    {
     "name": "stdout",
     "output_type": "stream",
     "text": [
      "Actual value is \n",
      " [[0 0 0 ... 0 0 1]\n",
      " [0 0 0 ... 0 1 1]\n",
      " [0 0 0 ... 0 0 1]\n",
      " ...\n",
      " [0 0 0 ... 0 0 1]\n",
      " [0 0 1 ... 1 0 0]\n",
      " [0 0 0 ... 0 0 1]] \n",
      " \n",
      " Predicted value is\n",
      " [[0 0 0 ... 0 0 1]\n",
      " [0 0 0 ... 1 0 0]\n",
      " [0 0 0 ... 0 0 1]\n",
      " ...\n",
      " [0 0 0 ... 0 0 1]\n",
      " [0 0 0 ... 1 0 0]\n",
      " [0 0 0 ... 0 0 1]]\n"
     ]
    }
   ],
   "source": [
    "print('Actual value is \\n',y1_test, '\\n \\n Predicted value is\\n', rf_clf1.predict(X_test))"
   ]
  }
 ],
 "metadata": {
  "accelerator": "GPU",
  "colab": {
   "collapsed_sections": [],
   "name": "Untitled0.ipynb",
   "provenance": []
  },
  "kernelspec": {
   "display_name": "Python 3",
   "language": "python",
   "name": "python3"
  },
  "language_info": {
   "codemirror_mode": {
    "name": "ipython",
    "version": 3
   },
   "file_extension": ".py",
   "mimetype": "text/x-python",
   "name": "python",
   "nbconvert_exporter": "python",
   "pygments_lexer": "ipython3",
   "version": "3.8.3"
  }
 },
 "nbformat": 4,
 "nbformat_minor": 1
}
