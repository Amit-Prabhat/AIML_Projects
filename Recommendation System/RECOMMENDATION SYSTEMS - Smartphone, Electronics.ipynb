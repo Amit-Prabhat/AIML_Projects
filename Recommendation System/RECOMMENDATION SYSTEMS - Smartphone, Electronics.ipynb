{
 "cells": [
  {
   "cell_type": "code",
   "execution_count": 1,
   "metadata": {},
   "outputs": [],
   "source": [
    "import pandas as pd\n",
    "import numpy as np\n",
    "import matplotlib.pyplot as plt\n",
    "import seaborn as sns"
   ]
  },
  {
   "cell_type": "code",
   "execution_count": 2,
   "metadata": {},
   "outputs": [],
   "source": [
    "df1 = pd.read_csv('C:\\\\Users\\\\Hp\\\\Downloads\\\\Recommendation system\\\\Dataset\\\\phone_user_review_file_1.csv', encoding='latin1')"
   ]
  },
  {
   "cell_type": "code",
   "execution_count": 3,
   "metadata": {},
   "outputs": [
    {
     "data": {
      "text/html": [
       "<div>\n",
       "<style scoped>\n",
       "    .dataframe tbody tr th:only-of-type {\n",
       "        vertical-align: middle;\n",
       "    }\n",
       "\n",
       "    .dataframe tbody tr th {\n",
       "        vertical-align: top;\n",
       "    }\n",
       "\n",
       "    .dataframe thead th {\n",
       "        text-align: right;\n",
       "    }\n",
       "</style>\n",
       "<table border=\"1\" class=\"dataframe\">\n",
       "  <thead>\n",
       "    <tr style=\"text-align: right;\">\n",
       "      <th></th>\n",
       "      <th>phone_url</th>\n",
       "      <th>date</th>\n",
       "      <th>lang</th>\n",
       "      <th>country</th>\n",
       "      <th>source</th>\n",
       "      <th>domain</th>\n",
       "      <th>score</th>\n",
       "      <th>score_max</th>\n",
       "      <th>extract</th>\n",
       "      <th>author</th>\n",
       "      <th>product</th>\n",
       "    </tr>\n",
       "  </thead>\n",
       "  <tbody>\n",
       "    <tr>\n",
       "      <th>0</th>\n",
       "      <td>/cellphones/samsung-galaxy-s8/</td>\n",
       "      <td>5/2/2017</td>\n",
       "      <td>en</td>\n",
       "      <td>us</td>\n",
       "      <td>Verizon Wireless</td>\n",
       "      <td>verizonwireless.com</td>\n",
       "      <td>10.0</td>\n",
       "      <td>10.0</td>\n",
       "      <td>As a diehard Samsung fan who has had every Sam...</td>\n",
       "      <td>CarolAnn35</td>\n",
       "      <td>Samsung Galaxy S8</td>\n",
       "    </tr>\n",
       "    <tr>\n",
       "      <th>1</th>\n",
       "      <td>/cellphones/samsung-galaxy-s8/</td>\n",
       "      <td>4/28/2017</td>\n",
       "      <td>en</td>\n",
       "      <td>us</td>\n",
       "      <td>Phone Arena</td>\n",
       "      <td>phonearena.com</td>\n",
       "      <td>10.0</td>\n",
       "      <td>10.0</td>\n",
       "      <td>Love the phone. the phone is sleek and smooth ...</td>\n",
       "      <td>james0923</td>\n",
       "      <td>Samsung Galaxy S8</td>\n",
       "    </tr>\n",
       "    <tr>\n",
       "      <th>2</th>\n",
       "      <td>/cellphones/samsung-galaxy-s8/</td>\n",
       "      <td>5/4/2017</td>\n",
       "      <td>en</td>\n",
       "      <td>us</td>\n",
       "      <td>Amazon</td>\n",
       "      <td>amazon.com</td>\n",
       "      <td>6.0</td>\n",
       "      <td>10.0</td>\n",
       "      <td>Adequate feel. Nice heft. Processor's still sl...</td>\n",
       "      <td>R. Craig</td>\n",
       "      <td>Samsung Galaxy S8 (64GB) G950U 5.8\" 4G LTE Unl...</td>\n",
       "    </tr>\n",
       "    <tr>\n",
       "      <th>3</th>\n",
       "      <td>/cellphones/samsung-galaxy-s8/</td>\n",
       "      <td>5/2/2017</td>\n",
       "      <td>en</td>\n",
       "      <td>us</td>\n",
       "      <td>Samsung</td>\n",
       "      <td>samsung.com</td>\n",
       "      <td>9.2</td>\n",
       "      <td>10.0</td>\n",
       "      <td>Never disappointed. One of the reasons I've be...</td>\n",
       "      <td>Buster2020</td>\n",
       "      <td>Samsung Galaxy S8 64GB (AT&amp;T)</td>\n",
       "    </tr>\n",
       "    <tr>\n",
       "      <th>4</th>\n",
       "      <td>/cellphones/samsung-galaxy-s8/</td>\n",
       "      <td>5/11/2017</td>\n",
       "      <td>en</td>\n",
       "      <td>us</td>\n",
       "      <td>Verizon Wireless</td>\n",
       "      <td>verizonwireless.com</td>\n",
       "      <td>4.0</td>\n",
       "      <td>10.0</td>\n",
       "      <td>I've now found that i'm in a group of people t...</td>\n",
       "      <td>S Ate Mine</td>\n",
       "      <td>Samsung Galaxy S8</td>\n",
       "    </tr>\n",
       "  </tbody>\n",
       "</table>\n",
       "</div>"
      ],
      "text/plain": [
       "                        phone_url       date lang country            source  \\\n",
       "0  /cellphones/samsung-galaxy-s8/   5/2/2017   en      us  Verizon Wireless   \n",
       "1  /cellphones/samsung-galaxy-s8/  4/28/2017   en      us       Phone Arena   \n",
       "2  /cellphones/samsung-galaxy-s8/   5/4/2017   en      us            Amazon   \n",
       "3  /cellphones/samsung-galaxy-s8/   5/2/2017   en      us           Samsung   \n",
       "4  /cellphones/samsung-galaxy-s8/  5/11/2017   en      us  Verizon Wireless   \n",
       "\n",
       "                domain  score  score_max  \\\n",
       "0  verizonwireless.com   10.0       10.0   \n",
       "1       phonearena.com   10.0       10.0   \n",
       "2           amazon.com    6.0       10.0   \n",
       "3          samsung.com    9.2       10.0   \n",
       "4  verizonwireless.com    4.0       10.0   \n",
       "\n",
       "                                             extract       author  \\\n",
       "0  As a diehard Samsung fan who has had every Sam...   CarolAnn35   \n",
       "1  Love the phone. the phone is sleek and smooth ...    james0923   \n",
       "2  Adequate feel. Nice heft. Processor's still sl...     R. Craig   \n",
       "3  Never disappointed. One of the reasons I've be...  Buster2020    \n",
       "4  I've now found that i'm in a group of people t...   S Ate Mine   \n",
       "\n",
       "                                             product  \n",
       "0                                  Samsung Galaxy S8  \n",
       "1                                  Samsung Galaxy S8  \n",
       "2  Samsung Galaxy S8 (64GB) G950U 5.8\" 4G LTE Unl...  \n",
       "3                      Samsung Galaxy S8 64GB (AT&T)  \n",
       "4                                  Samsung Galaxy S8  "
      ]
     },
     "execution_count": 3,
     "metadata": {},
     "output_type": "execute_result"
    }
   ],
   "source": [
    "df1.head()"
   ]
  },
  {
   "cell_type": "code",
   "execution_count": 4,
   "metadata": {},
   "outputs": [],
   "source": [
    "df2 = pd.read_csv('C:\\\\Users\\\\Hp\\\\Downloads\\\\Recommendation system\\\\Dataset\\\\phone_user_review_file_2.csv', encoding='latin1')\n",
    "df3 = pd.read_csv('C:\\\\Users\\\\Hp\\\\Downloads\\\\Recommendation system\\\\Dataset\\\\phone_user_review_file_3.csv', encoding='latin1')\n",
    "df4 = pd.read_csv('C:\\\\Users\\\\Hp\\\\Downloads\\\\Recommendation system\\\\Dataset\\\\phone_user_review_file_4.csv', encoding='latin1')\n",
    "df5 = pd.read_csv('C:\\\\Users\\\\Hp\\\\Downloads\\\\Recommendation system\\\\Dataset\\\\phone_user_review_file_5.csv', encoding='latin1')\n",
    "df6 = pd.read_csv('C:\\\\Users\\\\Hp\\\\Downloads\\\\Recommendation system\\\\Dataset\\\\phone_user_review_file_6.csv', encoding='latin1')"
   ]
  },
  {
   "cell_type": "code",
   "execution_count": 5,
   "metadata": {},
   "outputs": [
    {
     "data": {
      "text/html": [
       "<div>\n",
       "<style scoped>\n",
       "    .dataframe tbody tr th:only-of-type {\n",
       "        vertical-align: middle;\n",
       "    }\n",
       "\n",
       "    .dataframe tbody tr th {\n",
       "        vertical-align: top;\n",
       "    }\n",
       "\n",
       "    .dataframe thead th {\n",
       "        text-align: right;\n",
       "    }\n",
       "</style>\n",
       "<table border=\"1\" class=\"dataframe\">\n",
       "  <thead>\n",
       "    <tr style=\"text-align: right;\">\n",
       "      <th></th>\n",
       "      <th>phone_url</th>\n",
       "      <th>date</th>\n",
       "      <th>lang</th>\n",
       "      <th>country</th>\n",
       "      <th>source</th>\n",
       "      <th>domain</th>\n",
       "      <th>score</th>\n",
       "      <th>score_max</th>\n",
       "      <th>extract</th>\n",
       "      <th>author</th>\n",
       "      <th>product</th>\n",
       "    </tr>\n",
       "  </thead>\n",
       "  <tbody>\n",
       "    <tr>\n",
       "      <th>0</th>\n",
       "      <td>/cellphones/samsung-galaxy-s8/</td>\n",
       "      <td>5/2/2017</td>\n",
       "      <td>en</td>\n",
       "      <td>us</td>\n",
       "      <td>Verizon Wireless</td>\n",
       "      <td>verizonwireless.com</td>\n",
       "      <td>10.0</td>\n",
       "      <td>10.0</td>\n",
       "      <td>As a diehard Samsung fan who has had every Sam...</td>\n",
       "      <td>CarolAnn35</td>\n",
       "      <td>Samsung Galaxy S8</td>\n",
       "    </tr>\n",
       "    <tr>\n",
       "      <th>1</th>\n",
       "      <td>/cellphones/samsung-galaxy-s8/</td>\n",
       "      <td>4/28/2017</td>\n",
       "      <td>en</td>\n",
       "      <td>us</td>\n",
       "      <td>Phone Arena</td>\n",
       "      <td>phonearena.com</td>\n",
       "      <td>10.0</td>\n",
       "      <td>10.0</td>\n",
       "      <td>Love the phone. the phone is sleek and smooth ...</td>\n",
       "      <td>james0923</td>\n",
       "      <td>Samsung Galaxy S8</td>\n",
       "    </tr>\n",
       "    <tr>\n",
       "      <th>2</th>\n",
       "      <td>/cellphones/samsung-galaxy-s8/</td>\n",
       "      <td>5/4/2017</td>\n",
       "      <td>en</td>\n",
       "      <td>us</td>\n",
       "      <td>Amazon</td>\n",
       "      <td>amazon.com</td>\n",
       "      <td>6.0</td>\n",
       "      <td>10.0</td>\n",
       "      <td>Adequate feel. Nice heft. Processor's still sl...</td>\n",
       "      <td>R. Craig</td>\n",
       "      <td>Samsung Galaxy S8 (64GB) G950U 5.8\" 4G LTE Unl...</td>\n",
       "    </tr>\n",
       "    <tr>\n",
       "      <th>3</th>\n",
       "      <td>/cellphones/samsung-galaxy-s8/</td>\n",
       "      <td>5/2/2017</td>\n",
       "      <td>en</td>\n",
       "      <td>us</td>\n",
       "      <td>Samsung</td>\n",
       "      <td>samsung.com</td>\n",
       "      <td>9.2</td>\n",
       "      <td>10.0</td>\n",
       "      <td>Never disappointed. One of the reasons I've be...</td>\n",
       "      <td>Buster2020</td>\n",
       "      <td>Samsung Galaxy S8 64GB (AT&amp;T)</td>\n",
       "    </tr>\n",
       "    <tr>\n",
       "      <th>4</th>\n",
       "      <td>/cellphones/samsung-galaxy-s8/</td>\n",
       "      <td>5/11/2017</td>\n",
       "      <td>en</td>\n",
       "      <td>us</td>\n",
       "      <td>Verizon Wireless</td>\n",
       "      <td>verizonwireless.com</td>\n",
       "      <td>4.0</td>\n",
       "      <td>10.0</td>\n",
       "      <td>I've now found that i'm in a group of people t...</td>\n",
       "      <td>S Ate Mine</td>\n",
       "      <td>Samsung Galaxy S8</td>\n",
       "    </tr>\n",
       "  </tbody>\n",
       "</table>\n",
       "</div>"
      ],
      "text/plain": [
       "                        phone_url       date lang country            source  \\\n",
       "0  /cellphones/samsung-galaxy-s8/   5/2/2017   en      us  Verizon Wireless   \n",
       "1  /cellphones/samsung-galaxy-s8/  4/28/2017   en      us       Phone Arena   \n",
       "2  /cellphones/samsung-galaxy-s8/   5/4/2017   en      us            Amazon   \n",
       "3  /cellphones/samsung-galaxy-s8/   5/2/2017   en      us           Samsung   \n",
       "4  /cellphones/samsung-galaxy-s8/  5/11/2017   en      us  Verizon Wireless   \n",
       "\n",
       "                domain  score  score_max  \\\n",
       "0  verizonwireless.com   10.0       10.0   \n",
       "1       phonearena.com   10.0       10.0   \n",
       "2           amazon.com    6.0       10.0   \n",
       "3          samsung.com    9.2       10.0   \n",
       "4  verizonwireless.com    4.0       10.0   \n",
       "\n",
       "                                             extract       author  \\\n",
       "0  As a diehard Samsung fan who has had every Sam...   CarolAnn35   \n",
       "1  Love the phone. the phone is sleek and smooth ...    james0923   \n",
       "2  Adequate feel. Nice heft. Processor's still sl...     R. Craig   \n",
       "3  Never disappointed. One of the reasons I've be...  Buster2020    \n",
       "4  I've now found that i'm in a group of people t...   S Ate Mine   \n",
       "\n",
       "                                             product  \n",
       "0                                  Samsung Galaxy S8  \n",
       "1                                  Samsung Galaxy S8  \n",
       "2  Samsung Galaxy S8 (64GB) G950U 5.8\" 4G LTE Unl...  \n",
       "3                      Samsung Galaxy S8 64GB (AT&T)  \n",
       "4                                  Samsung Galaxy S8  "
      ]
     },
     "execution_count": 5,
     "metadata": {},
     "output_type": "execute_result"
    }
   ],
   "source": [
    "df1.head(5)"
   ]
  },
  {
   "cell_type": "code",
   "execution_count": 6,
   "metadata": {},
   "outputs": [
    {
     "data": {
      "text/html": [
       "<div>\n",
       "<style scoped>\n",
       "    .dataframe tbody tr th:only-of-type {\n",
       "        vertical-align: middle;\n",
       "    }\n",
       "\n",
       "    .dataframe tbody tr th {\n",
       "        vertical-align: top;\n",
       "    }\n",
       "\n",
       "    .dataframe thead th {\n",
       "        text-align: right;\n",
       "    }\n",
       "</style>\n",
       "<table border=\"1\" class=\"dataframe\">\n",
       "  <thead>\n",
       "    <tr style=\"text-align: right;\">\n",
       "      <th></th>\n",
       "      <th>phone_url</th>\n",
       "      <th>date</th>\n",
       "      <th>lang</th>\n",
       "      <th>country</th>\n",
       "      <th>source</th>\n",
       "      <th>domain</th>\n",
       "      <th>score</th>\n",
       "      <th>score_max</th>\n",
       "      <th>extract</th>\n",
       "      <th>author</th>\n",
       "      <th>product</th>\n",
       "    </tr>\n",
       "  </thead>\n",
       "  <tbody>\n",
       "    <tr>\n",
       "      <th>0</th>\n",
       "      <td>/cellphones/leagoo-lead-7/</td>\n",
       "      <td>4/15/2015</td>\n",
       "      <td>en</td>\n",
       "      <td>us</td>\n",
       "      <td>Amazon</td>\n",
       "      <td>amazon.com</td>\n",
       "      <td>2.0</td>\n",
       "      <td>10.0</td>\n",
       "      <td>The telephone headset is of poor quality , not...</td>\n",
       "      <td>luis</td>\n",
       "      <td>Leagoo Lead7 5.0 Inch HD JDI LTPS Screen 3G Sm...</td>\n",
       "    </tr>\n",
       "    <tr>\n",
       "      <th>1</th>\n",
       "      <td>/cellphones/leagoo-lead-7/</td>\n",
       "      <td>5/23/2015</td>\n",
       "      <td>en</td>\n",
       "      <td>gb</td>\n",
       "      <td>Amazon</td>\n",
       "      <td>amazon.co.uk</td>\n",
       "      <td>10.0</td>\n",
       "      <td>10.0</td>\n",
       "      <td>This is my first smartphone so I have nothing ...</td>\n",
       "      <td>Mark Lavin</td>\n",
       "      <td>Leagoo Lead 7 Lead7 MTK6582 Quad core 1GB RAM ...</td>\n",
       "    </tr>\n",
       "    <tr>\n",
       "      <th>2</th>\n",
       "      <td>/cellphones/leagoo-lead-7/</td>\n",
       "      <td>4/27/2015</td>\n",
       "      <td>en</td>\n",
       "      <td>gb</td>\n",
       "      <td>Amazon</td>\n",
       "      <td>amazon.co.uk</td>\n",
       "      <td>8.0</td>\n",
       "      <td>10.0</td>\n",
       "      <td>Great phone. Battery life not great but seems ...</td>\n",
       "      <td>tracey</td>\n",
       "      <td>Leagoo Lead 7 Lead7 MTK6582 Quad core 1GB RAM ...</td>\n",
       "    </tr>\n",
       "    <tr>\n",
       "      <th>3</th>\n",
       "      <td>/cellphones/leagoo-lead-7/</td>\n",
       "      <td>4/22/2015</td>\n",
       "      <td>en</td>\n",
       "      <td>gb</td>\n",
       "      <td>Amazon</td>\n",
       "      <td>amazon.co.uk</td>\n",
       "      <td>10.0</td>\n",
       "      <td>10.0</td>\n",
       "      <td>Best 90 quid I've ever spent on a smart phone</td>\n",
       "      <td>Reuben Ingram</td>\n",
       "      <td>Leagoo Lead 7 Lead7 MTK6582 Quad core 1GB RAM ...</td>\n",
       "    </tr>\n",
       "    <tr>\n",
       "      <th>4</th>\n",
       "      <td>/cellphones/leagoo-lead-7/</td>\n",
       "      <td>4/18/2015</td>\n",
       "      <td>en</td>\n",
       "      <td>gb</td>\n",
       "      <td>Amazon</td>\n",
       "      <td>amazon.co.uk</td>\n",
       "      <td>10.0</td>\n",
       "      <td>10.0</td>\n",
       "      <td>I m happy with this phone.it s very good.thx team</td>\n",
       "      <td>viorel</td>\n",
       "      <td>Leagoo Lead 7 Lead7 MTK6582 Quad core 1GB RAM ...</td>\n",
       "    </tr>\n",
       "  </tbody>\n",
       "</table>\n",
       "</div>"
      ],
      "text/plain": [
       "                    phone_url       date lang country  source        domain  \\\n",
       "0  /cellphones/leagoo-lead-7/  4/15/2015   en      us  Amazon    amazon.com   \n",
       "1  /cellphones/leagoo-lead-7/  5/23/2015   en      gb  Amazon  amazon.co.uk   \n",
       "2  /cellphones/leagoo-lead-7/  4/27/2015   en      gb  Amazon  amazon.co.uk   \n",
       "3  /cellphones/leagoo-lead-7/  4/22/2015   en      gb  Amazon  amazon.co.uk   \n",
       "4  /cellphones/leagoo-lead-7/  4/18/2015   en      gb  Amazon  amazon.co.uk   \n",
       "\n",
       "   score  score_max                                            extract  \\\n",
       "0    2.0       10.0  The telephone headset is of poor quality , not...   \n",
       "1   10.0       10.0  This is my first smartphone so I have nothing ...   \n",
       "2    8.0       10.0  Great phone. Battery life not great but seems ...   \n",
       "3   10.0       10.0      Best 90 quid I've ever spent on a smart phone   \n",
       "4   10.0       10.0  I m happy with this phone.it s very good.thx team   \n",
       "\n",
       "          author                                            product  \n",
       "0           luis  Leagoo Lead7 5.0 Inch HD JDI LTPS Screen 3G Sm...  \n",
       "1     Mark Lavin  Leagoo Lead 7 Lead7 MTK6582 Quad core 1GB RAM ...  \n",
       "2         tracey  Leagoo Lead 7 Lead7 MTK6582 Quad core 1GB RAM ...  \n",
       "3  Reuben Ingram  Leagoo Lead 7 Lead7 MTK6582 Quad core 1GB RAM ...  \n",
       "4         viorel  Leagoo Lead 7 Lead7 MTK6582 Quad core 1GB RAM ...  "
      ]
     },
     "execution_count": 6,
     "metadata": {},
     "output_type": "execute_result"
    }
   ],
   "source": [
    "df2.head(5)"
   ]
  },
  {
   "cell_type": "code",
   "execution_count": 7,
   "metadata": {},
   "outputs": [
    {
     "data": {
      "text/html": [
       "<div>\n",
       "<style scoped>\n",
       "    .dataframe tbody tr th:only-of-type {\n",
       "        vertical-align: middle;\n",
       "    }\n",
       "\n",
       "    .dataframe tbody tr th {\n",
       "        vertical-align: top;\n",
       "    }\n",
       "\n",
       "    .dataframe thead th {\n",
       "        text-align: right;\n",
       "    }\n",
       "</style>\n",
       "<table border=\"1\" class=\"dataframe\">\n",
       "  <thead>\n",
       "    <tr style=\"text-align: right;\">\n",
       "      <th></th>\n",
       "      <th>phone_url</th>\n",
       "      <th>date</th>\n",
       "      <th>lang</th>\n",
       "      <th>country</th>\n",
       "      <th>source</th>\n",
       "      <th>domain</th>\n",
       "      <th>score</th>\n",
       "      <th>score_max</th>\n",
       "      <th>extract</th>\n",
       "      <th>author</th>\n",
       "      <th>product</th>\n",
       "    </tr>\n",
       "  </thead>\n",
       "  <tbody>\n",
       "    <tr>\n",
       "      <th>0</th>\n",
       "      <td>/cellphones/samsung-galaxy-s-iii-slim-sm-g3812/</td>\n",
       "      <td>11/7/2015</td>\n",
       "      <td>pt</td>\n",
       "      <td>br</td>\n",
       "      <td>Submarino</td>\n",
       "      <td>submarino.com.br</td>\n",
       "      <td>6.0</td>\n",
       "      <td>10.0</td>\n",
       "      <td>recomendo, eu comprei um, a um ano, e agora co...</td>\n",
       "      <td>herlington tesch</td>\n",
       "      <td>Samsung Smartphone Samsung Galaxy S3 Slim G381...</td>\n",
       "    </tr>\n",
       "    <tr>\n",
       "      <th>1</th>\n",
       "      <td>/cellphones/samsung-galaxy-s-iii-slim-sm-g3812/</td>\n",
       "      <td>10/2/2015</td>\n",
       "      <td>pt</td>\n",
       "      <td>br</td>\n",
       "      <td>Submarino</td>\n",
       "      <td>submarino.com.br</td>\n",
       "      <td>10.0</td>\n",
       "      <td>10.0</td>\n",
       "      <td>Comprei um pouco desconfiada do site e do celu...</td>\n",
       "      <td>Luisa Silva Marieta</td>\n",
       "      <td>Samsung Smartphone Samsung Galaxy S3 Slim G381...</td>\n",
       "    </tr>\n",
       "    <tr>\n",
       "      <th>2</th>\n",
       "      <td>/cellphones/samsung-galaxy-s-iii-slim-sm-g3812/</td>\n",
       "      <td>9/2/2015</td>\n",
       "      <td>pt</td>\n",
       "      <td>br</td>\n",
       "      <td>Submarino</td>\n",
       "      <td>submarino.com.br</td>\n",
       "      <td>10.0</td>\n",
       "      <td>10.0</td>\n",
       "      <td>Muito bom o produto, obvio que tem versÃµes me...</td>\n",
       "      <td>Cyrus</td>\n",
       "      <td>Samsung Smartphone Samsung Galaxy S3 Slim G381...</td>\n",
       "    </tr>\n",
       "    <tr>\n",
       "      <th>3</th>\n",
       "      <td>/cellphones/samsung-galaxy-s-iii-slim-sm-g3812/</td>\n",
       "      <td>9/2/2015</td>\n",
       "      <td>pt</td>\n",
       "      <td>br</td>\n",
       "      <td>Submarino</td>\n",
       "      <td>submarino.com.br</td>\n",
       "      <td>8.0</td>\n",
       "      <td>10.0</td>\n",
       "      <td>Unica ressalva fica para a camera que poderia ...</td>\n",
       "      <td>Marcela Santa Clara Brito</td>\n",
       "      <td>Samsung Smartphone Samsung Galaxy S3 Slim G381...</td>\n",
       "    </tr>\n",
       "    <tr>\n",
       "      <th>4</th>\n",
       "      <td>/cellphones/samsung-galaxy-s-iii-slim-sm-g3812/</td>\n",
       "      <td>9/1/2015</td>\n",
       "      <td>pt</td>\n",
       "      <td>br</td>\n",
       "      <td>Colombo</td>\n",
       "      <td>colombo.com.br</td>\n",
       "      <td>8.0</td>\n",
       "      <td>10.0</td>\n",
       "      <td>Rapidez e atenÃ§Ã£o na entrega. O aparelho Ã© ...</td>\n",
       "      <td>Claudine Maria Kuhn Walendorff</td>\n",
       "      <td>Smartphone Samsung Galaxy S3 Slim, Dual Chip, ...</td>\n",
       "    </tr>\n",
       "  </tbody>\n",
       "</table>\n",
       "</div>"
      ],
      "text/plain": [
       "                                         phone_url       date lang country  \\\n",
       "0  /cellphones/samsung-galaxy-s-iii-slim-sm-g3812/  11/7/2015   pt      br   \n",
       "1  /cellphones/samsung-galaxy-s-iii-slim-sm-g3812/  10/2/2015   pt      br   \n",
       "2  /cellphones/samsung-galaxy-s-iii-slim-sm-g3812/   9/2/2015   pt      br   \n",
       "3  /cellphones/samsung-galaxy-s-iii-slim-sm-g3812/   9/2/2015   pt      br   \n",
       "4  /cellphones/samsung-galaxy-s-iii-slim-sm-g3812/   9/1/2015   pt      br   \n",
       "\n",
       "      source            domain  score  score_max  \\\n",
       "0  Submarino  submarino.com.br    6.0       10.0   \n",
       "1  Submarino  submarino.com.br   10.0       10.0   \n",
       "2  Submarino  submarino.com.br   10.0       10.0   \n",
       "3  Submarino  submarino.com.br    8.0       10.0   \n",
       "4    Colombo    colombo.com.br    8.0       10.0   \n",
       "\n",
       "                                             extract  \\\n",
       "0  recomendo, eu comprei um, a um ano, e agora co...   \n",
       "1  Comprei um pouco desconfiada do site e do celu...   \n",
       "2  Muito bom o produto, obvio que tem versÃµes me...   \n",
       "3  Unica ressalva fica para a camera que poderia ...   \n",
       "4  Rapidez e atenÃ§Ã£o na entrega. O aparelho Ã© ...   \n",
       "\n",
       "                           author  \\\n",
       "0                herlington tesch   \n",
       "1             Luisa Silva Marieta   \n",
       "2                           Cyrus   \n",
       "3       Marcela Santa Clara Brito   \n",
       "4  Claudine Maria Kuhn Walendorff   \n",
       "\n",
       "                                             product  \n",
       "0  Samsung Smartphone Samsung Galaxy S3 Slim G381...  \n",
       "1  Samsung Smartphone Samsung Galaxy S3 Slim G381...  \n",
       "2  Samsung Smartphone Samsung Galaxy S3 Slim G381...  \n",
       "3  Samsung Smartphone Samsung Galaxy S3 Slim G381...  \n",
       "4  Smartphone Samsung Galaxy S3 Slim, Dual Chip, ...  "
      ]
     },
     "execution_count": 7,
     "metadata": {},
     "output_type": "execute_result"
    }
   ],
   "source": [
    "df3.head(5)"
   ]
  },
  {
   "cell_type": "code",
   "execution_count": 8,
   "metadata": {},
   "outputs": [
    {
     "data": {
      "text/html": [
       "<div>\n",
       "<style scoped>\n",
       "    .dataframe tbody tr th:only-of-type {\n",
       "        vertical-align: middle;\n",
       "    }\n",
       "\n",
       "    .dataframe tbody tr th {\n",
       "        vertical-align: top;\n",
       "    }\n",
       "\n",
       "    .dataframe thead th {\n",
       "        text-align: right;\n",
       "    }\n",
       "</style>\n",
       "<table border=\"1\" class=\"dataframe\">\n",
       "  <thead>\n",
       "    <tr style=\"text-align: right;\">\n",
       "      <th></th>\n",
       "      <th>phone_url</th>\n",
       "      <th>date</th>\n",
       "      <th>lang</th>\n",
       "      <th>country</th>\n",
       "      <th>source</th>\n",
       "      <th>domain</th>\n",
       "      <th>score</th>\n",
       "      <th>score_max</th>\n",
       "      <th>extract</th>\n",
       "      <th>author</th>\n",
       "      <th>product</th>\n",
       "    </tr>\n",
       "  </thead>\n",
       "  <tbody>\n",
       "    <tr>\n",
       "      <th>0</th>\n",
       "      <td>/cellphones/samsung-s7262-duos-galaxy-ace/</td>\n",
       "      <td>3/11/2015</td>\n",
       "      <td>en</td>\n",
       "      <td>us</td>\n",
       "      <td>Amazon</td>\n",
       "      <td>amazon.com</td>\n",
       "      <td>2.0</td>\n",
       "      <td>10.0</td>\n",
       "      <td>was not conpatable with my phone as stated. I ...</td>\n",
       "      <td>Frances DeSimone</td>\n",
       "      <td>Samsung Galaxy Star Pro DUOS S7262 Unlocked Ce...</td>\n",
       "    </tr>\n",
       "    <tr>\n",
       "      <th>1</th>\n",
       "      <td>/cellphones/samsung-s7262-duos-galaxy-ace/</td>\n",
       "      <td>17/11/2015</td>\n",
       "      <td>en</td>\n",
       "      <td>in</td>\n",
       "      <td>Zopper</td>\n",
       "      <td>zopper.com</td>\n",
       "      <td>10.0</td>\n",
       "      <td>10.0</td>\n",
       "      <td>Decent Functions and Easy to Operate Pros:- Th...</td>\n",
       "      <td>Expert Review</td>\n",
       "      <td>Samsung Galaxy Star Pro S7262 Black</td>\n",
       "    </tr>\n",
       "    <tr>\n",
       "      <th>2</th>\n",
       "      <td>/cellphones/samsung-s7262-duos-galaxy-ace/</td>\n",
       "      <td>29/10/2015</td>\n",
       "      <td>en</td>\n",
       "      <td>in</td>\n",
       "      <td>Amazon</td>\n",
       "      <td>amazon.in</td>\n",
       "      <td>4.0</td>\n",
       "      <td>10.0</td>\n",
       "      <td>Not Good Phone such price. Hang too much and v...</td>\n",
       "      <td>Amazon Customer</td>\n",
       "      <td>Samsung Galaxy Star Pro GT-S7262 (Midnight Black)</td>\n",
       "    </tr>\n",
       "    <tr>\n",
       "      <th>3</th>\n",
       "      <td>/cellphones/samsung-s7262-duos-galaxy-ace/</td>\n",
       "      <td>29/10/2015</td>\n",
       "      <td>en</td>\n",
       "      <td>in</td>\n",
       "      <td>Amazon</td>\n",
       "      <td>amazon.in</td>\n",
       "      <td>6.0</td>\n",
       "      <td>10.0</td>\n",
       "      <td>not bad for features</td>\n",
       "      <td>Amazon Customer</td>\n",
       "      <td>Samsung Galaxy Star Pro GT-S7262 (Midnight Black)</td>\n",
       "    </tr>\n",
       "    <tr>\n",
       "      <th>4</th>\n",
       "      <td>/cellphones/samsung-s7262-duos-galaxy-ace/</td>\n",
       "      <td>29/10/2015</td>\n",
       "      <td>en</td>\n",
       "      <td>in</td>\n",
       "      <td>Amazon</td>\n",
       "      <td>amazon.in</td>\n",
       "      <td>10.0</td>\n",
       "      <td>10.0</td>\n",
       "      <td>Excellent product</td>\n",
       "      <td>NHK</td>\n",
       "      <td>Samsung Galaxy Star Pro GT-S7262 (Midnight Black)</td>\n",
       "    </tr>\n",
       "  </tbody>\n",
       "</table>\n",
       "</div>"
      ],
      "text/plain": [
       "                                    phone_url        date lang country  \\\n",
       "0  /cellphones/samsung-s7262-duos-galaxy-ace/   3/11/2015   en      us   \n",
       "1  /cellphones/samsung-s7262-duos-galaxy-ace/  17/11/2015   en      in   \n",
       "2  /cellphones/samsung-s7262-duos-galaxy-ace/  29/10/2015   en      in   \n",
       "3  /cellphones/samsung-s7262-duos-galaxy-ace/  29/10/2015   en      in   \n",
       "4  /cellphones/samsung-s7262-duos-galaxy-ace/  29/10/2015   en      in   \n",
       "\n",
       "   source      domain  score  score_max  \\\n",
       "0  Amazon  amazon.com    2.0       10.0   \n",
       "1  Zopper  zopper.com   10.0       10.0   \n",
       "2  Amazon   amazon.in    4.0       10.0   \n",
       "3  Amazon   amazon.in    6.0       10.0   \n",
       "4  Amazon   amazon.in   10.0       10.0   \n",
       "\n",
       "                                             extract            author  \\\n",
       "0  was not conpatable with my phone as stated. I ...  Frances DeSimone   \n",
       "1  Decent Functions and Easy to Operate Pros:- Th...     Expert Review   \n",
       "2  Not Good Phone such price. Hang too much and v...   Amazon Customer   \n",
       "3                               not bad for features   Amazon Customer   \n",
       "4                                  Excellent product               NHK   \n",
       "\n",
       "                                             product  \n",
       "0  Samsung Galaxy Star Pro DUOS S7262 Unlocked Ce...  \n",
       "1                Samsung Galaxy Star Pro S7262 Black  \n",
       "2  Samsung Galaxy Star Pro GT-S7262 (Midnight Black)  \n",
       "3  Samsung Galaxy Star Pro GT-S7262 (Midnight Black)  \n",
       "4  Samsung Galaxy Star Pro GT-S7262 (Midnight Black)  "
      ]
     },
     "execution_count": 8,
     "metadata": {},
     "output_type": "execute_result"
    }
   ],
   "source": [
    "df4.head(5)"
   ]
  },
  {
   "cell_type": "code",
   "execution_count": 9,
   "metadata": {},
   "outputs": [
    {
     "data": {
      "text/html": [
       "<div>\n",
       "<style scoped>\n",
       "    .dataframe tbody tr th:only-of-type {\n",
       "        vertical-align: middle;\n",
       "    }\n",
       "\n",
       "    .dataframe tbody tr th {\n",
       "        vertical-align: top;\n",
       "    }\n",
       "\n",
       "    .dataframe thead th {\n",
       "        text-align: right;\n",
       "    }\n",
       "</style>\n",
       "<table border=\"1\" class=\"dataframe\">\n",
       "  <thead>\n",
       "    <tr style=\"text-align: right;\">\n",
       "      <th></th>\n",
       "      <th>phone_url</th>\n",
       "      <th>date</th>\n",
       "      <th>lang</th>\n",
       "      <th>country</th>\n",
       "      <th>source</th>\n",
       "      <th>domain</th>\n",
       "      <th>score</th>\n",
       "      <th>score_max</th>\n",
       "      <th>extract</th>\n",
       "      <th>author</th>\n",
       "      <th>product</th>\n",
       "    </tr>\n",
       "  </thead>\n",
       "  <tbody>\n",
       "    <tr>\n",
       "      <th>0</th>\n",
       "      <td>/cellphones/karbonn-k1616/</td>\n",
       "      <td>7/13/2016</td>\n",
       "      <td>en</td>\n",
       "      <td>in</td>\n",
       "      <td>91 Mobiles</td>\n",
       "      <td>91mobiles.com</td>\n",
       "      <td>2.0</td>\n",
       "      <td>10.0</td>\n",
       "      <td>I bought 1 month before. currently speaker is ...</td>\n",
       "      <td>venkatesh</td>\n",
       "      <td>Karbonn K1616</td>\n",
       "    </tr>\n",
       "    <tr>\n",
       "      <th>1</th>\n",
       "      <td>/cellphones/karbonn-k1616/</td>\n",
       "      <td>7/13/2016</td>\n",
       "      <td>en</td>\n",
       "      <td>in</td>\n",
       "      <td>91 Mobiles</td>\n",
       "      <td>91mobiles.com</td>\n",
       "      <td>6.0</td>\n",
       "      <td>10.0</td>\n",
       "      <td>I just bought one week back, I have Airtel con...</td>\n",
       "      <td>Venkat</td>\n",
       "      <td>Karbonn K1616</td>\n",
       "    </tr>\n",
       "    <tr>\n",
       "      <th>2</th>\n",
       "      <td>/cellphones/karbonn-k1616/</td>\n",
       "      <td>7/13/2016</td>\n",
       "      <td>en</td>\n",
       "      <td>in</td>\n",
       "      <td>91 Mobiles</td>\n",
       "      <td>91mobiles.com</td>\n",
       "      <td>4.0</td>\n",
       "      <td>10.0</td>\n",
       "      <td>one problem in this handset opera is not worki...</td>\n",
       "      <td>krrish</td>\n",
       "      <td>Karbonn K1616</td>\n",
       "    </tr>\n",
       "    <tr>\n",
       "      <th>3</th>\n",
       "      <td>/cellphones/karbonn-k1616/</td>\n",
       "      <td>4/25/2014</td>\n",
       "      <td>en</td>\n",
       "      <td>in</td>\n",
       "      <td>Naaptol</td>\n",
       "      <td>naaptol.com</td>\n",
       "      <td>10.0</td>\n",
       "      <td>10.0</td>\n",
       "      <td>here Karbonn comes up with an another excellen...</td>\n",
       "      <td>BRIJESH CHAUHAN</td>\n",
       "      <td>Karbonn K1616 - Black</td>\n",
       "    </tr>\n",
       "    <tr>\n",
       "      <th>4</th>\n",
       "      <td>/cellphones/karbonn-k1616/</td>\n",
       "      <td>4/23/2013</td>\n",
       "      <td>en</td>\n",
       "      <td>in</td>\n",
       "      <td>Naaptol</td>\n",
       "      <td>naaptol.com</td>\n",
       "      <td>10.0</td>\n",
       "      <td>10.0</td>\n",
       "      <td>What a phone, all so on Naaptol my god 23% off...</td>\n",
       "      <td>Suraj CHAUHAN</td>\n",
       "      <td>Karbonn K1616 - Black</td>\n",
       "    </tr>\n",
       "  </tbody>\n",
       "</table>\n",
       "</div>"
      ],
      "text/plain": [
       "                    phone_url       date lang country      source  \\\n",
       "0  /cellphones/karbonn-k1616/  7/13/2016   en      in  91 Mobiles   \n",
       "1  /cellphones/karbonn-k1616/  7/13/2016   en      in  91 Mobiles   \n",
       "2  /cellphones/karbonn-k1616/  7/13/2016   en      in  91 Mobiles   \n",
       "3  /cellphones/karbonn-k1616/  4/25/2014   en      in     Naaptol   \n",
       "4  /cellphones/karbonn-k1616/  4/23/2013   en      in     Naaptol   \n",
       "\n",
       "          domain  score  score_max  \\\n",
       "0  91mobiles.com    2.0       10.0   \n",
       "1  91mobiles.com    6.0       10.0   \n",
       "2  91mobiles.com    4.0       10.0   \n",
       "3    naaptol.com   10.0       10.0   \n",
       "4    naaptol.com   10.0       10.0   \n",
       "\n",
       "                                             extract           author  \\\n",
       "0  I bought 1 month before. currently speaker is ...        venkatesh   \n",
       "1  I just bought one week back, I have Airtel con...           Venkat   \n",
       "2  one problem in this handset opera is not worki...           krrish   \n",
       "3  here Karbonn comes up with an another excellen...  BRIJESH CHAUHAN   \n",
       "4  What a phone, all so on Naaptol my god 23% off...    Suraj CHAUHAN   \n",
       "\n",
       "                 product  \n",
       "0          Karbonn K1616  \n",
       "1          Karbonn K1616  \n",
       "2          Karbonn K1616  \n",
       "3  Karbonn K1616 - Black  \n",
       "4  Karbonn K1616 - Black  "
      ]
     },
     "execution_count": 9,
     "metadata": {},
     "output_type": "execute_result"
    }
   ],
   "source": [
    "df5.head(5)"
   ]
  },
  {
   "cell_type": "code",
   "execution_count": 10,
   "metadata": {},
   "outputs": [
    {
     "data": {
      "text/html": [
       "<div>\n",
       "<style scoped>\n",
       "    .dataframe tbody tr th:only-of-type {\n",
       "        vertical-align: middle;\n",
       "    }\n",
       "\n",
       "    .dataframe tbody tr th {\n",
       "        vertical-align: top;\n",
       "    }\n",
       "\n",
       "    .dataframe thead th {\n",
       "        text-align: right;\n",
       "    }\n",
       "</style>\n",
       "<table border=\"1\" class=\"dataframe\">\n",
       "  <thead>\n",
       "    <tr style=\"text-align: right;\">\n",
       "      <th></th>\n",
       "      <th>phone_url</th>\n",
       "      <th>date</th>\n",
       "      <th>lang</th>\n",
       "      <th>country</th>\n",
       "      <th>source</th>\n",
       "      <th>domain</th>\n",
       "      <th>score</th>\n",
       "      <th>score_max</th>\n",
       "      <th>extract</th>\n",
       "      <th>author</th>\n",
       "      <th>product</th>\n",
       "    </tr>\n",
       "  </thead>\n",
       "  <tbody>\n",
       "    <tr>\n",
       "      <th>0</th>\n",
       "      <td>/cellphones/samsung-instinct-sph-m800/</td>\n",
       "      <td>9/16/2011</td>\n",
       "      <td>en</td>\n",
       "      <td>us</td>\n",
       "      <td>Phone Arena</td>\n",
       "      <td>phonearena.com</td>\n",
       "      <td>8.0</td>\n",
       "      <td>10.0</td>\n",
       "      <td>I've had the phone for awhile and it's a prett...</td>\n",
       "      <td>ajabrams95</td>\n",
       "      <td>Samsung Instinct HD</td>\n",
       "    </tr>\n",
       "    <tr>\n",
       "      <th>1</th>\n",
       "      <td>/cellphones/samsung-instinct-sph-m800/</td>\n",
       "      <td>2/13/2014</td>\n",
       "      <td>en</td>\n",
       "      <td>us</td>\n",
       "      <td>Amazon</td>\n",
       "      <td>amazon.com</td>\n",
       "      <td>6.0</td>\n",
       "      <td>10.0</td>\n",
       "      <td>to be clear it is not the sellers fault that t...</td>\n",
       "      <td>Stephanie</td>\n",
       "      <td>Samsung SPH M800 Instinct</td>\n",
       "    </tr>\n",
       "    <tr>\n",
       "      <th>2</th>\n",
       "      <td>/cellphones/samsung-instinct-sph-m800/</td>\n",
       "      <td>12/30/2011</td>\n",
       "      <td>en</td>\n",
       "      <td>us</td>\n",
       "      <td>Phone Scoop</td>\n",
       "      <td>phonescoop.com</td>\n",
       "      <td>9.0</td>\n",
       "      <td>10.0</td>\n",
       "      <td>Well i love this phone. i have had ton of phon...</td>\n",
       "      <td>snickers</td>\n",
       "      <td>Instinct M800</td>\n",
       "    </tr>\n",
       "    <tr>\n",
       "      <th>3</th>\n",
       "      <td>/cellphones/samsung-instinct-sph-m800/</td>\n",
       "      <td>10/18/2008</td>\n",
       "      <td>en</td>\n",
       "      <td>us</td>\n",
       "      <td>HandCellPhone</td>\n",
       "      <td>handcellphone.com</td>\n",
       "      <td>4.0</td>\n",
       "      <td>10.0</td>\n",
       "      <td>I have had my Instinct for several months now ...</td>\n",
       "      <td>A4C</td>\n",
       "      <td>Samsung Instinct</td>\n",
       "    </tr>\n",
       "    <tr>\n",
       "      <th>4</th>\n",
       "      <td>/cellphones/samsung-instinct-sph-m800/</td>\n",
       "      <td>9/6/2008</td>\n",
       "      <td>en</td>\n",
       "      <td>us</td>\n",
       "      <td>Reviewed.com</td>\n",
       "      <td>reviewed.com</td>\n",
       "      <td>6.0</td>\n",
       "      <td>10.0</td>\n",
       "      <td>i have had this instinct phone for about two m...</td>\n",
       "      <td>betaBgood</td>\n",
       "      <td>Samsung Instinct</td>\n",
       "    </tr>\n",
       "  </tbody>\n",
       "</table>\n",
       "</div>"
      ],
      "text/plain": [
       "                                phone_url        date lang country  \\\n",
       "0  /cellphones/samsung-instinct-sph-m800/   9/16/2011   en      us   \n",
       "1  /cellphones/samsung-instinct-sph-m800/   2/13/2014   en      us   \n",
       "2  /cellphones/samsung-instinct-sph-m800/  12/30/2011   en      us   \n",
       "3  /cellphones/samsung-instinct-sph-m800/  10/18/2008   en      us   \n",
       "4  /cellphones/samsung-instinct-sph-m800/    9/6/2008   en      us   \n",
       "\n",
       "          source             domain  score  score_max  \\\n",
       "0    Phone Arena     phonearena.com    8.0       10.0   \n",
       "1         Amazon         amazon.com    6.0       10.0   \n",
       "2    Phone Scoop     phonescoop.com    9.0       10.0   \n",
       "3  HandCellPhone  handcellphone.com    4.0       10.0   \n",
       "4   Reviewed.com       reviewed.com    6.0       10.0   \n",
       "\n",
       "                                             extract      author  \\\n",
       "0  I've had the phone for awhile and it's a prett...  ajabrams95   \n",
       "1  to be clear it is not the sellers fault that t...   Stephanie   \n",
       "2  Well i love this phone. i have had ton of phon...    snickers   \n",
       "3  I have had my Instinct for several months now ...         A4C   \n",
       "4  i have had this instinct phone for about two m...   betaBgood   \n",
       "\n",
       "                     product  \n",
       "0        Samsung Instinct HD  \n",
       "1  Samsung SPH M800 Instinct  \n",
       "2              Instinct M800  \n",
       "3           Samsung Instinct  \n",
       "4           Samsung Instinct  "
      ]
     },
     "execution_count": 10,
     "metadata": {},
     "output_type": "execute_result"
    }
   ],
   "source": [
    "df6.head(5)"
   ]
  },
  {
   "cell_type": "code",
   "execution_count": 11,
   "metadata": {},
   "outputs": [
    {
     "name": "stdout",
     "output_type": "stream",
     "text": [
      "(374910, 11)\n",
      "(114925, 11)\n",
      "(312961, 11)\n",
      "(98284, 11)\n",
      "(350216, 11)\n",
      "(163837, 11)\n"
     ]
    }
   ],
   "source": [
    "print(df1.shape)\n",
    "print(df2.shape)\n",
    "print(df3.shape)\n",
    "print(df4.shape)\n",
    "print(df5.shape)\n",
    "print(df6.shape)"
   ]
  },
  {
   "cell_type": "code",
   "execution_count": 12,
   "metadata": {},
   "outputs": [],
   "source": [
    "dffinal = pd.concat([df1, df2, df3, df4, df5, df6])"
   ]
  },
  {
   "cell_type": "code",
   "execution_count": 13,
   "metadata": {},
   "outputs": [
    {
     "data": {
      "text/plain": [
       "(1415133, 11)"
      ]
     },
     "execution_count": 13,
     "metadata": {},
     "output_type": "execute_result"
    }
   ],
   "source": [
    "dffinal.shape"
   ]
  },
  {
   "cell_type": "code",
   "execution_count": 14,
   "metadata": {},
   "outputs": [
    {
     "data": {
      "text/html": [
       "<div>\n",
       "<style scoped>\n",
       "    .dataframe tbody tr th:only-of-type {\n",
       "        vertical-align: middle;\n",
       "    }\n",
       "\n",
       "    .dataframe tbody tr th {\n",
       "        vertical-align: top;\n",
       "    }\n",
       "\n",
       "    .dataframe thead th {\n",
       "        text-align: right;\n",
       "    }\n",
       "</style>\n",
       "<table border=\"1\" class=\"dataframe\">\n",
       "  <thead>\n",
       "    <tr style=\"text-align: right;\">\n",
       "      <th></th>\n",
       "      <th>phone_url</th>\n",
       "      <th>date</th>\n",
       "      <th>lang</th>\n",
       "      <th>country</th>\n",
       "      <th>source</th>\n",
       "      <th>domain</th>\n",
       "      <th>score</th>\n",
       "      <th>score_max</th>\n",
       "      <th>extract</th>\n",
       "      <th>author</th>\n",
       "      <th>product</th>\n",
       "    </tr>\n",
       "  </thead>\n",
       "  <tbody>\n",
       "    <tr>\n",
       "      <th>0</th>\n",
       "      <td>/cellphones/samsung-galaxy-s8/</td>\n",
       "      <td>5/2/2017</td>\n",
       "      <td>en</td>\n",
       "      <td>us</td>\n",
       "      <td>Verizon Wireless</td>\n",
       "      <td>verizonwireless.com</td>\n",
       "      <td>10.0</td>\n",
       "      <td>10.0</td>\n",
       "      <td>As a diehard Samsung fan who has had every Sam...</td>\n",
       "      <td>CarolAnn35</td>\n",
       "      <td>Samsung Galaxy S8</td>\n",
       "    </tr>\n",
       "    <tr>\n",
       "      <th>1</th>\n",
       "      <td>/cellphones/samsung-galaxy-s8/</td>\n",
       "      <td>4/28/2017</td>\n",
       "      <td>en</td>\n",
       "      <td>us</td>\n",
       "      <td>Phone Arena</td>\n",
       "      <td>phonearena.com</td>\n",
       "      <td>10.0</td>\n",
       "      <td>10.0</td>\n",
       "      <td>Love the phone. the phone is sleek and smooth ...</td>\n",
       "      <td>james0923</td>\n",
       "      <td>Samsung Galaxy S8</td>\n",
       "    </tr>\n",
       "    <tr>\n",
       "      <th>2</th>\n",
       "      <td>/cellphones/samsung-galaxy-s8/</td>\n",
       "      <td>5/4/2017</td>\n",
       "      <td>en</td>\n",
       "      <td>us</td>\n",
       "      <td>Amazon</td>\n",
       "      <td>amazon.com</td>\n",
       "      <td>6.0</td>\n",
       "      <td>10.0</td>\n",
       "      <td>Adequate feel. Nice heft. Processor's still sl...</td>\n",
       "      <td>R. Craig</td>\n",
       "      <td>Samsung Galaxy S8 (64GB) G950U 5.8\" 4G LTE Unl...</td>\n",
       "    </tr>\n",
       "    <tr>\n",
       "      <th>3</th>\n",
       "      <td>/cellphones/samsung-galaxy-s8/</td>\n",
       "      <td>5/2/2017</td>\n",
       "      <td>en</td>\n",
       "      <td>us</td>\n",
       "      <td>Samsung</td>\n",
       "      <td>samsung.com</td>\n",
       "      <td>9.2</td>\n",
       "      <td>10.0</td>\n",
       "      <td>Never disappointed. One of the reasons I've be...</td>\n",
       "      <td>Buster2020</td>\n",
       "      <td>Samsung Galaxy S8 64GB (AT&amp;T)</td>\n",
       "    </tr>\n",
       "    <tr>\n",
       "      <th>4</th>\n",
       "      <td>/cellphones/samsung-galaxy-s8/</td>\n",
       "      <td>5/11/2017</td>\n",
       "      <td>en</td>\n",
       "      <td>us</td>\n",
       "      <td>Verizon Wireless</td>\n",
       "      <td>verizonwireless.com</td>\n",
       "      <td>4.0</td>\n",
       "      <td>10.0</td>\n",
       "      <td>I've now found that i'm in a group of people t...</td>\n",
       "      <td>S Ate Mine</td>\n",
       "      <td>Samsung Galaxy S8</td>\n",
       "    </tr>\n",
       "  </tbody>\n",
       "</table>\n",
       "</div>"
      ],
      "text/plain": [
       "                        phone_url       date lang country            source  \\\n",
       "0  /cellphones/samsung-galaxy-s8/   5/2/2017   en      us  Verizon Wireless   \n",
       "1  /cellphones/samsung-galaxy-s8/  4/28/2017   en      us       Phone Arena   \n",
       "2  /cellphones/samsung-galaxy-s8/   5/4/2017   en      us            Amazon   \n",
       "3  /cellphones/samsung-galaxy-s8/   5/2/2017   en      us           Samsung   \n",
       "4  /cellphones/samsung-galaxy-s8/  5/11/2017   en      us  Verizon Wireless   \n",
       "\n",
       "                domain  score  score_max  \\\n",
       "0  verizonwireless.com   10.0       10.0   \n",
       "1       phonearena.com   10.0       10.0   \n",
       "2           amazon.com    6.0       10.0   \n",
       "3          samsung.com    9.2       10.0   \n",
       "4  verizonwireless.com    4.0       10.0   \n",
       "\n",
       "                                             extract       author  \\\n",
       "0  As a diehard Samsung fan who has had every Sam...   CarolAnn35   \n",
       "1  Love the phone. the phone is sleek and smooth ...    james0923   \n",
       "2  Adequate feel. Nice heft. Processor's still sl...     R. Craig   \n",
       "3  Never disappointed. One of the reasons I've be...  Buster2020    \n",
       "4  I've now found that i'm in a group of people t...   S Ate Mine   \n",
       "\n",
       "                                             product  \n",
       "0                                  Samsung Galaxy S8  \n",
       "1                                  Samsung Galaxy S8  \n",
       "2  Samsung Galaxy S8 (64GB) G950U 5.8\" 4G LTE Unl...  \n",
       "3                      Samsung Galaxy S8 64GB (AT&T)  \n",
       "4                                  Samsung Galaxy S8  "
      ]
     },
     "execution_count": 14,
     "metadata": {},
     "output_type": "execute_result"
    }
   ],
   "source": [
    "dffinal.head(5)"
   ]
  },
  {
   "cell_type": "code",
   "execution_count": 15,
   "metadata": {},
   "outputs": [
    {
     "data": {
      "text/plain": [
       "phone_url       5556\n",
       "date            7728\n",
       "lang              22\n",
       "country           42\n",
       "source           331\n",
       "domain           384\n",
       "score             86\n",
       "score_max          1\n",
       "extract      1321353\n",
       "author        801103\n",
       "product        61313\n",
       "dtype: int64"
      ]
     },
     "execution_count": 15,
     "metadata": {},
     "output_type": "execute_result"
    }
   ],
   "source": [
    "dffinal.nunique()"
   ]
  },
  {
   "cell_type": "code",
   "execution_count": 16,
   "metadata": {},
   "outputs": [
    {
     "name": "stdout",
     "output_type": "stream",
     "text": [
      "<class 'pandas.core.frame.DataFrame'>\n",
      "Int64Index: 1415133 entries, 0 to 163836\n",
      "Data columns (total 11 columns):\n",
      " #   Column     Non-Null Count    Dtype  \n",
      "---  ------     --------------    -----  \n",
      " 0   phone_url  1415133 non-null  object \n",
      " 1   date       1415133 non-null  object \n",
      " 2   lang       1415133 non-null  object \n",
      " 3   country    1415133 non-null  object \n",
      " 4   source     1415133 non-null  object \n",
      " 5   domain     1415133 non-null  object \n",
      " 6   score      1351644 non-null  float64\n",
      " 7   score_max  1351644 non-null  float64\n",
      " 8   extract    1395772 non-null  object \n",
      " 9   author     1351931 non-null  object \n",
      " 10  product    1415132 non-null  object \n",
      "dtypes: float64(2), object(9)\n",
      "memory usage: 129.6+ MB\n"
     ]
    }
   ],
   "source": [
    "dffinal.info()"
   ]
  },
  {
   "cell_type": "markdown",
   "metadata": {},
   "source": [
    "as seen above columns such as score, score_max, extract, author, product has few null values which need to be worked upon"
   ]
  },
  {
   "cell_type": "code",
   "execution_count": 17,
   "metadata": {},
   "outputs": [
    {
     "data": {
      "text/html": [
       "<div>\n",
       "<style scoped>\n",
       "    .dataframe tbody tr th:only-of-type {\n",
       "        vertical-align: middle;\n",
       "    }\n",
       "\n",
       "    .dataframe tbody tr th {\n",
       "        vertical-align: top;\n",
       "    }\n",
       "\n",
       "    .dataframe thead th {\n",
       "        text-align: right;\n",
       "    }\n",
       "</style>\n",
       "<table border=\"1\" class=\"dataframe\">\n",
       "  <thead>\n",
       "    <tr style=\"text-align: right;\">\n",
       "      <th></th>\n",
       "      <th>phone_url</th>\n",
       "      <th>date</th>\n",
       "      <th>lang</th>\n",
       "      <th>country</th>\n",
       "      <th>source</th>\n",
       "      <th>domain</th>\n",
       "      <th>score</th>\n",
       "      <th>score_max</th>\n",
       "      <th>extract</th>\n",
       "      <th>author</th>\n",
       "      <th>product</th>\n",
       "    </tr>\n",
       "  </thead>\n",
       "  <tbody>\n",
       "    <tr>\n",
       "      <th>count</th>\n",
       "      <td>1415133</td>\n",
       "      <td>1415133</td>\n",
       "      <td>1415133</td>\n",
       "      <td>1415133</td>\n",
       "      <td>1415133</td>\n",
       "      <td>1415133</td>\n",
       "      <td>1.351644e+06</td>\n",
       "      <td>1351644.0</td>\n",
       "      <td>1395772</td>\n",
       "      <td>1351931</td>\n",
       "      <td>1415132</td>\n",
       "    </tr>\n",
       "    <tr>\n",
       "      <th>unique</th>\n",
       "      <td>5556</td>\n",
       "      <td>7728</td>\n",
       "      <td>22</td>\n",
       "      <td>42</td>\n",
       "      <td>331</td>\n",
       "      <td>384</td>\n",
       "      <td>NaN</td>\n",
       "      <td>NaN</td>\n",
       "      <td>1321353</td>\n",
       "      <td>801103</td>\n",
       "      <td>61313</td>\n",
       "    </tr>\n",
       "    <tr>\n",
       "      <th>top</th>\n",
       "      <td>/cellphones/samsung-galaxy-s-iii/</td>\n",
       "      <td>7/18/2016</td>\n",
       "      <td>en</td>\n",
       "      <td>us</td>\n",
       "      <td>Amazon</td>\n",
       "      <td>amazon.com</td>\n",
       "      <td>NaN</td>\n",
       "      <td>NaN</td>\n",
       "      <td>#NAME?</td>\n",
       "      <td>Amazon Customer</td>\n",
       "      <td>Lenovo Vibe K4 Note (White,16GB)</td>\n",
       "    </tr>\n",
       "    <tr>\n",
       "      <th>freq</th>\n",
       "      <td>17093</td>\n",
       "      <td>3244</td>\n",
       "      <td>554746</td>\n",
       "      <td>318435</td>\n",
       "      <td>728471</td>\n",
       "      <td>214776</td>\n",
       "      <td>NaN</td>\n",
       "      <td>NaN</td>\n",
       "      <td>667</td>\n",
       "      <td>76978</td>\n",
       "      <td>5226</td>\n",
       "    </tr>\n",
       "    <tr>\n",
       "      <th>mean</th>\n",
       "      <td>NaN</td>\n",
       "      <td>NaN</td>\n",
       "      <td>NaN</td>\n",
       "      <td>NaN</td>\n",
       "      <td>NaN</td>\n",
       "      <td>NaN</td>\n",
       "      <td>8.007060e+00</td>\n",
       "      <td>10.0</td>\n",
       "      <td>NaN</td>\n",
       "      <td>NaN</td>\n",
       "      <td>NaN</td>\n",
       "    </tr>\n",
       "    <tr>\n",
       "      <th>std</th>\n",
       "      <td>NaN</td>\n",
       "      <td>NaN</td>\n",
       "      <td>NaN</td>\n",
       "      <td>NaN</td>\n",
       "      <td>NaN</td>\n",
       "      <td>NaN</td>\n",
       "      <td>2.616121e+00</td>\n",
       "      <td>0.0</td>\n",
       "      <td>NaN</td>\n",
       "      <td>NaN</td>\n",
       "      <td>NaN</td>\n",
       "    </tr>\n",
       "    <tr>\n",
       "      <th>min</th>\n",
       "      <td>NaN</td>\n",
       "      <td>NaN</td>\n",
       "      <td>NaN</td>\n",
       "      <td>NaN</td>\n",
       "      <td>NaN</td>\n",
       "      <td>NaN</td>\n",
       "      <td>2.000000e-01</td>\n",
       "      <td>10.0</td>\n",
       "      <td>NaN</td>\n",
       "      <td>NaN</td>\n",
       "      <td>NaN</td>\n",
       "    </tr>\n",
       "    <tr>\n",
       "      <th>25%</th>\n",
       "      <td>NaN</td>\n",
       "      <td>NaN</td>\n",
       "      <td>NaN</td>\n",
       "      <td>NaN</td>\n",
       "      <td>NaN</td>\n",
       "      <td>NaN</td>\n",
       "      <td>7.200000e+00</td>\n",
       "      <td>10.0</td>\n",
       "      <td>NaN</td>\n",
       "      <td>NaN</td>\n",
       "      <td>NaN</td>\n",
       "    </tr>\n",
       "    <tr>\n",
       "      <th>50%</th>\n",
       "      <td>NaN</td>\n",
       "      <td>NaN</td>\n",
       "      <td>NaN</td>\n",
       "      <td>NaN</td>\n",
       "      <td>NaN</td>\n",
       "      <td>NaN</td>\n",
       "      <td>9.200000e+00</td>\n",
       "      <td>10.0</td>\n",
       "      <td>NaN</td>\n",
       "      <td>NaN</td>\n",
       "      <td>NaN</td>\n",
       "    </tr>\n",
       "    <tr>\n",
       "      <th>75%</th>\n",
       "      <td>NaN</td>\n",
       "      <td>NaN</td>\n",
       "      <td>NaN</td>\n",
       "      <td>NaN</td>\n",
       "      <td>NaN</td>\n",
       "      <td>NaN</td>\n",
       "      <td>1.000000e+01</td>\n",
       "      <td>10.0</td>\n",
       "      <td>NaN</td>\n",
       "      <td>NaN</td>\n",
       "      <td>NaN</td>\n",
       "    </tr>\n",
       "    <tr>\n",
       "      <th>max</th>\n",
       "      <td>NaN</td>\n",
       "      <td>NaN</td>\n",
       "      <td>NaN</td>\n",
       "      <td>NaN</td>\n",
       "      <td>NaN</td>\n",
       "      <td>NaN</td>\n",
       "      <td>1.000000e+01</td>\n",
       "      <td>10.0</td>\n",
       "      <td>NaN</td>\n",
       "      <td>NaN</td>\n",
       "      <td>NaN</td>\n",
       "    </tr>\n",
       "  </tbody>\n",
       "</table>\n",
       "</div>"
      ],
      "text/plain": [
       "                                phone_url       date     lang  country  \\\n",
       "count                             1415133    1415133  1415133  1415133   \n",
       "unique                               5556       7728       22       42   \n",
       "top     /cellphones/samsung-galaxy-s-iii/  7/18/2016       en       us   \n",
       "freq                                17093       3244   554746   318435   \n",
       "mean                                  NaN        NaN      NaN      NaN   \n",
       "std                                   NaN        NaN      NaN      NaN   \n",
       "min                                   NaN        NaN      NaN      NaN   \n",
       "25%                                   NaN        NaN      NaN      NaN   \n",
       "50%                                   NaN        NaN      NaN      NaN   \n",
       "75%                                   NaN        NaN      NaN      NaN   \n",
       "max                                   NaN        NaN      NaN      NaN   \n",
       "\n",
       "         source      domain         score  score_max  extract  \\\n",
       "count   1415133     1415133  1.351644e+06  1351644.0  1395772   \n",
       "unique      331         384           NaN        NaN  1321353   \n",
       "top      Amazon  amazon.com           NaN        NaN   #NAME?   \n",
       "freq     728471      214776           NaN        NaN      667   \n",
       "mean        NaN         NaN  8.007060e+00       10.0      NaN   \n",
       "std         NaN         NaN  2.616121e+00        0.0      NaN   \n",
       "min         NaN         NaN  2.000000e-01       10.0      NaN   \n",
       "25%         NaN         NaN  7.200000e+00       10.0      NaN   \n",
       "50%         NaN         NaN  9.200000e+00       10.0      NaN   \n",
       "75%         NaN         NaN  1.000000e+01       10.0      NaN   \n",
       "max         NaN         NaN  1.000000e+01       10.0      NaN   \n",
       "\n",
       "                 author                           product  \n",
       "count           1351931                           1415132  \n",
       "unique           801103                             61313  \n",
       "top     Amazon Customer  Lenovo Vibe K4 Note (White,16GB)  \n",
       "freq              76978                              5226  \n",
       "mean                NaN                               NaN  \n",
       "std                 NaN                               NaN  \n",
       "min                 NaN                               NaN  \n",
       "25%                 NaN                               NaN  \n",
       "50%                 NaN                               NaN  \n",
       "75%                 NaN                               NaN  \n",
       "max                 NaN                               NaN  "
      ]
     },
     "execution_count": 17,
     "metadata": {},
     "output_type": "execute_result"
    }
   ],
   "source": [
    "dffinal.describe(include='all')"
   ]
  },
  {
   "cell_type": "code",
   "execution_count": 18,
   "metadata": {},
   "outputs": [],
   "source": [
    "dffinal['score'] = round(dffinal['score'])"
   ]
  },
  {
   "cell_type": "code",
   "execution_count": 19,
   "metadata": {},
   "outputs": [],
   "source": [
    "dffinal['score_max'] = round(dffinal['score_max'])"
   ]
  },
  {
   "cell_type": "code",
   "execution_count": 20,
   "metadata": {},
   "outputs": [
    {
     "data": {
      "text/plain": [
       "phone_url        0\n",
       "date             0\n",
       "lang             0\n",
       "country          0\n",
       "source           0\n",
       "domain           0\n",
       "score        63489\n",
       "score_max    63489\n",
       "extract      19361\n",
       "author       63202\n",
       "product          1\n",
       "dtype: int64"
      ]
     },
     "execution_count": 20,
     "metadata": {},
     "output_type": "execute_result"
    }
   ],
   "source": [
    "dffinal.isnull().sum()"
   ]
  },
  {
   "cell_type": "code",
   "execution_count": 21,
   "metadata": {},
   "outputs": [
    {
     "data": {
      "text/plain": [
       "array([10.,  6.,  9.,  4.,  8.,  2.,  7.,  5., nan,  3.,  1.,  0.])"
      ]
     },
     "execution_count": 21,
     "metadata": {},
     "output_type": "execute_result"
    }
   ],
   "source": [
    "dffinal['score'].unique()"
   ]
  },
  {
   "cell_type": "code",
   "execution_count": 22,
   "metadata": {},
   "outputs": [
    {
     "data": {
      "text/plain": [
       "<matplotlib.axes._subplots.AxesSubplot at 0x1555db34df0>"
      ]
     },
     "execution_count": 22,
     "metadata": {},
     "output_type": "execute_result"
    },
    {
     "data": {
      "image/png": "[encoded data removed]",
      "text/plain": [
       "<Figure size 432x288 with 1 Axes>"
      ]
     },
     "metadata": {
      "needs_background": "light"
     },
     "output_type": "display_data"
    }
   ],
   "source": [
    "sns.boxplot(dffinal['score'])"
   ]
  },
  {
   "cell_type": "code",
   "execution_count": 23,
   "metadata": {},
   "outputs": [
    {
     "data": {
      "text/plain": [
       "8.008083489439526"
      ]
     },
     "execution_count": 23,
     "metadata": {},
     "output_type": "execute_result"
    }
   ],
   "source": [
    "dffinal['score'].mean()"
   ]
  },
  {
   "cell_type": "code",
   "execution_count": 24,
   "metadata": {},
   "outputs": [],
   "source": [
    "dffinal['score'].fillna(8, inplace = True) "
   ]
  },
  {
   "cell_type": "code",
   "execution_count": 25,
   "metadata": {},
   "outputs": [],
   "source": [
    "dffinal['score_max'].fillna(10, inplace = True) "
   ]
  },
  {
   "cell_type": "code",
   "execution_count": 26,
   "metadata": {},
   "outputs": [
    {
     "name": "stdout",
     "output_type": "stream",
     "text": [
      "Total unique values =  1321353\n",
      "Total null values =  19361\n"
     ]
    }
   ],
   "source": [
    "print('Total unique values = ',dffinal['extract'].nunique())\n",
    "print('Total null values = ',dffinal['extract'].isnull().sum())"
   ]
  },
  {
   "cell_type": "code",
   "execution_count": 27,
   "metadata": {},
   "outputs": [
    {
     "name": "stdout",
     "output_type": "stream",
     "text": [
      "Total unique values =  801103\n",
      "Total null values =  63202\n"
     ]
    }
   ],
   "source": [
    "print('Total unique values = ',dffinal['author'].nunique())\n",
    "print('Total null values = ',dffinal['author'].isnull().sum())"
   ]
  },
  {
   "cell_type": "markdown",
   "metadata": {},
   "source": [
    "As the dataset is huge so dropping all the columne which has null for it. Both columns has a lot of unique values and being an object type making it hard to replace the null values."
   ]
  },
  {
   "cell_type": "code",
   "execution_count": 28,
   "metadata": {},
   "outputs": [],
   "source": [
    "dffinal.dropna(inplace= True)"
   ]
  },
  {
   "cell_type": "code",
   "execution_count": 29,
   "metadata": {},
   "outputs": [
    {
     "name": "stdout",
     "output_type": "stream",
     "text": [
      "<class 'pandas.core.frame.DataFrame'>\n",
      "Int64Index: 1336416 entries, 0 to 163836\n",
      "Data columns (total 11 columns):\n",
      " #   Column     Non-Null Count    Dtype  \n",
      "---  ------     --------------    -----  \n",
      " 0   phone_url  1336416 non-null  object \n",
      " 1   date       1336416 non-null  object \n",
      " 2   lang       1336416 non-null  object \n",
      " 3   country    1336416 non-null  object \n",
      " 4   source     1336416 non-null  object \n",
      " 5   domain     1336416 non-null  object \n",
      " 6   score      1336416 non-null  float64\n",
      " 7   score_max  1336416 non-null  float64\n",
      " 8   extract    1336416 non-null  object \n",
      " 9   author     1336416 non-null  object \n",
      " 10  product    1336416 non-null  object \n",
      "dtypes: float64(2), object(9)\n",
      "memory usage: 122.4+ MB\n"
     ]
    }
   ],
   "source": [
    "dffinal.info()"
   ]
  },
  {
   "cell_type": "code",
   "execution_count": 30,
   "metadata": {},
   "outputs": [],
   "source": [
    "dffinal.drop_duplicates(inplace=True)"
   ]
  },
  {
   "cell_type": "code",
   "execution_count": 31,
   "metadata": {},
   "outputs": [
    {
     "data": {
      "text/plain": [
       "(1331592, 11)"
      ]
     },
     "execution_count": 31,
     "metadata": {},
     "output_type": "execute_result"
    }
   ],
   "source": [
    "dffinal.shape"
   ]
  },
  {
   "cell_type": "code",
   "execution_count": 32,
   "metadata": {},
   "outputs": [],
   "source": [
    "df_new =  dffinal.sample(n=1000000,random_state=612)"
   ]
  },
  {
   "cell_type": "code",
   "execution_count": 33,
   "metadata": {},
   "outputs": [
    {
     "data": {
      "text/plain": [
       "(1000000, 11)"
      ]
     },
     "execution_count": 33,
     "metadata": {},
     "output_type": "execute_result"
    }
   ],
   "source": [
    "df_new.shape"
   ]
  },
  {
   "cell_type": "code",
   "execution_count": 34,
   "metadata": {},
   "outputs": [
    {
     "data": {
      "text/html": [
       "<div>\n",
       "<style scoped>\n",
       "    .dataframe tbody tr th:only-of-type {\n",
       "        vertical-align: middle;\n",
       "    }\n",
       "\n",
       "    .dataframe tbody tr th {\n",
       "        vertical-align: top;\n",
       "    }\n",
       "\n",
       "    .dataframe thead th {\n",
       "        text-align: right;\n",
       "    }\n",
       "</style>\n",
       "<table border=\"1\" class=\"dataframe\">\n",
       "  <thead>\n",
       "    <tr style=\"text-align: right;\">\n",
       "      <th></th>\n",
       "      <th>phone_url</th>\n",
       "      <th>date</th>\n",
       "      <th>lang</th>\n",
       "      <th>country</th>\n",
       "      <th>source</th>\n",
       "      <th>domain</th>\n",
       "      <th>score</th>\n",
       "      <th>score_max</th>\n",
       "      <th>extract</th>\n",
       "      <th>author</th>\n",
       "      <th>product</th>\n",
       "    </tr>\n",
       "  </thead>\n",
       "  <tbody>\n",
       "    <tr>\n",
       "      <th>8765</th>\n",
       "      <td>/cellphones/samsung-galaxy-s7-edge/</td>\n",
       "      <td>5/23/2016</td>\n",
       "      <td>en</td>\n",
       "      <td>us</td>\n",
       "      <td>Samsung</td>\n",
       "      <td>samsung.com</td>\n",
       "      <td>10.0</td>\n",
       "      <td>10.0</td>\n",
       "      <td>I love this phone. Very fast no problems since...</td>\n",
       "      <td>Kdotj15</td>\n",
       "      <td>Samsung Galaxy S7 edge 32GB (Sprint)</td>\n",
       "    </tr>\n",
       "    <tr>\n",
       "      <th>233365</th>\n",
       "      <td>/cellphones/asus-zenfone-2-ze551ml/</td>\n",
       "      <td>2/20/2017</td>\n",
       "      <td>it</td>\n",
       "      <td>it</td>\n",
       "      <td>Amazon</td>\n",
       "      <td>amazon.it</td>\n",
       "      <td>10.0</td>\n",
       "      <td>10.0</td>\n",
       "      <td>QualitÃ  prezzo davvero ottimo, rispetto ai pi...</td>\n",
       "      <td>Cliente Amazon</td>\n",
       "      <td>Asus ZE551ML-2A760WW Smartphone ZenFone 2 Delu...</td>\n",
       "    </tr>\n",
       "    <tr>\n",
       "      <th>145859</th>\n",
       "      <td>/cellphones/huawei-mate-s/</td>\n",
       "      <td>1/14/2017</td>\n",
       "      <td>he</td>\n",
       "      <td>il</td>\n",
       "      <td>Zap.il</td>\n",
       "      <td>zap.co.il</td>\n",
       "      <td>10.0</td>\n",
       "      <td>10.0</td>\n",
       "      <td>×§× ××ª× ××ª ××××©××¨ ×1500 ×©:× ××...</td>\n",
       "      <td>ron</td>\n",
       "      <td>×××¤×× ×¡××××¨× Huawei Mate S 32GB</td>\n",
       "    </tr>\n",
       "    <tr>\n",
       "      <th>302179</th>\n",
       "      <td>/cellphones/sony-ericsson-w395/</td>\n",
       "      <td>6/4/2009</td>\n",
       "      <td>de</td>\n",
       "      <td>de</td>\n",
       "      <td>Amazon</td>\n",
       "      <td>amazon.de</td>\n",
       "      <td>8.0</td>\n",
       "      <td>10.0</td>\n",
       "      <td>Das Handy an sich ist echt gut. Die Bedienung ...</td>\n",
       "      <td>Steffi</td>\n",
       "      <td>Sony Ericsson W395 blush titanium Handy</td>\n",
       "    </tr>\n",
       "    <tr>\n",
       "      <th>304586</th>\n",
       "      <td>/cellphones/apple-iphone-3g/</td>\n",
       "      <td>2/6/2009</td>\n",
       "      <td>en</td>\n",
       "      <td>gb</td>\n",
       "      <td>Amazon</td>\n",
       "      <td>amazon.co.uk</td>\n",
       "      <td>2.0</td>\n",
       "      <td>10.0</td>\n",
       "      <td>There not unock t to any network and not engli...</td>\n",
       "      <td>paul george</td>\n",
       "      <td>Apple iPhone 3G 8GB SIM-Free - Black</td>\n",
       "    </tr>\n",
       "  </tbody>\n",
       "</table>\n",
       "</div>"
      ],
      "text/plain": [
       "                                  phone_url       date lang country   source  \\\n",
       "8765    /cellphones/samsung-galaxy-s7-edge/  5/23/2016   en      us  Samsung   \n",
       "233365  /cellphones/asus-zenfone-2-ze551ml/  2/20/2017   it      it   Amazon   \n",
       "145859           /cellphones/huawei-mate-s/  1/14/2017   he      il   Zap.il   \n",
       "302179      /cellphones/sony-ericsson-w395/   6/4/2009   de      de   Amazon   \n",
       "304586         /cellphones/apple-iphone-3g/   2/6/2009   en      gb   Amazon   \n",
       "\n",
       "              domain  score  score_max  \\\n",
       "8765     samsung.com   10.0       10.0   \n",
       "233365     amazon.it   10.0       10.0   \n",
       "145859     zap.co.il   10.0       10.0   \n",
       "302179     amazon.de    8.0       10.0   \n",
       "304586  amazon.co.uk    2.0       10.0   \n",
       "\n",
       "                                                  extract          author  \\\n",
       "8765    I love this phone. Very fast no problems since...        Kdotj15    \n",
       "233365  QualitÃ  prezzo davvero ottimo, rispetto ai pi...  Cliente Amazon   \n",
       "145859  ×§× ××ª× ××ª ××××©××¨ ×1500 ×©:× ××...             ron   \n",
       "302179  Das Handy an sich ist echt gut. Die Bedienung ...          Steffi   \n",
       "304586  There not unock t to any network and not engli...     paul george   \n",
       "\n",
       "                                                  product  \n",
       "8765                 Samsung Galaxy S7 edge 32GB (Sprint)  \n",
       "233365  Asus ZE551ML-2A760WW Smartphone ZenFone 2 Delu...  \n",
       "145859         ×××¤×× ×¡××××¨× Huawei Mate S 32GB  \n",
       "302179            Sony Ericsson W395 blush titanium Handy  \n",
       "304586               Apple iPhone 3G 8GB SIM-Free - Black  "
      ]
     },
     "execution_count": 34,
     "metadata": {},
     "output_type": "execute_result"
    }
   ],
   "source": [
    "df_new.head()"
   ]
  },
  {
   "cell_type": "code",
   "execution_count": 35,
   "metadata": {},
   "outputs": [],
   "source": [
    "df_feature = df_new.loc[:,[\"author\", \"product\", \"score\"]]"
   ]
  },
  {
   "cell_type": "code",
   "execution_count": 36,
   "metadata": {},
   "outputs": [
    {
     "data": {
      "text/plain": [
       "(1000000, 3)"
      ]
     },
     "execution_count": 36,
     "metadata": {},
     "output_type": "execute_result"
    }
   ],
   "source": [
    "df_feature.shape"
   ]
  },
  {
   "cell_type": "markdown",
   "metadata": {},
   "source": [
    "2. Answer the following questions\n"
   ]
  },
  {
   "cell_type": "markdown",
   "metadata": {},
   "source": [
    " • Identify the most rated features"
   ]
  },
  {
   "cell_type": "markdown",
   "metadata": {},
   "source": [
    "• Identify the users with most number of reviews "
   ]
  },
  {
   "cell_type": "markdown",
   "metadata": {},
   "source": [
    "• Select the data with products having more than 50 ratings and users who have given more than 50 ratings. Report the shape of the final dataset."
   ]
  },
  {
   "cell_type": "code",
   "execution_count": 37,
   "metadata": {},
   "outputs": [
    {
     "data": {
      "text/plain": [
       "product\n",
       "Lenovo Vibe K4 Note (White,16GB)     3913\n",
       "Lenovo Vibe K4 Note (Black, 16GB)    3228\n",
       "OnePlus 3 (Graphite, 64 GB)          3127\n",
       "OnePlus 3 (Soft Gold, 64 GB)         2643\n",
       "Huawei P8lite zwart / 16 GB          1994\n",
       "Name: score, dtype: int64"
      ]
     },
     "execution_count": 37,
     "metadata": {},
     "output_type": "execute_result"
    }
   ],
   "source": [
    "df_feature.groupby('product')[\"score\"].count().sort_values(ascending= False).head(5)"
   ]
  },
  {
   "cell_type": "markdown",
   "metadata": {},
   "source": [
    "Lenovo Vibe K4 Note (White,16GB) is the most rated "
   ]
  },
  {
   "cell_type": "code",
   "execution_count": 38,
   "metadata": {},
   "outputs": [
    {
     "data": {
      "text/plain": [
       "author\n",
       "Amazon Customer    57801\n",
       "Cliente Amazon     14656\n",
       "e-bit               6261\n",
       "Client d'Amazon     5713\n",
       "Amazon Kunde        3565\n",
       "Name: score, dtype: int64"
      ]
     },
     "execution_count": 38,
     "metadata": {},
     "output_type": "execute_result"
    }
   ],
   "source": [
    "df_feature.groupby('author')[\"score\"].count().sort_values(ascending= False).head()"
   ]
  },
  {
   "cell_type": "markdown",
   "metadata": {},
   "source": [
    "Amazon Customer has the most number of reviews "
   ]
  },
  {
   "cell_type": "code",
   "execution_count": 39,
   "metadata": {},
   "outputs": [],
   "source": [
    "product_counts = df_feature[\"product\"].value_counts()"
   ]
  },
  {
   "cell_type": "code",
   "execution_count": 40,
   "metadata": {},
   "outputs": [],
   "source": [
    "author_count = df_feature[\"author\"].value_counts()"
   ]
  },
  {
   "cell_type": "code",
   "execution_count": 41,
   "metadata": {},
   "outputs": [],
   "source": [
    "df_prod= df_feature[df_feature['product'].isin(product_counts[product_counts > 50].index)]"
   ]
  },
  {
   "cell_type": "code",
   "execution_count": 42,
   "metadata": {},
   "outputs": [],
   "source": [
    "author_count = df_prod[\"author\"].value_counts()"
   ]
  },
  {
   "cell_type": "code",
   "execution_count": 43,
   "metadata": {},
   "outputs": [],
   "source": [
    "df_prod_auth = df_prod[df_prod['author'].isin(author_count[author_count > 50].index)]"
   ]
  },
  {
   "cell_type": "code",
   "execution_count": 44,
   "metadata": {},
   "outputs": [
    {
     "data": {
      "text/plain": [
       "(96205, 3)"
      ]
     },
     "execution_count": 44,
     "metadata": {},
     "output_type": "execute_result"
    }
   ],
   "source": [
    "df_prod_auth.shape"
   ]
  },
  {
   "cell_type": "markdown",
   "metadata": {},
   "source": [
    "3. Build a popularity based model and recommend top 5 mobile phones"
   ]
  },
  {
   "cell_type": "code",
   "execution_count": 45,
   "metadata": {},
   "outputs": [
    {
     "data": {
      "text/html": [
       "<div>\n",
       "<style scoped>\n",
       "    .dataframe tbody tr th:only-of-type {\n",
       "        vertical-align: middle;\n",
       "    }\n",
       "\n",
       "    .dataframe tbody tr th {\n",
       "        vertical-align: top;\n",
       "    }\n",
       "\n",
       "    .dataframe thead th {\n",
       "        text-align: right;\n",
       "    }\n",
       "</style>\n",
       "<table border=\"1\" class=\"dataframe\">\n",
       "  <thead>\n",
       "    <tr style=\"text-align: right;\">\n",
       "      <th></th>\n",
       "      <th>author</th>\n",
       "      <th>product</th>\n",
       "      <th>score</th>\n",
       "    </tr>\n",
       "  </thead>\n",
       "  <tbody>\n",
       "    <tr>\n",
       "      <th>233365</th>\n",
       "      <td>Cliente Amazon</td>\n",
       "      <td>Asus ZE551ML-2A760WW Smartphone ZenFone 2 Delu...</td>\n",
       "      <td>10.0</td>\n",
       "    </tr>\n",
       "    <tr>\n",
       "      <th>47652</th>\n",
       "      <td>Amazon Customer</td>\n",
       "      <td>Apple iPhone 5s (Silver, 16GB)</td>\n",
       "      <td>2.0</td>\n",
       "    </tr>\n",
       "    <tr>\n",
       "      <th>28936</th>\n",
       "      <td>einem Kunden</td>\n",
       "      <td>ZTE Blade A452 Smartphone, 12,7 cm (5 Zoll) Di...</td>\n",
       "      <td>10.0</td>\n",
       "    </tr>\n",
       "    <tr>\n",
       "      <th>353663</th>\n",
       "      <td>Client d'Amazon</td>\n",
       "      <td>Aukru Chargeur de batterie adaptateur Pour Sam...</td>\n",
       "      <td>8.0</td>\n",
       "    </tr>\n",
       "    <tr>\n",
       "      <th>224123</th>\n",
       "      <td>Amazon Customer</td>\n",
       "      <td>Motorola Moto G 3rd Generation (Black, 16GB)</td>\n",
       "      <td>8.0</td>\n",
       "    </tr>\n",
       "  </tbody>\n",
       "</table>\n",
       "</div>"
      ],
      "text/plain": [
       "                 author                                            product  \\\n",
       "233365   Cliente Amazon  Asus ZE551ML-2A760WW Smartphone ZenFone 2 Delu...   \n",
       "47652   Amazon Customer                     Apple iPhone 5s (Silver, 16GB)   \n",
       "28936      einem Kunden  ZTE Blade A452 Smartphone, 12,7 cm (5 Zoll) Di...   \n",
       "353663  Client d'Amazon  Aukru Chargeur de batterie adaptateur Pour Sam...   \n",
       "224123  Amazon Customer       Motorola Moto G 3rd Generation (Black, 16GB)   \n",
       "\n",
       "        score  \n",
       "233365   10.0  \n",
       "47652     2.0  \n",
       "28936    10.0  \n",
       "353663    8.0  \n",
       "224123    8.0  "
      ]
     },
     "execution_count": 45,
     "metadata": {},
     "output_type": "execute_result"
    }
   ],
   "source": [
    "df_prod_auth.head(5)"
   ]
  },
  {
   "cell_type": "code",
   "execution_count": 46,
   "metadata": {},
   "outputs": [
    {
     "data": {
      "text/html": [
       "<div>\n",
       "<style scoped>\n",
       "    .dataframe tbody tr th:only-of-type {\n",
       "        vertical-align: middle;\n",
       "    }\n",
       "\n",
       "    .dataframe tbody tr th {\n",
       "        vertical-align: top;\n",
       "    }\n",
       "\n",
       "    .dataframe thead th {\n",
       "        text-align: right;\n",
       "    }\n",
       "</style>\n",
       "<table border=\"1\" class=\"dataframe\">\n",
       "  <thead>\n",
       "    <tr style=\"text-align: right;\">\n",
       "      <th></th>\n",
       "      <th>product</th>\n",
       "      <th>ratingsCount</th>\n",
       "      <th>Rank</th>\n",
       "    </tr>\n",
       "  </thead>\n",
       "  <tbody>\n",
       "    <tr>\n",
       "      <th>0</th>\n",
       "      <td>Lenovo Vibe K4 Note (White,16GB)</td>\n",
       "      <td>2320</td>\n",
       "      <td>1.0</td>\n",
       "    </tr>\n",
       "    <tr>\n",
       "      <th>1</th>\n",
       "      <td>Lenovo Vibe K4 Note (Black, 16GB)</td>\n",
       "      <td>1880</td>\n",
       "      <td>2.0</td>\n",
       "    </tr>\n",
       "    <tr>\n",
       "      <th>2</th>\n",
       "      <td>OnePlus 3 (Graphite, 64 GB)</td>\n",
       "      <td>1422</td>\n",
       "      <td>3.0</td>\n",
       "    </tr>\n",
       "    <tr>\n",
       "      <th>3</th>\n",
       "      <td>OnePlus 3 (Soft Gold, 64 GB)</td>\n",
       "      <td>1291</td>\n",
       "      <td>4.0</td>\n",
       "    </tr>\n",
       "    <tr>\n",
       "      <th>4</th>\n",
       "      <td>Lenovo Vibe K5 (Gold, VoLTE update)</td>\n",
       "      <td>1146</td>\n",
       "      <td>5.0</td>\n",
       "    </tr>\n",
       "  </tbody>\n",
       "</table>\n",
       "</div>"
      ],
      "text/plain": [
       "                               product  ratingsCount  Rank\n",
       "0     Lenovo Vibe K4 Note (White,16GB)          2320   1.0\n",
       "1    Lenovo Vibe K4 Note (Black, 16GB)          1880   2.0\n",
       "2          OnePlus 3 (Graphite, 64 GB)          1422   3.0\n",
       "3         OnePlus 3 (Soft Gold, 64 GB)          1291   4.0\n",
       "4  Lenovo Vibe K5 (Gold, VoLTE update)          1146   5.0"
      ]
     },
     "execution_count": 46,
     "metadata": {},
     "output_type": "execute_result"
    }
   ],
   "source": [
    "new_data = pd.DataFrame(df_prod_auth['product'].value_counts()).reset_index()\n",
    "new_data.columns = ['product','ratingsCount']\n",
    "new_data['Rank'] =new_data['ratingsCount'].rank(ascending = False, method='first')\n",
    "new_data.head(5) # top 5 mobile phone models"
   ]
  },
  {
   "cell_type": "markdown",
   "metadata": {},
   "source": [
    "4. Build a collaborative filtering model using SVD. You can use SVD from surprise or build it from scratch(Note: Incase you’re building it from scratch you can limit your data points to 10000 samples if you face memory issues). ( 5 points)\n",
    "5. Build a collaborative filtering model using kNNWithMeans from surprise. You can try both user-based and item-based model ( 5 points)\n",
    "6. Evaluate the collaborative model. Print RMSE value. ( 2.5 points)\n",
    "7. Predict score (average rating) for test users. ( 2.5 points)"
   ]
  },
  {
   "cell_type": "code",
   "execution_count": 47,
   "metadata": {},
   "outputs": [
    {
     "name": "stdout",
     "output_type": "stream",
     "text": [
      "Requirement already satisfied: surprise in c:\\users\\hp\\anaconda3\\lib\\site-packages (0.1)\n",
      "Requirement already satisfied: scikit-surprise in c:\\users\\hp\\anaconda3\\lib\\site-packages (from surprise) (1.1.1)\n",
      "Requirement already satisfied: joblib>=0.11 in c:\\users\\hp\\anaconda3\\lib\\site-packages (from scikit-surprise->surprise) (0.16.0)\n",
      "Requirement already satisfied: numpy>=1.11.2 in c:\\users\\hp\\anaconda3\\lib\\site-packages (from scikit-surprise->surprise) (1.18.5)\n",
      "Requirement already satisfied: scipy>=1.0.0 in c:\\users\\hp\\anaconda3\\lib\\site-packages (from scikit-surprise->surprise) (1.5.0)\n",
      "Requirement already satisfied: six>=1.10.0 in c:\\users\\hp\\anaconda3\\lib\\site-packages (from scikit-surprise->surprise) (1.15.0)\n"
     ]
    }
   ],
   "source": [
    "!pip install surprise"
   ]
  },
  {
   "cell_type": "code",
   "execution_count": 48,
   "metadata": {},
   "outputs": [],
   "source": [
    "from surprise import Dataset \n",
    "from surprise import Reader\n",
    "from surprise.model_selection import train_test_split\n",
    "from surprise import accuracy\n",
    "from surprise.model_selection import GridSearchCV,RandomizedSearchCV\n",
    "from sklearn.metrics import confusion_matrix, precision_score, recall_score,classification_report"
   ]
  },
  {
   "cell_type": "code",
   "execution_count": 49,
   "metadata": {},
   "outputs": [],
   "source": [
    "reader = Reader(rating_scale=(0,10))\n",
    "dataset = Dataset.load_from_df(df_prod_auth[['author','product','score']],reader)"
   ]
  },
  {
   "cell_type": "code",
   "execution_count": 50,
   "metadata": {},
   "outputs": [],
   "source": [
    "trainset, testset = train_test_split(dataset, test_size=0.25, random_state=1)"
   ]
  },
  {
   "cell_type": "code",
   "execution_count": 51,
   "metadata": {},
   "outputs": [
    {
     "data": {
      "text/plain": [
       "<surprise.prediction_algorithms.matrix_factorization.SVD at 0x155449c6130>"
      ]
     },
     "execution_count": 51,
     "metadata": {},
     "output_type": "execute_result"
    }
   ],
   "source": [
    "from surprise import SVD\n",
    "algo = SVD()\n",
    "algo.fit(trainset)"
   ]
  },
  {
   "cell_type": "code",
   "execution_count": 52,
   "metadata": {},
   "outputs": [],
   "source": [
    "pred = algo.test(testset)\n",
    "pred_df = pd.DataFrame(pred)"
   ]
  },
  {
   "cell_type": "code",
   "execution_count": 53,
   "metadata": {},
   "outputs": [
    {
     "data": {
      "text/html": [
       "<div>\n",
       "<style scoped>\n",
       "    .dataframe tbody tr th:only-of-type {\n",
       "        vertical-align: middle;\n",
       "    }\n",
       "\n",
       "    .dataframe tbody tr th {\n",
       "        vertical-align: top;\n",
       "    }\n",
       "\n",
       "    .dataframe thead th {\n",
       "        text-align: right;\n",
       "    }\n",
       "</style>\n",
       "<table border=\"1\" class=\"dataframe\">\n",
       "  <thead>\n",
       "    <tr style=\"text-align: right;\">\n",
       "      <th></th>\n",
       "      <th>uid</th>\n",
       "      <th>iid</th>\n",
       "      <th>r_ui</th>\n",
       "      <th>est</th>\n",
       "      <th>details</th>\n",
       "    </tr>\n",
       "  </thead>\n",
       "  <tbody>\n",
       "    <tr>\n",
       "      <th>0</th>\n",
       "      <td>Amazon Customer</td>\n",
       "      <td>OnePlus 3 (Soft Gold, 64 GB)</td>\n",
       "      <td>6.0</td>\n",
       "      <td>8.101062</td>\n",
       "      <td>{'was_impossible': False}</td>\n",
       "    </tr>\n",
       "    <tr>\n",
       "      <th>1</th>\n",
       "      <td>Amazon Customer</td>\n",
       "      <td>LG G4, Metallic Gray 32GB (Sprint)</td>\n",
       "      <td>8.0</td>\n",
       "      <td>7.960857</td>\n",
       "      <td>{'was_impossible': False}</td>\n",
       "    </tr>\n",
       "    <tr>\n",
       "      <th>2</th>\n",
       "      <td>Juan</td>\n",
       "      <td>Motorola Moto G (3Âª GeneraciÃ³n) + Carcasa Of...</td>\n",
       "      <td>8.0</td>\n",
       "      <td>7.798360</td>\n",
       "      <td>{'was_impossible': False}</td>\n",
       "    </tr>\n",
       "    <tr>\n",
       "      <th>3</th>\n",
       "      <td>Cliente Amazon</td>\n",
       "      <td>Microsoft Lumia 950 XL Smartphone, 5.7\", camer...</td>\n",
       "      <td>10.0</td>\n",
       "      <td>7.572055</td>\n",
       "      <td>{'was_impossible': False}</td>\n",
       "    </tr>\n",
       "    <tr>\n",
       "      <th>4</th>\n",
       "      <td>Cliente Amazon</td>\n",
       "      <td>Cubot Note S - Smartphone libre Android (Panta...</td>\n",
       "      <td>10.0</td>\n",
       "      <td>8.407207</td>\n",
       "      <td>{'was_impossible': False}</td>\n",
       "    </tr>\n",
       "  </tbody>\n",
       "</table>\n",
       "</div>"
      ],
      "text/plain": [
       "               uid                                                iid  r_ui  \\\n",
       "0  Amazon Customer                       OnePlus 3 (Soft Gold, 64 GB)   6.0   \n",
       "1  Amazon Customer                 LG G4, Metallic Gray 32GB (Sprint)   8.0   \n",
       "2             Juan  Motorola Moto G (3Âª GeneraciÃ³n) + Carcasa Of...   8.0   \n",
       "3   Cliente Amazon  Microsoft Lumia 950 XL Smartphone, 5.7\", camer...  10.0   \n",
       "4   Cliente Amazon  Cubot Note S - Smartphone libre Android (Panta...  10.0   \n",
       "\n",
       "        est                    details  \n",
       "0  8.101062  {'was_impossible': False}  \n",
       "1  7.960857  {'was_impossible': False}  \n",
       "2  7.798360  {'was_impossible': False}  \n",
       "3  7.572055  {'was_impossible': False}  \n",
       "4  8.407207  {'was_impossible': False}  "
      ]
     },
     "execution_count": 53,
     "metadata": {},
     "output_type": "execute_result"
    }
   ],
   "source": [
    "pred_df.head(5)"
   ]
  },
  {
   "cell_type": "code",
   "execution_count": 54,
   "metadata": {},
   "outputs": [
    {
     "name": "stdout",
     "output_type": "stream",
     "text": [
      "RMSE: 2.6906\n",
      "MAE:  2.0867\n"
     ]
    },
    {
     "data": {
      "text/plain": [
       "2.086664652218555"
      ]
     },
     "execution_count": 54,
     "metadata": {},
     "output_type": "execute_result"
    }
   ],
   "source": [
    "accuracy.rmse(pred)\n",
    "accuracy.mae(pred)"
   ]
  },
  {
   "cell_type": "code",
   "execution_count": 55,
   "metadata": {},
   "outputs": [
    {
     "name": "stdout",
     "output_type": "stream",
     "text": [
      "Computing the cosine similarity matrix...\n",
      "Done computing similarity matrix.\n"
     ]
    },
    {
     "data": {
      "text/plain": [
       "<surprise.prediction_algorithms.knns.KNNWithMeans at 0x1555a5a9a90>"
      ]
     },
     "execution_count": 55,
     "metadata": {},
     "output_type": "execute_result"
    }
   ],
   "source": [
    "from surprise import KNNWithMeans\n",
    "algoKnn = KNNWithMeans(k=47, sim_options={'name':'cosine', 'user_based':True})  # KNNwith mean user based \n",
    "algoKnn.fit(trainset)"
   ]
  },
  {
   "cell_type": "code",
   "execution_count": 56,
   "metadata": {},
   "outputs": [],
   "source": [
    "test_pred_userB = algoKnn.test(testset)"
   ]
  },
  {
   "cell_type": "code",
   "execution_count": 57,
   "metadata": {},
   "outputs": [
    {
     "name": "stdout",
     "output_type": "stream",
     "text": [
      "RMSE: 2.6862\n",
      "MAE:  2.0945\n"
     ]
    },
    {
     "data": {
      "text/plain": [
       "2.094465868255256"
      ]
     },
     "execution_count": 57,
     "metadata": {},
     "output_type": "execute_result"
    }
   ],
   "source": [
    "accuracy.rmse(test_pred_userB)\n",
    "accuracy.mae(test_pred_userB)"
   ]
  },
  {
   "cell_type": "code",
   "execution_count": 58,
   "metadata": {},
   "outputs": [
    {
     "name": "stdout",
     "output_type": "stream",
     "text": [
      "Computing the cosine similarity matrix...\n",
      "Done computing similarity matrix.\n"
     ]
    },
    {
     "data": {
      "text/plain": [
       "<surprise.prediction_algorithms.knns.KNNWithMeans at 0x1555f2a58e0>"
      ]
     },
     "execution_count": 58,
     "metadata": {},
     "output_type": "execute_result"
    }
   ],
   "source": [
    "algoKnnItemB = KNNWithMeans(k=35, sim_options={'name':'cosine', 'user_based':False}) # KNNwith mean item user based \n",
    "algoKnnItemB.fit(trainset)"
   ]
  },
  {
   "cell_type": "code",
   "execution_count": 59,
   "metadata": {},
   "outputs": [],
   "source": [
    "test_pred_ItemB = algoKnnItemB.test(testset)"
   ]
  },
  {
   "cell_type": "code",
   "execution_count": 60,
   "metadata": {},
   "outputs": [
    {
     "name": "stdout",
     "output_type": "stream",
     "text": [
      "RMSE: 2.6964\n",
      "MAE:  2.0960\n"
     ]
    },
    {
     "data": {
      "text/plain": [
       "2.0960270757931023"
      ]
     },
     "execution_count": 60,
     "metadata": {},
     "output_type": "execute_result"
    }
   ],
   "source": [
    "accuracy.rmse(test_pred_ItemB)\n",
    "accuracy.mae(test_pred_ItemB)"
   ]
  },
  {
   "cell_type": "markdown",
   "metadata": {},
   "source": [
    "8. Report your findings and inferences ( 5 points)"
   ]
  },
  {
   "cell_type": "markdown",
   "metadata": {},
   "source": [
    "If we remove the users which has one review then we can get better result. The RMSE in both the case is too high and giving the same result. "
   ]
  },
  {
   "cell_type": "markdown",
   "metadata": {},
   "source": [
    "9. Try and recommend top 5 products for test users. ( 5 points)"
   ]
  },
  {
   "cell_type": "code",
   "execution_count": 61,
   "metadata": {},
   "outputs": [],
   "source": [
    "from collections import defaultdict\n",
    "def get_top_n(predictions, userid, n):\n",
    "\n",
    "    top_n = defaultdict(list)\n",
    "    for uid, iid, true_r, est, _ in predictions:\n",
    "        top_n[uid].append((iid, est))\n",
    "\n",
    "    for uid, user_ratings in top_n.items():\n",
    "        user_ratings.sort(key=lambda x: x[1], reverse=True)\n",
    "        top_n[uid] = user_ratings[:n]\n",
    "\n",
    "    return top_n[userid]"
   ]
  },
  {
   "cell_type": "code",
   "execution_count": 62,
   "metadata": {},
   "outputs": [
    {
     "data": {
      "text/plain": [
       "[('LG Nexus 5 - Smartphone libre Android (pantalla 4.95\", cÃ¡mara 8 Mp, 16 GB, Quad-Core 2.3 GHz, 2 GB RAM), negro',\n",
       "  9.102879988488985),\n",
       " ('LG G2 mini - Smartphone libre Android (Pantalla 4.7\", cÃ¡mara 8 Mp, 8 GB, Quad-Core 1.2 GHz, 1 GB RAM), blanco (importado)',\n",
       "  8.541485777307289),\n",
       " ('Nokia E63-2 Unlocked Phone with 2 MP Camera, 3G, Wi-Fi, Media Player, and MicroSD Slot--U.S. Version with Warranty (Ultramarine Blue)',\n",
       "  8.291025608350008),\n",
       " ('BLU Win JR 4-Inch Windows Phone 8.1, 5MP Camera, Unlocked Cell Phones-White',\n",
       "  8.25245378520937),\n",
       " ('Samsung Galaxy Grand Neo Plus - Smartphone libre Android (pantalla 5\", cÃ¡mara 5 Mp, 8 GB, Quad-Core 1.2 GHz, 1 GB RAM), blanco (importado)',\n",
       "  7.931863460028794)]"
      ]
     },
     "execution_count": 62,
     "metadata": {},
     "output_type": "execute_result"
    }
   ],
   "source": [
    "get_top_n(pred,'Juan',5)"
   ]
  },
  {
   "cell_type": "markdown",
   "metadata": {},
   "source": [
    "10. Check for outliers and impute them as required."
   ]
  },
  {
   "cell_type": "code",
   "execution_count": 63,
   "metadata": {},
   "outputs": [
    {
     "data": {
      "text/plain": [
       "<matplotlib.axes._subplots.AxesSubplot at 0x1555f2a5d60>"
      ]
     },
     "execution_count": 63,
     "metadata": {},
     "output_type": "execute_result"
    },
    {
     "data": {
      "image/png": "[encoded data removed]",
      "text/plain": [
       "<Figure size 432x288 with 1 Axes>"
      ]
     },
     "metadata": {
      "needs_background": "light"
     },
     "output_type": "display_data"
    }
   ],
   "source": [
    "sns.boxplot(x=df_prod_auth['score'])"
   ]
  },
  {
   "cell_type": "markdown",
   "metadata": {},
   "source": [
    "No outliers visible "
   ]
  },
  {
   "cell_type": "markdown",
   "metadata": {},
   "source": [
    "12. In what business scenario you should use popularity based Recommendation Systems?"
   ]
  },
  {
   "cell_type": "markdown",
   "metadata": {},
   "source": [
    "When the user details are not known and it is hard to say the test of the user then popularity based Recommendation Systems should be used"
   ]
  },
  {
   "cell_type": "markdown",
   "metadata": {},
   "source": [
    "13. In what business scenario you should use CF based Recommendation Systems?"
   ]
  },
  {
   "cell_type": "markdown",
   "metadata": {},
   "source": [
    "CF based Recommendation Systems can help in recommending the product the user can buy on ecommerce website. A collaborative filtering recommendation system for television tastes could make predictions about which television show a user should like given a partial list of that user's tastes (likes or dislikes). It can also be used to recommend the web series to a user."
   ]
  },
  {
   "cell_type": "markdown",
   "metadata": {},
   "source": [
    "14. What other possible methods can you think of which can further improve the recommendation for different users?"
   ]
  },
  {
   "cell_type": "markdown",
   "metadata": {},
   "source": [
    "Other ways to improve Recommendation System\n",
    "Ditch User-Based Collaborative Filtering Model, use Nearest neighbour collaborative filtering and boost Algorithm Using Model Size. Demographic based recommender system, Knowledge based recommender system and Hybrid recommender system are the other models that can be used "
   ]
  }
 ],
 "metadata": {
  "kernelspec": {
   "display_name": "Python 3",
   "language": "python",
   "name": "python3"
  },
  "language_info": {
   "codemirror_mode": {
    "name": "ipython",
    "version": 3
   },
   "file_extension": ".py",
   "mimetype": "text/x-python",
   "name": "python",
   "nbconvert_exporter": "python",
   "pygments_lexer": "ipython3",
   "version": "3.8.3"
  }
 },
 "nbformat": 4,
 "nbformat_minor": 4
}
